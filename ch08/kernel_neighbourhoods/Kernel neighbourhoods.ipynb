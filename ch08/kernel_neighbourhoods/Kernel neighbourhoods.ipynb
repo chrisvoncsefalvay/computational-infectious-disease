{
 "cells":[
  {
   "cell_type":"code",
   "source":[
    "import numpy as np\n",
    "from scipy import stats, ndimage\n",
    "from matplotlib import pyplot as plt\n",
    "import seaborn as sns\n",
    "from matplotlib.colors import PowerNorm\n",
    "from matplotlib import rcParams\n",
    "from math import floor\n",
    "\n",
    "COLORS = {\"S\": \"#2f4b7c\",\n",
    "          \"E\": \"#ffa600\",\n",
    "          \"I\": \"#f95d6a\",\n",
    "          \"R\": \"#a05195\",\n",
    "          \"D\": \"#003f5c\",\n",
    "          \"C\": \"#ff7c43\",\n",
    "          \"X\": \"#665191\",\n",
    "          \"Y\": \"#d45087\"}"
   ],
   "execution_count":42,
   "outputs":[
    
   ],
   "metadata":{
    "datalore":{
     "type":"CODE",
     "hide_input_from_viewers":false,
     "hide_output_from_viewers":false
    }
   }
  },
  {
   "cell_type":"code",
   "source":[
    "xsize, ysize = 40, 40\n",
    "max_iterations = 100\n",
    "gamma = 1\/6"
   ],
   "execution_count":43,
   "outputs":[
    
   ],
   "metadata":{
    "datalore":{
     "type":"CODE",
     "hide_input_from_viewers":false,
     "hide_output_from_viewers":false
    }
   }
  },
  {
   "cell_type":"code",
   "source":[
    "beta_matrix = stats.norm(0.7, 0.005).rvs(size=xsize * ysize).reshape(xsize, ysize)"
   ],
   "execution_count":44,
   "outputs":[
    
   ],
   "metadata":{
    "datalore":{
     "type":"CODE",
     "hide_input_from_viewers":false,
     "hide_output_from_viewers":false
    }
   }
  },
  {
   "cell_type":"code",
   "source":[
    "I_0_matrix = stats.norm(1e-2, 1e-4).rvs(size=xsize * ysize).reshape(xsize, ysize)\n",
    "spot = (floor(xsize\/3), floor(ysize\/3))\n",
    "width = floor(xsize\/10)\n",
    "\n",
    "I_0_matrix[spot[0]-width:spot[0]+width, spot[1]-width:spot[1]+width] = stats.norm(5e-2, 1e-3).rvs(size=(2 * width)**2).reshape(2*width, 2*width)\n",
    "S_0_matrix = np.ones(shape=(xsize, ysize)) - I_0_matrix"
   ],
   "execution_count":45,
   "outputs":[
    
   ],
   "metadata":{
    "datalore":{
     "type":"CODE",
     "hide_input_from_viewers":false,
     "hide_output_from_viewers":false
    }
   }
  },
  {
   "cell_type":"code",
   "source":[
    "population_matrix = stats.norm(1e3, 3e2).rvs(size=xsize * ysize).reshape(xsize, ysize)\n",
    "\n",
    "N = np.sum(population_matrix)"
   ],
   "execution_count":46,
   "outputs":[
    
   ],
   "metadata":{
    "datalore":{
     "type":"CODE",
     "hide_input_from_viewers":false,
     "hide_output_from_viewers":false
    }
   }
  },
  {
   "cell_type":"code",
   "source":[
    "S_0_matrix *= population_matrix\n",
    "I_0_matrix *= population_matrix"
   ],
   "execution_count":47,
   "outputs":[
    
   ],
   "metadata":{
    "datalore":{
     "type":"CODE",
     "hide_input_from_viewers":false,
     "hide_output_from_viewers":false
    }
   }
  },
  {
   "cell_type":"code",
   "source":[
    "fig, axes = plt.subplots(1, 1, figsize=(6, 5.5))\n",
    "sns.heatmap(I_0_matrix )"
   ],
   "execution_count":48,
   "outputs":[
    {
     "data":{
      "text\/plain":[
       "<AxesSubplot:>"
      ]
     },
     "metadata":{
      
     },
     "output_type":"display_data"
    }
   ],
   "metadata":{
    "datalore":{
     "type":"CODE",
     "hide_input_from_viewers":false,
     "hide_output_from_viewers":false
    }
   }
  },
  {
   "cell_type":"code",
   "source":[
    "I_arr, S_arr, R_arr = [I_0_matrix], [S_0_matrix], [np.zeros_like(S_0_matrix)]"
   ],
   "execution_count":49,
   "outputs":[
    
   ],
   "metadata":{
    "datalore":{
     "type":"CODE",
     "hide_input_from_viewers":false,
     "hide_output_from_viewers":false
    }
   }
  },
  {
   "cell_type":"code",
   "source":[
    "for i in range(max_iterations):\n",
    "    kernel = np.array(np.ones(shape=(6, 6)))\n",
    "\n",
    "    I_prev_neighbourhood = ndimage.convolve(I_arr[-1], weights=kernel, mode=\"reflect\")\n",
    "    S_prev_neighbourhood = ndimage.convolve(S_arr[-1], weights=kernel, mode=\"reflect\")\n",
    "    R_prev_neighbourhood = ndimage.convolve(R_arr[-1], weights=kernel, mode=\"reflect\")\n",
    "    \n",
    "    N_prev = I_prev_neighbourhood + S_prev_neighbourhood + R_prev_neighbourhood\n",
    "\n",
    "    S_arr.append(S_arr[-1] - beta_matrix * S_arr[-1]\/N_prev * I_prev_neighbourhood)\n",
    "    I_arr.append(I_arr[-1] + beta_matrix * S_arr[-1]\/N_prev * I_prev_neighbourhood - gamma * I_arr[-1])\n",
    "    R_arr.append(R_arr[-1] + gamma * I_arr[-1])"
   ],
   "execution_count":50,
   "outputs":[
    
   ],
   "metadata":{
    "datalore":{
     "type":"CODE",
     "hide_input_from_viewers":false,
     "hide_output_from_viewers":false
    }
   }
  },
  {
   "cell_type":"code",
   "source":[
    "fig, axes = plt.subplots(1, 5, figsize=(10, 2), gridspec_kw={\"width_ratios\": [1,1,1,1,0.08]})\n",
    "\n",
    "\n",
    "sns.heatmap(I_arr[7]\/N_prev, ax=axes[0], cbar=False, cmap=sns.color_palette(\"viridis\", as_cmap=True))\n",
    "sns.heatmap(I_arr[10]\/N_prev, ax=axes[1], cbar=False, cmap=sns.color_palette(\"viridis\", as_cmap=True))\n",
    "sns.heatmap(I_arr[13]\/N_prev, ax=axes[2], cbar=False, cmap=sns.color_palette(\"viridis\", as_cmap=True))\n",
    "sns.heatmap(I_arr[16]\/N_prev, ax=axes[3],  cbar_ax=axes[4], cmap=sns.color_palette(\"viridis\", as_cmap=True))\n",
    "\n",
    "for a in axes[0:4]:\n",
    "    a.set(xticklabels=[], yticklabels=[])\n",
    "\n",
    "plt.savefig(\"spatial_lattice_interaction_days.pdf\")"
   ],
   "execution_count":51,
   "outputs":[
    
   ],
   "metadata":{
    "datalore":{
     "type":"CODE",
     "hide_input_from_viewers":false,
     "hide_output_from_viewers":false
    }
   }
  },
  {
   "cell_type":"code",
   "source":[
    "I_fractions = np.dstack(I_arr)\n",
    "S_fractions = np.dstack(S_arr)"
   ],
   "execution_count":52,
   "outputs":[
    
   ],
   "metadata":{
    "datalore":{
     "type":"CODE",
     "hide_input_from_viewers":false,
     "hide_output_from_viewers":false
    }
   }
  },
  {
   "cell_type":"code",
   "source":[
    "fig = plt.figure(facecolor=\"w\", figsize=(15, 6))\n",
    "ax = fig.add_subplot(111, axisbelow=True)\n",
    "ax.plot(range(I_fractions.shape[2]), [I_fractions[:, :, i].mean() for i in range(I_fractions.shape[2])], color=COLORS[\"I\"], alpha=0.5, lw=2, label=\"Infectious\")\n",
    "ax.plot(range(S_fractions.shape[2]), [S_fractions[:, :, i].mean() for i in range(S_fractions.shape[2])], color=COLORS[\"S\"], alpha=0.5, lw=2, label=\"Susceptible\")\n",
    "\n",
    "ax.set_xlabel('Time (days)')\n",
    "ax.set_ylabel(\"Population in compartment\")\n",
    "ax.set_xlim(0, 60)\n",
    "ax.grid(b=True, which='major', c='w', lw=2, ls='-')\n",
    "\n",
    "for spine in (\"top\", \"right\"):\n",
    "    ax.spines[spine].set_visible(False)\n",
    "\n",
    "legend = ax.legend()\n",
    "legend.get_frame().set_alpha(0.5)\n",
    "\n",
    "#ax.set_yscale(\"log\")\n",
    "\n",
    "fig.subplots_adjust(bottom=0.25)\n",
    "plt.legend(title='', bbox_to_anchor=(0.5, -0.3), loc=\"lower center\", ncol=3, frameon=False)\n",
    "\n",
    "plt.savefig(\"sir_from_interaction_lattice.pdf\")\n",
    "plt.show()"
   ],
   "execution_count":53,
   "outputs":[
    {
     "name":"stderr",
     "text":[
      "<ipython-input-53-a4782ee04be0>:9: MatplotlibDeprecationWarning: The 'b' parameter of grid() has been renamed 'visible' since Matplotlib 3.5; support for the old name will be dropped two minor releases later.\n",
      "  ax.grid(b=True, which='major', c='w', lw=2, ls='-')\n"
     ],
     "output_type":"stream"
    }
   ],
   "metadata":{
    "datalore":{
     "type":"CODE",
     "hide_input_from_viewers":false,
     "hide_output_from_viewers":false
    }
   }
  },
  {
   "cell_type":"code",
   "source":[
    "fig = plt.figure(facecolor=\"w\", figsize=(15, 6))\n",
    "ax = fig.add_subplot(111, axisbelow=True)\n",
    "ax.plot(I_fractions.reshape(xsize * ysize, 101).T, color=COLORS[\"I\"], alpha=0.02, lw=2, label=None)\n",
    "ax.plot(S_fractions.reshape(xsize * ysize, 101).T, color=COLORS[\"S\"], alpha=0.02, lw=2, label=None)\n",
    "\n",
    "ax.plot(range(I_fractions.shape[2]), [I_fractions[:, :, i].mean() for i in range(I_fractions.shape[2])], color=COLORS[\"I\"], linestyle=\"dashed\", alpha=0.5, lw=2, label=\"Infectious\")\n",
    "ax.plot(range(S_fractions.shape[2]), [S_fractions[:, :, i].mean() for i in range(S_fractions.shape[2])], color=COLORS[\"S\"], linestyle=\"dotted\", alpha=0.5, lw=2, label=\"Susceptible\")\n",
    "\n",
    "\n",
    "ax.set_xlabel('Time (days)')\n",
    "ax.set_ylabel(\"Population in compartment\")\n",
    "ax.set_xlim(0, 35)\n",
    "ax.grid(b=True, which='major', c='w', lw=2, ls='-')\n",
    "\n",
    "for spine in (\"top\", \"right\"):\n",
    "    ax.spines[spine].set_visible(False)\n",
    "\n",
    "legend = ax.legend([\"Infectious\", \"Susceptible\"])\n",
    "legend.get_frame().set_alpha(0.5)\n",
    "\n",
    "fig.subplots_adjust(bottom=0.25)\n",
    "plt.legend(title='', bbox_to_anchor=(0.5, -0.3), loc=\"lower center\", ncol=3, frameon=False)\n",
    "\n",
    "plt.savefig(\"sir_from_interacting_lattice.pdf\")\n",
    "plt.show()"
   ],
   "execution_count":54,
   "outputs":[
    {
     "name":"stderr",
     "text":[
      "<ipython-input-54-76efcfc3f19b>:13: MatplotlibDeprecationWarning: The 'b' parameter of grid() has been renamed 'visible' since Matplotlib 3.5; support for the old name will be dropped two minor releases later.\n",
      "  ax.grid(b=True, which='major', c='w', lw=2, ls='-')\n"
     ],
     "output_type":"stream"
    }
   ],
   "metadata":{
    "datalore":{
     "type":"CODE",
     "hide_input_from_viewers":false,
     "hide_output_from_viewers":false
    }
   }
  }
 ],
 "metadata":{
  "datalore":{
   "version":1,
   "computation_mode":"JUPYTER",
   "package_manager":"pip",
   "base_environment":"default",
   "packages":[
    
   ]
  }
 },
 "nbformat":4,
 "nbformat_minor":4
}
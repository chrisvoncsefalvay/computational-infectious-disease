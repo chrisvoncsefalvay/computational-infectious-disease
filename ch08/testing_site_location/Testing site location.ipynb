{
 "cells": [
  {
   "cell_type": "code",
   "execution_count": 3,
   "outputs": [],
   "source": [
    "!unset DYLD_FALLBACK_LIBRARY_PATH"
   ],
   "metadata": {
    "collapsed": false,
    "pycharm": {
     "name": "#%%\n"
    }
   }
  },
  {
   "cell_type": "code",
   "source": [
    "import numpy as np\n",
    "import pandas as pd\n",
    "import matplotlib\n",
    "from matplotlib import pyplot as plt\n",
    "import matplotlib.colors as colors\n",
    "from mpl_toolkits.axes_grid1.inset_locator import inset_axes\n",
    "import osmnx\n",
    "import igraph as ig\n",
    "from spopt.locate import PMedian\n",
    "import pulp\n",
    "import networkx as nx\n",
    "import random\n",
    "import warnings\n",
    "from tqdm import auto as tqdm\n",
    "\n",
    "SMALL_SIZE = 5\n",
    "matplotlib.rc('font', size=SMALL_SIZE)\n",
    "matplotlib.rc('axes', titlesize=SMALL_SIZE)\n",
    "\n",
    "random.seed(1234)\n",
    "\n",
    "COLORS = {\"S\": \"#2f4b7c\",\n",
    "          \"E\": \"#ffa600\",\n",
    "          \"I\": \"#f95d6a\",\n",
    "          \"R\": \"#a05195\",\n",
    "          \"D\": \"#003f5c\",\n",
    "          \"C\": \"#ff7c43\",\n",
    "          \"X\": \"#665191\",\n",
    "          \"Y\": \"#d45087\"}\n",
    "\n",
    "warnings.filterwarnings(\"ignore\")-----------------------------------------------\n",
    "OSError                                   Traceback (most recent call last)\n",
    "<ipython-input-4-b525cfff"
   ],
   "execution_count": 4,
   "outputs": [
    {
     "ename": "OSError",
     "evalue": "Could not find lib c or load any of its variants [].",
     "output_type": "error",
     "traceback": [
      "\u001B[0;31m---------------------------------------------------------------------------\u001B[0m",
      "\u001B[0;31mOSError\u001B[0m                                   Traceback (most recent call last)",
      "\u001B[0;32m<ipython-input-4-b525cfff5473>\u001B[0m in \u001B[0;36m<module>\u001B[0;34m\u001B[0m\n\u001B[1;32m      5\u001B[0m \u001B[0;32mimport\u001B[0m \u001B[0mmatplotlib\u001B[0m\u001B[0;34m.\u001B[0m\u001B[0mcolors\u001B[0m \u001B[0;32mas\u001B[0m \u001B[0mcolors\u001B[0m\u001B[0;34m\u001B[0m\u001B[0;34m\u001B[0m\u001B[0m\n\u001B[1;32m      6\u001B[0m \u001B[0;32mfrom\u001B[0m \u001B[0mmpl_toolkits\u001B[0m\u001B[0;34m.\u001B[0m\u001B[0maxes_grid1\u001B[0m\u001B[0;34m.\u001B[0m\u001B[0minset_locator\u001B[0m \u001B[0;32mimport\u001B[0m \u001B[0minset_axes\u001B[0m\u001B[0;34m\u001B[0m\u001B[0;34m\u001B[0m\u001B[0m\n\u001B[0;32m----> 7\u001B[0;31m \u001B[0;32mimport\u001B[0m \u001B[0mosmnx\u001B[0m\u001B[0;34m\u001B[0m\u001B[0;34m\u001B[0m\u001B[0m\n\u001B[0m\u001B[1;32m      8\u001B[0m \u001B[0;32mimport\u001B[0m \u001B[0migraph\u001B[0m \u001B[0;32mas\u001B[0m \u001B[0mig\u001B[0m\u001B[0;34m\u001B[0m\u001B[0;34m\u001B[0m\u001B[0m\n\u001B[1;32m      9\u001B[0m \u001B[0;32mfrom\u001B[0m \u001B[0mspopt\u001B[0m\u001B[0;34m.\u001B[0m\u001B[0mlocate\u001B[0m \u001B[0;32mimport\u001B[0m \u001B[0mPMedian\u001B[0m\u001B[0;34m\u001B[0m\u001B[0;34m\u001B[0m\u001B[0m\n",
      "\u001B[0;32m/Library/Frameworks/Python.framework/Versions/3.7/lib/python3.7/site-packages/osmnx/__init__.py\u001B[0m in \u001B[0;36m<module>\u001B[0;34m\u001B[0m\n\u001B[1;32m      1\u001B[0m \u001B[0;34m\"\"\"OSMnx init.\"\"\"\u001B[0m\u001B[0;34m\u001B[0m\u001B[0;34m\u001B[0m\u001B[0m\n\u001B[1;32m      2\u001B[0m \u001B[0;34m\u001B[0m\u001B[0m\n\u001B[0;32m----> 3\u001B[0;31m \u001B[0;32mfrom\u001B[0m \u001B[0;34m.\u001B[0m\u001B[0m_api\u001B[0m \u001B[0;32mimport\u001B[0m \u001B[0;34m*\u001B[0m\u001B[0;34m\u001B[0m\u001B[0;34m\u001B[0m\u001B[0m\n\u001B[0m\u001B[1;32m      4\u001B[0m \u001B[0;32mfrom\u001B[0m \u001B[0;34m.\u001B[0m\u001B[0m_version\u001B[0m \u001B[0;32mimport\u001B[0m \u001B[0m__version__\u001B[0m\u001B[0;34m\u001B[0m\u001B[0;34m\u001B[0m\u001B[0m\n",
      "\u001B[0;32m/Library/Frameworks/Python.framework/Versions/3.7/lib/python3.7/site-packages/osmnx/_api.py\u001B[0m in \u001B[0;36m<module>\u001B[0;34m\u001B[0m\n\u001B[1;32m      1\u001B[0m \u001B[0;34m\"\"\"Expose most common parts of public API directly in `osmnx.` namespace.\"\"\"\u001B[0m\u001B[0;34m\u001B[0m\u001B[0;34m\u001B[0m\u001B[0m\n\u001B[1;32m      2\u001B[0m \u001B[0;34m\u001B[0m\u001B[0m\n\u001B[0;32m----> 3\u001B[0;31m \u001B[0;32mfrom\u001B[0m \u001B[0;34m.\u001B[0m\u001B[0mbearing\u001B[0m \u001B[0;32mimport\u001B[0m \u001B[0madd_edge_bearings\u001B[0m\u001B[0;34m\u001B[0m\u001B[0;34m\u001B[0m\u001B[0m\n\u001B[0m\u001B[1;32m      4\u001B[0m \u001B[0;32mfrom\u001B[0m \u001B[0;34m.\u001B[0m\u001B[0mbearing\u001B[0m \u001B[0;32mimport\u001B[0m \u001B[0morientation_entropy\u001B[0m\u001B[0;34m\u001B[0m\u001B[0;34m\u001B[0m\u001B[0m\n\u001B[1;32m      5\u001B[0m \u001B[0;32mfrom\u001B[0m \u001B[0;34m.\u001B[0m\u001B[0mbearing\u001B[0m \u001B[0;32mimport\u001B[0m \u001B[0mplot_orientation\u001B[0m\u001B[0;34m\u001B[0m\u001B[0;34m\u001B[0m\u001B[0m\n",
      "\u001B[0;32m/Library/Frameworks/Python.framework/Versions/3.7/lib/python3.7/site-packages/osmnx/bearing.py\u001B[0m in \u001B[0;36m<module>\u001B[0;34m\u001B[0m\n\u001B[1;32m      7\u001B[0m \u001B[0;32mimport\u001B[0m \u001B[0mnumpy\u001B[0m \u001B[0;32mas\u001B[0m \u001B[0mnp\u001B[0m\u001B[0;34m\u001B[0m\u001B[0;34m\u001B[0m\u001B[0m\n\u001B[1;32m      8\u001B[0m \u001B[0;34m\u001B[0m\u001B[0m\n\u001B[0;32m----> 9\u001B[0;31m \u001B[0;32mfrom\u001B[0m \u001B[0;34m.\u001B[0m \u001B[0;32mimport\u001B[0m \u001B[0mprojection\u001B[0m\u001B[0;34m\u001B[0m\u001B[0;34m\u001B[0m\u001B[0m\n\u001B[0m\u001B[1;32m     10\u001B[0m \u001B[0;34m\u001B[0m\u001B[0m\n\u001B[1;32m     11\u001B[0m \u001B[0;31m# scipy is an optional dependency for entropy calculation\u001B[0m\u001B[0;34m\u001B[0m\u001B[0;34m\u001B[0m\u001B[0;34m\u001B[0m\u001B[0m\n",
      "\u001B[0;32m/Library/Frameworks/Python.framework/Versions/3.7/lib/python3.7/site-packages/osmnx/projection.py\u001B[0m in \u001B[0;36m<module>\u001B[0;34m\u001B[0m\n\u001B[1;32m      1\u001B[0m \u001B[0;34m\"\"\"Project spatial geometries and spatial networks.\"\"\"\u001B[0m\u001B[0;34m\u001B[0m\u001B[0;34m\u001B[0m\u001B[0m\n\u001B[1;32m      2\u001B[0m \u001B[0;34m\u001B[0m\u001B[0m\n\u001B[0;32m----> 3\u001B[0;31m \u001B[0;32mimport\u001B[0m \u001B[0mgeopandas\u001B[0m \u001B[0;32mas\u001B[0m \u001B[0mgpd\u001B[0m\u001B[0;34m\u001B[0m\u001B[0;34m\u001B[0m\u001B[0m\n\u001B[0m\u001B[1;32m      4\u001B[0m \u001B[0;32mimport\u001B[0m \u001B[0mnumpy\u001B[0m \u001B[0;32mas\u001B[0m \u001B[0mnp\u001B[0m\u001B[0;34m\u001B[0m\u001B[0;34m\u001B[0m\u001B[0m\n\u001B[1;32m      5\u001B[0m \u001B[0;32mfrom\u001B[0m \u001B[0mpyproj\u001B[0m \u001B[0;32mimport\u001B[0m \u001B[0mCRS\u001B[0m\u001B[0;34m\u001B[0m\u001B[0;34m\u001B[0m\u001B[0m\n",
      "\u001B[0;32m/Library/Frameworks/Python.framework/Versions/3.7/lib/python3.7/site-packages/geopandas/__init__.py\u001B[0m in \u001B[0;36m<module>\u001B[0;34m\u001B[0m\n\u001B[0;32m----> 1\u001B[0;31m \u001B[0;32mfrom\u001B[0m \u001B[0mgeopandas\u001B[0m\u001B[0;34m.\u001B[0m\u001B[0m_config\u001B[0m \u001B[0;32mimport\u001B[0m \u001B[0moptions\u001B[0m  \u001B[0;31m# noqa\u001B[0m\u001B[0;34m\u001B[0m\u001B[0;34m\u001B[0m\u001B[0m\n\u001B[0m\u001B[1;32m      2\u001B[0m \u001B[0;34m\u001B[0m\u001B[0m\n\u001B[1;32m      3\u001B[0m \u001B[0;32mfrom\u001B[0m \u001B[0mgeopandas\u001B[0m\u001B[0;34m.\u001B[0m\u001B[0mgeoseries\u001B[0m \u001B[0;32mimport\u001B[0m \u001B[0mGeoSeries\u001B[0m  \u001B[0;31m# noqa\u001B[0m\u001B[0;34m\u001B[0m\u001B[0;34m\u001B[0m\u001B[0m\n\u001B[1;32m      4\u001B[0m \u001B[0;32mfrom\u001B[0m \u001B[0mgeopandas\u001B[0m\u001B[0;34m.\u001B[0m\u001B[0mgeodataframe\u001B[0m \u001B[0;32mimport\u001B[0m \u001B[0mGeoDataFrame\u001B[0m  \u001B[0;31m# noqa\u001B[0m\u001B[0;34m\u001B[0m\u001B[0;34m\u001B[0m\u001B[0m\n\u001B[1;32m      5\u001B[0m \u001B[0;32mfrom\u001B[0m \u001B[0mgeopandas\u001B[0m\u001B[0;34m.\u001B[0m\u001B[0marray\u001B[0m \u001B[0;32mimport\u001B[0m \u001B[0mpoints_from_xy\u001B[0m  \u001B[0;31m# noqa\u001B[0m\u001B[0;34m\u001B[0m\u001B[0;34m\u001B[0m\u001B[0m\n",
      "\u001B[0;32m/Library/Frameworks/Python.framework/Versions/3.7/lib/python3.7/site-packages/geopandas/_config.py\u001B[0m in \u001B[0;36m<module>\u001B[0;34m\u001B[0m\n\u001B[1;32m    107\u001B[0m use_pygeos = Option(\n\u001B[1;32m    108\u001B[0m     \u001B[0mkey\u001B[0m\u001B[0;34m=\u001B[0m\u001B[0;34m\"use_pygeos\"\u001B[0m\u001B[0;34m,\u001B[0m\u001B[0;34m\u001B[0m\u001B[0;34m\u001B[0m\u001B[0m\n\u001B[0;32m--> 109\u001B[0;31m     \u001B[0mdefault_value\u001B[0m\u001B[0;34m=\u001B[0m\u001B[0m_default_use_pygeos\u001B[0m\u001B[0;34m(\u001B[0m\u001B[0;34m)\u001B[0m\u001B[0;34m,\u001B[0m\u001B[0;34m\u001B[0m\u001B[0;34m\u001B[0m\u001B[0m\n\u001B[0m\u001B[1;32m    110\u001B[0m     doc=(\n\u001B[1;32m    111\u001B[0m         \u001B[0;34m\"Whether to use PyGEOS to speed up spatial operations. The default is True \"\u001B[0m\u001B[0;34m\u001B[0m\u001B[0;34m\u001B[0m\u001B[0m\n",
      "\u001B[0;32m/Library/Frameworks/Python.framework/Versions/3.7/lib/python3.7/site-packages/geopandas/_config.py\u001B[0m in \u001B[0;36m_default_use_pygeos\u001B[0;34m()\u001B[0m\n\u001B[1;32m     93\u001B[0m \u001B[0;34m\u001B[0m\u001B[0m\n\u001B[1;32m     94\u001B[0m \u001B[0;32mdef\u001B[0m \u001B[0m_default_use_pygeos\u001B[0m\u001B[0;34m(\u001B[0m\u001B[0;34m)\u001B[0m\u001B[0;34m:\u001B[0m\u001B[0;34m\u001B[0m\u001B[0;34m\u001B[0m\u001B[0m\n\u001B[0;32m---> 95\u001B[0;31m     \u001B[0;32mimport\u001B[0m \u001B[0mgeopandas\u001B[0m\u001B[0;34m.\u001B[0m\u001B[0m_compat\u001B[0m \u001B[0;32mas\u001B[0m \u001B[0mcompat\u001B[0m\u001B[0;34m\u001B[0m\u001B[0;34m\u001B[0m\u001B[0m\n\u001B[0m\u001B[1;32m     96\u001B[0m \u001B[0;34m\u001B[0m\u001B[0m\n\u001B[1;32m     97\u001B[0m     \u001B[0;32mreturn\u001B[0m \u001B[0mcompat\u001B[0m\u001B[0;34m.\u001B[0m\u001B[0mUSE_PYGEOS\u001B[0m\u001B[0;34m\u001B[0m\u001B[0;34m\u001B[0m\u001B[0m\n",
      "\u001B[0;32m/Library/Frameworks/Python.framework/Versions/3.7/lib/python3.7/site-packages/geopandas/_compat.py\u001B[0m in \u001B[0;36m<module>\u001B[0;34m\u001B[0m\n\u001B[1;32m      9\u001B[0m \u001B[0;32mimport\u001B[0m \u001B[0mpyproj\u001B[0m\u001B[0;34m\u001B[0m\u001B[0;34m\u001B[0m\u001B[0m\n\u001B[1;32m     10\u001B[0m \u001B[0;32mimport\u001B[0m \u001B[0mshapely\u001B[0m\u001B[0;34m\u001B[0m\u001B[0;34m\u001B[0m\u001B[0m\n\u001B[0;32m---> 11\u001B[0;31m \u001B[0;32mimport\u001B[0m \u001B[0mshapely\u001B[0m\u001B[0;34m.\u001B[0m\u001B[0mgeos\u001B[0m\u001B[0;34m\u001B[0m\u001B[0;34m\u001B[0m\u001B[0m\n\u001B[0m\u001B[1;32m     12\u001B[0m \u001B[0;34m\u001B[0m\u001B[0m\n\u001B[1;32m     13\u001B[0m \u001B[0;34m\u001B[0m\u001B[0m\n",
      "\u001B[0;32m/Library/Frameworks/Python.framework/Versions/3.7/lib/python3.7/site-packages/shapely/geos.py\u001B[0m in \u001B[0;36m<module>\u001B[0;34m\u001B[0m\n\u001B[1;32m    136\u001B[0m         \u001B[0m_lgeos\u001B[0m \u001B[0;34m=\u001B[0m \u001B[0mload_dll\u001B[0m\u001B[0;34m(\u001B[0m\u001B[0;34m'geos_c'\u001B[0m\u001B[0;34m,\u001B[0m \u001B[0mfallbacks\u001B[0m\u001B[0;34m=\u001B[0m\u001B[0malt_paths\u001B[0m\u001B[0;34m)\u001B[0m\u001B[0;34m\u001B[0m\u001B[0;34m\u001B[0m\u001B[0m\n\u001B[1;32m    137\u001B[0m \u001B[0;34m\u001B[0m\u001B[0m\n\u001B[0;32m--> 138\u001B[0;31m     \u001B[0mfree\u001B[0m \u001B[0;34m=\u001B[0m \u001B[0mload_dll\u001B[0m\u001B[0;34m(\u001B[0m\u001B[0;34m'c'\u001B[0m\u001B[0;34m)\u001B[0m\u001B[0;34m.\u001B[0m\u001B[0mfree\u001B[0m\u001B[0;34m\u001B[0m\u001B[0;34m\u001B[0m\u001B[0m\n\u001B[0m\u001B[1;32m    139\u001B[0m     \u001B[0mfree\u001B[0m\u001B[0;34m.\u001B[0m\u001B[0margtypes\u001B[0m \u001B[0;34m=\u001B[0m \u001B[0;34m[\u001B[0m\u001B[0mc_void_p\u001B[0m\u001B[0;34m]\u001B[0m\u001B[0;34m\u001B[0m\u001B[0;34m\u001B[0m\u001B[0m\n\u001B[1;32m    140\u001B[0m     \u001B[0mfree\u001B[0m\u001B[0;34m.\u001B[0m\u001B[0mrestype\u001B[0m \u001B[0;34m=\u001B[0m \u001B[0;32mNone\u001B[0m\u001B[0;34m\u001B[0m\u001B[0;34m\u001B[0m\u001B[0m\n",
      "\u001B[0;32m/Library/Frameworks/Python.framework/Versions/3.7/lib/python3.7/site-packages/shapely/geos.py\u001B[0m in \u001B[0;36mload_dll\u001B[0;34m(libname, fallbacks, mode)\u001B[0m\n\u001B[1;32m     60\u001B[0m         raise OSError(\n\u001B[1;32m     61\u001B[0m             \"Could not find lib {} or load any of its variants {}.\".format(\n\u001B[0;32m---> 62\u001B[0;31m                 libname, fallbacks or []))\n\u001B[0m\u001B[1;32m     63\u001B[0m \u001B[0;34m\u001B[0m\u001B[0m\n\u001B[1;32m     64\u001B[0m \u001B[0m_lgeos\u001B[0m \u001B[0;34m=\u001B[0m \u001B[0;32mNone\u001B[0m\u001B[0;34m\u001B[0m\u001B[0;34m\u001B[0m\u001B[0m\n",
      "\u001B[0;31mOSError\u001B[0m: Could not find lib c or load any of its variants []."
     ]
    }
   ],
   "metadata": {
    "datalore": {
     "type": "CODE",
     "hide_input_from_viewers": false,
     "hide_output_from_viewers": false
    },
    "pycharm": {
     "name": "#%%\n"
    }
   }
  },
  {
   "cell_type": "code",
   "execution_count": 2,
   "outputs": [
    {
     "name": "stdout",
     "output_type": "stream",
     "text": [
      "\u001B[33mDEPRECATION: Python 2.7 will reach the end of its life on January 1st, 2020. Please upgrade your Python as Python 2.7 won't be maintained after that date. A future version of pip will drop support for Python 2.7. More details about Python 2 support in pip, can be found at https://pip.pypa.io/en/latest/development/release-process/#python-2-support\u001B[0m\r\n",
      "\u001B[33mWARNING: Skipping shapely as it is not installed.\u001B[0m\r\n"
     ]
    }
   ],
   "source": [
    "!pip uninstall shapely"
   ],
   "metadata": {
    "collapsed": false,
    "pycharm": {
     "name": "#%%\n"
    }
   }
  },
  {
   "cell_type": "code",
   "source": [
    "%load_ext watermark\n",
    "%watermark --iversions -v -a \"Chris von Csefalvay\" -gu \"chrisvoncsefalvay\" -p pysal,cplex,spopt"
   ],
   "execution_count": null,
   "outputs": [],
   "metadata": {
    "datalore": {
     "type": "CODE",
     "hide_input_from_viewers": false,
     "hide_output_from_viewers": false
    },
    "pycharm": {
     "name": "#%%\n"
    }
   }
  },
  {
   "cell_type": "code",
   "source": [
    "location = \"Alexandria, VA\"\n",
    "p = 4"
   ],
   "execution_count": null,
   "outputs": [],
   "metadata": {
    "datalore": {
     "type": "CODE",
     "hide_input_from_viewers": false,
     "hide_output_from_viewers": false
    },
    "pycharm": {
     "name": "#%%\n"
    }
   }
  },
  {
   "cell_type": "code",
   "source": [
    "%%time\n",
    "graph = osmnx.graph_from_place(location, network_type=\"drive\")"
   ],
   "execution_count": null,
   "outputs": [],
   "metadata": {
    "datalore": {
     "type": "CODE",
     "hide_input_from_viewers": false,
     "hide_output_from_viewers": false
    },
    "pycharm": {
     "name": "#%%\n"
    }
   }
  },
  {
   "cell_type": "code",
   "source": [
    "osmnx.plot_graph(graph)"
   ],
   "execution_count": null,
   "outputs": [],
   "metadata": {
    "datalore": {
     "type": "CODE",
     "hide_input_from_viewers": false,
     "hide_output_from_viewers": false
    },
    "pycharm": {
     "name": "#%%\n"
    }
   }
  },
  {
   "cell_type": "code",
   "source": [
    "graph = osmnx.distance.add_edge_lengths(graph)"
   ],
   "execution_count": null,
   "outputs": [],
   "metadata": {
    "datalore": {
     "type": "CODE",
     "hide_input_from_viewers": false,
     "hide_output_from_viewers": false
    },
    "pycharm": {
     "name": "#%%\n"
    }
   }
  },
  {
   "cell_type": "code",
   "source": [
    "osm_ids = list(graph.nodes)\n",
    "graph = nx.relabel.convert_node_labels_to_integers(graph)\n",
    "\n",
    "osm_id_vals = {k: v for k, v in zip(graph.nodes, osm_ids)}\n",
    "nx.set_node_attributes(graph, osm_id_vals, \"osmid\")\n",
    "\n",
    "i_graph = ig.Graph(directed=True)\n",
    "i_graph.add_vertices(graph.nodes)\n",
    "i_graph.add_edges(graph.edges())\n",
    "i_graph.vs[\"osmid\"] = osm_ids\n",
    "i_graph.es[\"length\"] = list(nx.get_edge_attributes(graph, \"length\").values())"
   ],
   "execution_count": null,
   "outputs": [],
   "metadata": {
    "datalore": {
     "type": "CODE",
     "hide_input_from_viewers": false,
     "hide_output_from_viewers": false
    },
    "pycharm": {
     "name": "#%%\n"
    }
   }
  },
  {
   "cell_type": "code",
   "source": [
    "building_filter = [\"yes\", \"dormitory\", \"terrace\", \"apartments\", \"residential\", \"house\", \"semidetached_house\", \"detached\", \"condominium\", ]"
   ],
   "execution_count": null,
   "outputs": [],
   "metadata": {
    "datalore": {
     "type": "CODE",
     "hide_input_from_viewers": false,
     "hide_output_from_viewers": false
    },
    "pycharm": {
     "name": "#%%\n"
    }
   }
  },
  {
   "cell_type": "code",
   "source": [
    "%%time\n",
    "buildings = osmnx.geometries.geometries_from_place(location, tags={\"building\": True})[[\"geometry\", \"building\"]]\n",
    "buildings = buildings[buildings.building.isin(building_filter)]\n",
    "buildings.geometry = buildings.geometry.to_crs(6350)\n",
    "buildings = buildings[buildings.geometry.apply(lambda x: x.type != \"Point\")]"
   ],
   "execution_count": null,
   "outputs": [],
   "metadata": {
    "datalore": {
     "type": "CODE",
     "hide_input_from_viewers": false,
     "hide_output_from_viewers": false
    },
    "pycharm": {
     "name": "#%%\n"
    }
   }
  },
  {
   "cell_type": "code",
   "source": [
    "buildings[\"nearest_node\"] = osmnx.distance.nearest_nodes(graph, buildings.geometry.centroid.x, buildings.geometry.centroid.y)\n",
    "buildings = buildings.reset_index()"
   ],
   "execution_count": null,
   "outputs": [],
   "metadata": {
    "datalore": {
     "type": "CODE",
     "hide_input_from_viewers": false,
     "hide_output_from_viewers": false
    },
    "pycharm": {
     "name": "#%%\n"
    }
   }
  },
  {
   "cell_type": "code",
   "source": [
    "len(buildings)"
   ],
   "execution_count": null,
   "outputs": [],
   "metadata": {
    "datalore": {
     "type": "CODE",
     "hide_input_from_viewers": false,
     "hide_output_from_viewers": false
    },
    "pycharm": {
     "name": "#%%\n"
    }
   }
  },
  {
   "cell_type": "code",
   "source": [
    "osmnx.plot_footprints(buildings)"
   ],
   "execution_count": null,
   "outputs": [],
   "metadata": {
    "datalore": {
     "type": "CODE",
     "hide_input_from_viewers": false,
     "hide_output_from_viewers": false
    },
    "pycharm": {
     "name": "#%%\n"
    }
   }
  },
  {
   "cell_type": "code",
   "source": [
    "%%time\n",
    "eligible_sites = osmnx.geometries.geometries_from_place(location, tags={\"amenity\": [\"hospital\", \"community_centre\", \"parking\", \"conference_centre\", \"events_venue\"]})[[\"geometry\"]]\n",
    "eligible_sites.geometry = eligible_sites.geometry.to_crs(6350)\n",
    "eligible_sites[\"nearest_node\"] = osmnx.distance.nearest_nodes(graph, eligible_sites.geometry.centroid.x, eligible_sites.geometry.centroid.y)\n",
    "eligible_sites = eligible_sites[eligible_sites.geometry.area > 10000]\n",
    "eligible_sites = eligible_sites[eligible_sites.geometry.apply(lambda x: x.type != \"Point\")]\n",
    "eligible_sites = eligible_sites.reset_index()"
   ],
   "execution_count": null,
   "outputs": [],
   "metadata": {
    "datalore": {
     "type": "CODE",
     "hide_input_from_viewers": false,
     "hide_output_from_viewers": false
    },
    "pycharm": {
     "name": "#%%\n"
    }
   }
  },
  {
   "cell_type": "code",
   "source": [
    "len(eligible_sites)"
   ],
   "execution_count": null,
   "outputs": [],
   "metadata": {
    "datalore": {
     "type": "CODE",
     "hide_input_from_viewers": false,
     "hide_output_from_viewers": false
    },
    "pycharm": {
     "name": "#%%\n"
    }
   }
  },
  {
   "cell_type": "code",
   "source": [
    "osmnx.plot_footprints(eligible_sites)"
   ],
   "execution_count": null,
   "outputs": [],
   "metadata": {
    "datalore": {
     "type": "CODE",
     "hide_input_from_viewers": false,
     "hide_output_from_viewers": false
    },
    "pycharm": {
     "name": "#%%\n"
    }
   }
  },
  {
   "cell_type": "code",
   "source": [
    "cost_matrix = np.zeros(shape=(len(buildings), len(eligible_sites)), dtype=float)"
   ],
   "execution_count": null,
   "outputs": [],
   "metadata": {
    "datalore": {
     "type": "CODE",
     "hide_input_from_viewers": false,
     "hide_output_from_viewers": false
    },
    "pycharm": {
     "name": "#%%\n"
    }
   }
  },
  {
   "cell_type": "code",
   "source": [
    "def get_distance(source_node, destination_node) -> float:\n",
    "   return sum(list(map(lambda x: i_graph.es[x][\"length\"], i_graph.get_shortest_paths(v=source_node, to=destination_node, weights=\"length\", output=\"epath\")[0])))"
   ],
   "execution_count": null,
   "outputs": [],
   "metadata": {
    "datalore": {
     "type": "CODE",
     "hide_input_from_viewers": false,
     "hide_output_from_viewers": false
    },
    "pycharm": {
     "name": "#%%\n"
    }
   }
  },
  {
   "cell_type": "code",
   "source": [
    "%%time\n",
    "\n",
    "for i in tqdm.notebook_trange(len(buildings)):\n",
    "    for j in range(len(eligible_sites)):\n",
    "        cost_matrix[i, j] = get_distance(buildings.loc[i, \"nearest_node\"], eligible_sites.loc[j, \"nearest_node\"])\n",
    "        cost_matrix_idx = buildings.index[i]"
   ],
   "execution_count": null,
   "outputs": [],
   "metadata": {
    "datalore": {
     "type": "CODE",
     "hide_input_from_viewers": false,
     "hide_output_from_viewers": false
    },
    "pycharm": {
     "name": "#%%\n"
    }
   }
  },
  {
   "cell_type": "code",
   "source": [
    "cost_df = pd.DataFrame(cost_matrix, index=buildings.index)\n",
    "cost_df = cost_df.loc[(cost_df != 0).any(axis=1)]"
   ],
   "execution_count": null,
   "outputs": [],
   "metadata": {
    "datalore": {
     "type": "CODE",
     "hide_input_from_viewers": false,
     "hide_output_from_viewers": false
    },
    "pycharm": {
     "name": "#%%\n"
    }
   }
  },
  {
   "cell_type": "code",
   "source": [
    "buildings = buildings.iloc[cost_df.index.to_list()]"
   ],
   "execution_count": null,
   "outputs": [],
   "metadata": {
    "datalore": {
     "type": "CODE",
     "hide_input_from_viewers": false,
     "hide_output_from_viewers": false
    },
    "pycharm": {
     "name": "#%%\n"
    }
   }
  },
  {
   "cell_type": "code",
   "source": [
    "buildings"
   ],
   "execution_count": null,
   "outputs": [],
   "metadata": {
    "datalore": {
     "type": "CODE",
     "hide_input_from_viewers": false,
     "hide_output_from_viewers": false
    },
    "pycharm": {
     "name": "#%%\n"
    }
   }
  },
  {
   "cell_type": "code",
   "source": [
    "cost_matrix = cost_df.to_numpy()"
   ],
   "execution_count": null,
   "outputs": [],
   "metadata": {
    "datalore": {
     "type": "CODE",
     "hide_input_from_viewers": false,
     "hide_output_from_viewers": false
    },
    "pycharm": {
     "name": "#%%\n"
    }
   }
  },
  {
   "cell_type": "code",
   "source": [
    "cost_matrix"
   ],
   "execution_count": null,
   "outputs": [],
   "metadata": {
    "datalore": {
     "type": "CODE",
     "hide_input_from_viewers": false,
     "hide_output_from_viewers": false
    },
    "pycharm": {
     "name": "#%%\n"
    }
   }
  },
  {
   "cell_type": "code",
   "source": [
    "pmedian = PMedian.from_cost_matrix(cost_matrix, weights=np.ones(cost_matrix.shape[0]), p_facilities=p)"
   ],
   "execution_count": null,
   "outputs": [],
   "metadata": {
    "datalore": {
     "type": "CODE",
     "hide_input_from_viewers": false,
     "hide_output_from_viewers": false
    },
    "pycharm": {
     "name": "#%%\n"
    }
   }
  },
  {
   "cell_type": "code",
   "source": [
    "%%time\n",
    "\n",
    "pmedian.solve(pulp.PULP_CBC_CMD())"
   ],
   "execution_count": null,
   "outputs": [],
   "metadata": {
    "datalore": {
     "type": "CODE",
     "hide_input_from_viewers": false,
     "hide_output_from_viewers": false
    },
    "pycharm": {
     "name": "#%%\n"
    }
   }
  },
  {
   "cell_type": "code",
   "source": [
    "pmedian.facility_client_array()\n",
    "pmedian.client_facility_array()"
   ],
   "execution_count": null,
   "outputs": [],
   "metadata": {
    "datalore": {
     "type": "CODE",
     "hide_input_from_viewers": false,
     "hide_output_from_viewers": false
    },
    "pycharm": {
     "name": "#%%\n"
    }
   }
  },
  {
   "cell_type": "code",
   "source": [
    "selected_facilities = np.unique(pmedian.cli2fac).tolist()"
   ],
   "execution_count": null,
   "outputs": [],
   "metadata": {
    "datalore": {
     "type": "CODE",
     "hide_input_from_viewers": false,
     "hide_output_from_viewers": false
    },
    "pycharm": {
     "name": "#%%\n"
    }
   }
  },
  {
   "cell_type": "code",
   "source": [
    "selected_facilities"
   ],
   "execution_count": null,
   "outputs": [],
   "metadata": {
    "datalore": {
     "type": "CODE",
     "hide_input_from_viewers": false,
     "hide_output_from_viewers": false
    },
    "pycharm": {
     "name": "#%%\n"
    }
   }
  },
  {
   "cell_type": "code",
   "source": [
    "pmedian.cli2fac"
   ],
   "execution_count": null,
   "outputs": [],
   "metadata": {
    "datalore": {
     "type": "CODE",
     "hide_input_from_viewers": false,
     "hide_output_from_viewers": false
    },
    "pycharm": {
     "name": "#%%\n"
    }
   }
  },
  {
   "cell_type": "code",
   "source": [
    "buildings[\"assigned_facility\"] = list(map(lambda x: x[0], pmedian.cli2fac))"
   ],
   "execution_count": null,
   "outputs": [],
   "metadata": {
    "datalore": {
     "type": "CODE",
     "hide_input_from_viewers": false,
     "hide_output_from_viewers": false
    },
    "pycharm": {
     "name": "#%%\n"
    }
   }
  },
  {
   "cell_type": "code",
   "source": [
    "conversion = dict(zip(buildings.assigned_facility.unique(), list(\"ABCDEFGHIJKLMNOPQ\")[:len(buildings.assigned_facility.unique())]))"
   ],
   "execution_count": null,
   "outputs": [],
   "metadata": {
    "datalore": {
     "type": "CODE",
     "hide_input_from_viewers": false,
     "hide_output_from_viewers": false
    },
    "pycharm": {
     "name": "#%%\n"
    }
   }
  },
  {
   "cell_type": "code",
   "source": [
    "buildings[\"assigned_facility_label\"] = buildings.assigned_facility.apply(lambda x: conversion[x])"
   ],
   "execution_count": null,
   "outputs": [],
   "metadata": {
    "datalore": {
     "type": "CODE",
     "hide_input_from_viewers": false,
     "hide_output_from_viewers": false
    },
    "pycharm": {
     "name": "#%%\n"
    }
   }
  },
  {
   "cell_type": "code",
   "source": [
    "selected_sites = eligible_sites.iloc[selected_facilities]\n",
    "selected_sites[\"label\"] = selected_sites.index.map(lambda x: conversion[x])\n",
    "\n",
    "buildings[\"assigned_facility_distance\"] = buildings.apply(lambda x: get_distance(x.nearest_node, eligible_sites.iloc[x.assigned_facility].nearest_node), axis=1)"
   ],
   "execution_count": null,
   "outputs": [],
   "metadata": {
    "datalore": {
     "type": "CODE",
     "hide_input_from_viewers": false,
     "hide_output_from_viewers": false
    },
    "pycharm": {
     "name": "#%%\n"
    }
   }
  },
  {
   "cell_type": "code",
   "source": [
    "selected_sites"
   ],
   "execution_count": null,
   "outputs": [],
   "metadata": {
    "datalore": {
     "type": "CODE",
     "hide_input_from_viewers": false,
     "hide_output_from_viewers": false
    },
    "pycharm": {
     "name": "#%%\n"
    }
   }
  },
  {
   "cell_type": "code",
   "source": [
    "nodes, edges = osmnx.graph_to_gdfs(graph)\n",
    "edges.geometry = edges.geometry.to_crs(4326)\n",
    "selected_sites.geometry = selected_sites.geometry.to_crs(4326)\n",
    "buildings.geometry = buildings.geometry.to_crs(4326)\n",
    "eligible_sites.geometry = eligible_sites.geometry.to_crs(4326)\n",
    "\n",
    "circle_centers = selected_sites.geometry.centroid\n",
    "circle_centers.reset_index()\n",
    "circle_size=150\n",
    "middle_scale = \"viridis\"\n",
    "bottom_scale = \"inferno_r\"\n",
    "\n",
    "fig = plt.figure(facecolor=\"w\", figsize=(9, 10), dpi=600)\n",
    "ax = fig.add_subplot(211, axisbelow=True)\n",
    "\n",
    "arterial_roads = edges.loc[edges.highway.isin([\"motorway\", \"trunk\", \"primary\", \"primary_link\"])]\n",
    "secondary_roads = edges.loc[edges.highway.isin([\"secondary\", \"tertiary\", \"residential\"])]\n",
    "\n",
    "arterial_roads.plot(ax=ax, lw=0.5, color='gray', zorder=3)\n",
    "secondary_roads.plot(ax=ax, lw=0.25, color='gray', zorder=3)\n",
    "\n",
    "buildings[buildings.assigned_facility_distance > 0].plot(\"assigned_facility_label\", cmap=middle_scale, ax=ax, alpha=0.8)\n",
    "\n",
    "eligible_sites.plot(ax=ax, color=\"k\", alpha=0.15, zorder=4)\n",
    "\n",
    "selected_sites.plot(\"label\", ax=ax, cmap=middle_scale, zorder=7, legend=False)\n",
    "\n",
    "ax.scatter(circle_centers.x, circle_centers.y, marker=\"o\", edgecolors=\"k\", facecolors=\"none\", s=circle_size, zorder=7)\n",
    "\n",
    "ax = fig.add_subplot(212, axisbelow=True)\n",
    "\n",
    "arterial_roads = edges.loc[edges.highway.isin([\"motorway\", \"trunk\", \"primary\", \"primary_link\"])]\n",
    "secondary_roads = edges.loc[edges.highway.isin([\"secondary\", \"tertiary\", \"residential\"])]\n",
    "\n",
    "arterial_roads.plot(ax=ax, lw=0.5, color='gray', zorder=3)\n",
    "secondary_roads.plot(ax=ax, lw=0.25, color='gray', zorder=3)\n",
    "\n",
    "eligible_sites.plot(ax=ax, color=\"k\", alpha=0.2, zorder=4)\n",
    "\n",
    "selected_sites.plot(ax=ax, color=COLORS[\"X\"], zorder=5)\n",
    "\n",
    "ax.scatter(circle_centers.x, circle_centers.y, marker=\"o\", edgecolors=\"k\", facecolors=\"none\", s=circle_size, zorder=7)\n",
    "\n",
    "dist = buildings[buildings.assigned_facility_distance > 0].plot(\"assigned_facility_distance\", ax=ax, cmap=bottom_scale, legend=False)\n",
    "\n",
    "norm = colors.Normalize(vmin=buildings.assigned_facility_distance.min(), vmax=buildings.assigned_facility_distance.max())\n",
    "cbar = plt.cm.ScalarMappable(norm=norm, cmap=bottom_scale)\n",
    "\n",
    "\n",
    "axins = inset_axes(ax,\n",
    "                    width=\"40%\",  # width = 50% of parent_bbox width\n",
    "                    height=\"3%\",  # height : 5%\n",
    "                    loc='upper left',\n",
    "                   borderpad=3)\n",
    "\n",
    "\n",
    "\n",
    "ax_cbar = fig.colorbar(cbar, cax=axins, orientation=\"horizontal\")\n",
    "\n",
    "plt.savefig(\"testing_site_loc_opt.pdf\")"
   ],
   "execution_count": null,
   "outputs": [],
   "metadata": {
    "datalore": {
     "type": "CODE",
     "hide_input_from_viewers": false,
     "hide_output_from_viewers": false
    },
    "pycharm": {
     "name": "#%%\n"
    }
   }
  }
 ],
 "metadata": {
  "widgets": {
   "application/vnd.jupyter.widget-state+json": {
    "version_major": 2,
    "version_minor": 0,
    "state": {
     "c135666654de488498506aec7534a212": {
      "model_name": "LayoutModel",
      "model_module": "@jupyter-widgets/base",
      "model_module_version": "1.2.0",
      "state": {
       "_model_module": "@jupyter-widgets/base",
       "_model_module_version": "1.2.0",
       "_model_name": "LayoutModel",
       "_view_count": null,
       "_view_module": "@jupyter-widgets/base",
       "_view_module_version": "1.2.0",
       "_view_name": "LayoutView",
       "align_content": null,
       "align_items": null,
       "align_self": null,
       "border": null,
       "bottom": null,
       "display": null,
       "flex": null,
       "flex_flow": null,
       "grid_area": null,
       "grid_auto_columns": null,
       "grid_auto_flow": null,
       "grid_auto_rows": null,
       "grid_column": null,
       "grid_gap": null,
       "grid_row": null,
       "grid_template_areas": null,
       "grid_template_columns": null,
       "grid_template_rows": null,
       "height": null,
       "justify_content": null,
       "justify_items": null,
       "left": null,
       "margin": null,
       "max_height": null,
       "max_width": null,
       "min_height": null,
       "min_width": null,
       "object_fit": null,
       "object_position": null,
       "order": null,
       "overflow": null,
       "overflow_x": null,
       "overflow_y": null,
       "padding": null,
       "right": null,
       "top": null,
       "visibility": null,
       "width": null
      }
     },
     "0ad2a8bb335a4ab9865721a889b171b7": {
      "model_name": "ProgressStyleModel",
      "model_module": "@jupyter-widgets/controls",
      "model_module_version": "1.5.0",
      "state": {
       "_model_module": "@jupyter-widgets/controls",
       "_model_module_version": "1.5.0",
       "_model_name": "ProgressStyleModel",
       "_view_count": null,
       "_view_module": "@jupyter-widgets/base",
       "_view_module_version": "1.2.0",
       "_view_name": "StyleView",
       "bar_color": null,
       "description_width": ""
      }
     },
     "1499a47f72ad4f3992285e360692212c": {
      "model_name": "FloatProgressModel",
      "model_module": "@jupyter-widgets/controls",
      "model_module_version": "1.5.0",
      "state": {
       "_dom_classes": [],
       "_model_module": "@jupyter-widgets/controls",
       "_model_module_version": "1.5.0",
       "_model_name": "FloatProgressModel",
       "_view_count": null,
       "_view_module": "@jupyter-widgets/controls",
       "_view_module_version": "1.5.0",
       "_view_name": "ProgressView",
       "bar_style": "success",
       "description": "",
       "description_tooltip": null,
       "layout": "IPY_MODEL_c135666654de488498506aec7534a212",
       "max": 25706,
       "min": 0,
       "orientation": "horizontal",
       "style": "IPY_MODEL_0ad2a8bb335a4ab9865721a889b171b7",
       "value": 25706
      }
     },
     "9259b85295e24214970287d8c7d95415": {
      "model_name": "LayoutModel",
      "model_module": "@jupyter-widgets/base",
      "model_module_version": "1.2.0",
      "state": {
       "_model_module": "@jupyter-widgets/base",
       "_model_module_version": "1.2.0",
       "_model_name": "LayoutModel",
       "_view_count": null,
       "_view_module": "@jupyter-widgets/base",
       "_view_module_version": "1.2.0",
       "_view_name": "LayoutView",
       "align_content": null,
       "align_items": null,
       "align_self": null,
       "border": null,
       "bottom": null,
       "display": null,
       "flex": null,
       "flex_flow": null,
       "grid_area": null,
       "grid_auto_columns": null,
       "grid_auto_flow": null,
       "grid_auto_rows": null,
       "grid_column": null,
       "grid_gap": null,
       "grid_row": null,
       "grid_template_areas": null,
       "grid_template_columns": null,
       "grid_template_rows": null,
       "height": null,
       "justify_content": null,
       "justify_items": null,
       "left": null,
       "margin": null,
       "max_height": null,
       "max_width": null,
       "min_height": null,
       "min_width": null,
       "object_fit": null,
       "object_position": null,
       "order": null,
       "overflow": null,
       "overflow_x": null,
       "overflow_y": null,
       "padding": null,
       "right": null,
       "top": null,
       "visibility": null,
       "width": null
      }
     },
     "e8b38a8b3d864e9f9e7a77bfc109f7a5": {
      "model_name": "DescriptionStyleModel",
      "model_module": "@jupyter-widgets/controls",
      "model_module_version": "1.5.0",
      "state": {
       "_model_module": "@jupyter-widgets/controls",
       "_model_module_version": "1.5.0",
       "_model_name": "DescriptionStyleModel",
       "_view_count": null,
       "_view_module": "@jupyter-widgets/base",
       "_view_module_version": "1.2.0",
       "_view_name": "StyleView",
       "description_width": ""
      }
     },
     "c380cb470ba64f4babd1bc6f1a0f6350": {
      "model_name": "HTMLModel",
      "model_module": "@jupyter-widgets/controls",
      "model_module_version": "1.5.0",
      "state": {
       "_dom_classes": [],
       "_model_module": "@jupyter-widgets/controls",
       "_model_module_version": "1.5.0",
       "_model_name": "HTMLModel",
       "_view_count": null,
       "_view_module": "@jupyter-widgets/controls",
       "_view_module_version": "1.5.0",
       "_view_name": "HTMLView",
       "description": "",
       "description_tooltip": null,
       "layout": "IPY_MODEL_9259b85295e24214970287d8c7d95415",
       "placeholder": "​",
       "style": "IPY_MODEL_e8b38a8b3d864e9f9e7a77bfc109f7a5",
       "value": "100%",
       "disabled": false
      }
     },
     "d43a7248ae98446db3168dfac22d4a88": {
      "model_name": "LayoutModel",
      "model_module": "@jupyter-widgets/base",
      "model_module_version": "1.2.0",
      "state": {
       "_model_module": "@jupyter-widgets/base",
       "_model_module_version": "1.2.0",
       "_model_name": "LayoutModel",
       "_view_count": null,
       "_view_module": "@jupyter-widgets/base",
       "_view_module_version": "1.2.0",
       "_view_name": "LayoutView",
       "align_content": null,
       "align_items": null,
       "align_self": null,
       "border": null,
       "bottom": null,
       "display": null,
       "flex": null,
       "flex_flow": null,
       "grid_area": null,
       "grid_auto_columns": null,
       "grid_auto_flow": null,
       "grid_auto_rows": null,
       "grid_column": null,
       "grid_gap": null,
       "grid_row": null,
       "grid_template_areas": null,
       "grid_template_columns": null,
       "grid_template_rows": null,
       "height": null,
       "justify_content": null,
       "justify_items": null,
       "left": null,
       "margin": null,
       "max_height": null,
       "max_width": null,
       "min_height": null,
       "min_width": null,
       "object_fit": null,
       "object_position": null,
       "order": null,
       "overflow": null,
       "overflow_x": null,
       "overflow_y": null,
       "padding": null,
       "right": null,
       "top": null,
       "visibility": null,
       "width": null
      }
     },
     "efce3d3bd0fe48e598bb111f2a7fd196": {
      "model_name": "DescriptionStyleModel",
      "model_module": "@jupyter-widgets/controls",
      "model_module_version": "1.5.0",
      "state": {
       "_model_module": "@jupyter-widgets/controls",
       "_model_module_version": "1.5.0",
       "_model_name": "DescriptionStyleModel",
       "_view_count": null,
       "_view_module": "@jupyter-widgets/base",
       "_view_module_version": "1.2.0",
       "_view_name": "StyleView",
       "description_width": ""
      }
     },
     "9c3a4a27bea4479daa31eb91171b7877": {
      "model_name": "HTMLModel",
      "model_module": "@jupyter-widgets/controls",
      "model_module_version": "1.5.0",
      "state": {
       "_dom_classes": [],
       "_model_module": "@jupyter-widgets/controls",
       "_model_module_version": "1.5.0",
       "_model_name": "HTMLModel",
       "_view_count": null,
       "_view_module": "@jupyter-widgets/controls",
       "_view_module_version": "1.5.0",
       "_view_name": "HTMLView",
       "description": "",
       "description_tooltip": null,
       "layout": "IPY_MODEL_d43a7248ae98446db3168dfac22d4a88",
       "placeholder": "​",
       "style": "IPY_MODEL_efce3d3bd0fe48e598bb111f2a7fd196",
       "value": " 25706/25706 [37:42&lt;00:00, 25.38it/s]",
       "disabled": false
      }
     },
     "07bac61ee4c8495184f846ad6b6b6476": {
      "model_name": "LayoutModel",
      "model_module": "@jupyter-widgets/base",
      "model_module_version": "1.2.0",
      "state": {
       "_model_module": "@jupyter-widgets/base",
       "_model_module_version": "1.2.0",
       "_model_name": "LayoutModel",
       "_view_count": null,
       "_view_module": "@jupyter-widgets/base",
       "_view_module_version": "1.2.0",
       "_view_name": "LayoutView",
       "align_content": null,
       "align_items": null,
       "align_self": null,
       "border": null,
       "bottom": null,
       "display": null,
       "flex": null,
       "flex_flow": null,
       "grid_area": null,
       "grid_auto_columns": null,
       "grid_auto_flow": null,
       "grid_auto_rows": null,
       "grid_column": null,
       "grid_gap": null,
       "grid_row": null,
       "grid_template_areas": null,
       "grid_template_columns": null,
       "grid_template_rows": null,
       "height": null,
       "justify_content": null,
       "justify_items": null,
       "left": null,
       "margin": null,
       "max_height": null,
       "max_width": null,
       "min_height": null,
       "min_width": null,
       "object_fit": null,
       "object_position": null,
       "order": null,
       "overflow": null,
       "overflow_x": null,
       "overflow_y": null,
       "padding": null,
       "right": null,
       "top": null,
       "visibility": null,
       "width": null
      }
     },
     "7ce4d69c2aa1457e874073e4dba0c520": {
      "model_name": "HBoxModel",
      "model_module": "@jupyter-widgets/controls",
      "model_module_version": "1.5.0",
      "state": {
       "_dom_classes": [],
       "_model_module": "@jupyter-widgets/controls",
       "_model_module_version": "1.5.0",
       "_model_name": "HBoxModel",
       "_view_count": null,
       "_view_module": "@jupyter-widgets/controls",
       "_view_module_version": "1.5.0",
       "_view_name": "HBoxView",
       "box_style": "",
       "children": [
        "IPY_MODEL_c380cb470ba64f4babd1bc6f1a0f6350",
        "IPY_MODEL_1499a47f72ad4f3992285e360692212c",
        "IPY_MODEL_9c3a4a27bea4479daa31eb91171b7877"
       ],
       "layout": "IPY_MODEL_07bac61ee4c8495184f846ad6b6b6476"
      }
     }
    }
   }
  },
  "datalore": {
   "version": 1,
   "computation_mode": "JUPYTER",
   "package_manager": "pip",
   "base_environment": "default",
   "packages": [
    {
     "name": "osmnx",
     "version": "1.2.0",
     "source": "PIP"
    },
    {
     "name": "pyomo",
     "version": "6.4.1",
     "source": "PIP"
    },
    {
     "name": "glpk",
     "version": "0.4.6",
     "source": "PIP"
    },
    {
     "name": "cplex",
     "version": "22.1.0.0",
     "source": "PIP"
    },
    {
     "name": "pysal",
     "version": "2.6.0",
     "source": "PIP"
    },
    {
     "name": "watermark",
     "version": "2.3.1",
     "source": "PIP"
    },
    {
     "name": "igraph",
     "version": "0.9.11",
     "source": "PIP"
    }
   ]
  }
 },
 "nbformat": 4,
 "nbformat_minor": 4
}
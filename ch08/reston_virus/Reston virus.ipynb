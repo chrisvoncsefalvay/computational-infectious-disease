{
 "cells":[
  {
   "cell_type":"code",
   "source":[
    "from pyrosm import OSM, get_data\n",
    "import osmnx\n",
    "import geopandas as gpd\n",
    "import pandas as pd\n",
    "from matplotlib import pyplot as plt\n",
    "import networkx as nx"
   ],
   "execution_count":1,
   "outputs":[
    {
     "name":"stderr",
     "text":[
      "\/opt\/python\/envs\/default\/lib\/python3.8\/site-packages\/geopandas\/_compat.py:111: UserWarning: The Shapely GEOS version (3.10.2-CAPI-1.16.0) is incompatible with the GEOS version PyGEOS was compiled with (3.10.1-CAPI-1.16.0). Conversions between both will be slow.\n",
      "  warnings.warn(\n"
     ],
     "output_type":"stream"
    }
   ],
   "metadata":{
    "datalore":{
     "type":"CODE",
     "hide_input_from_viewers":false,
     "hide_output_from_viewers":false
    }
   }
  },
  {
   "cell_type":"code",
   "source":[
    "reston = OSM(\"planet_-77.703,38.783_-77.018,39.127.osm.pbf\")"
   ],
   "execution_count":2,
   "outputs":[
    
   ],
   "metadata":{
    "datalore":{
     "type":"CODE",
     "hide_input_from_viewers":false,
     "hide_output_from_viewers":false
    }
   }
  },
  {
   "cell_type":"code",
   "source":[
    "nodes, edges = reston.get_network(network_type=\"driving\", nodes=True)"
   ],
   "execution_count":3,
   "outputs":[
    
   ],
   "metadata":{
    "datalore":{
     "type":"CODE",
     "hide_input_from_viewers":false,
     "hide_output_from_viewers":false
    }
   }
  },
  {
   "cell_type":"code",
   "source":[
    "speed_limits = {\n",
    "    \"residential\": 30,\n",
    "    \"motorway\": 55,\n",
    "    \"road\": 40\n",
    "}"
   ],
   "execution_count":4,
   "outputs":[
    
   ],
   "metadata":{
    "datalore":{
     "type":"CODE",
     "hide_input_from_viewers":false,
     "hide_output_from_viewers":false
    }
   }
  },
  {
   "cell_type":"code",
   "source":[
    "def determine_max_speed(row):\n",
    "    if row.maxspeed:\n",
    "        if \";\" in row.maxspeed:\n",
    "            spd = row.maxspeed.split(\";\")[0]\n",
    "        else:\n",
    "            spd = row.maxspeed\n",
    "\n",
    "        return float(spd.replace(\" mph\", \"\"))\n",
    "    elif row.highway in list(speed_limits.keys()):\n",
    "        return speed_limits[row.highway]\n",
    "    else:\n",
    "        return 35.0"
   ],
   "execution_count":5,
   "outputs":[
    
   ],
   "metadata":{
    "datalore":{
     "type":"CODE",
     "hide_input_from_viewers":false,
     "hide_output_from_viewers":false
    }
   }
  },
  {
   "cell_type":"code",
   "source":[
    "edges[\"max_mph\"] = edges.apply(determine_max_speed, axis=1)"
   ],
   "execution_count":6,
   "outputs":[
    
   ],
   "metadata":{
    "datalore":{
     "type":"CODE",
     "hide_input_from_viewers":false,
     "hide_output_from_viewers":false
    }
   }
  },
  {
   "cell_type":"code",
   "source":[
    "edges.geometry = edges.geometry.to_crs(\"+proj=cea\")\n",
    "nodes.geometry = nodes.geometry.to_crs(\"+proj=cea\")"
   ],
   "execution_count":7,
   "outputs":[
    
   ],
   "metadata":{
    "datalore":{
     "type":"CODE",
     "hide_input_from_viewers":false,
     "hide_output_from_viewers":false
    }
   }
  },
  {
   "cell_type":"code",
   "source":[
    "edges = edges[[\"geometry\", \"u\", \"v\", \"length\", \"max_mph\", \"highway\", \"oneway\"]].to_crs(\"+proj=cea\")\n",
    "nodes = nodes.to_crs(\"+proj=cea\")"
   ],
   "execution_count":8,
   "outputs":[
    
   ],
   "metadata":{
    "datalore":{
     "type":"CODE",
     "hide_input_from_viewers":false,
     "hide_output_from_viewers":false
    }
   }
  },
  {
   "cell_type":"code",
   "source":[
    "edges"
   ],
   "execution_count":9,
   "outputs":[
    {
     "data":{
      "text\/html":[
       "<div>\n",
       "<style scoped>\n",
       "    .dataframe tbody tr th:only-of-type {\n",
       "        vertical-align: middle;\n",
       "    }\n",
       "\n",
       "    .dataframe tbody tr th {\n",
       "        vertical-align: top;\n",
       "    }\n",
       "\n",
       "    .dataframe thead th {\n",
       "        text-align: right;\n",
       "    }\n",
       "<\/style>\n",
       "<table border=\"1\" class=\"dataframe\">\n",
       "  <thead>\n",
       "    <tr style=\"text-align: right;\">\n",
       "      <th><\/th>\n",
       "      <th>geometry<\/th>\n",
       "      <th>u<\/th>\n",
       "      <th>v<\/th>\n",
       "      <th>length<\/th>\n",
       "      <th>max_mph<\/th>\n",
       "      <th>highway<\/th>\n",
       "      <th>oneway<\/th>\n",
       "    <\/tr>\n",
       "  <\/thead>\n",
       "  <tbody>\n",
       "    <tr>\n",
       "      <th>0<\/th>\n",
       "      <td>LINESTRING (-8576972.435 3979717.996, -8576983...<\/td>\n",
       "      <td>1222438006<\/td>\n",
       "      <td>2838546923<\/td>\n",
       "      <td>11.660<\/td>\n",
       "      <td>35.0<\/td>\n",
       "      <td>service<\/td>\n",
       "      <td>None<\/td>\n",
       "    <\/tr>\n",
       "    <tr>\n",
       "      <th>1<\/th>\n",
       "      <td>LINESTRING (-8576983.879 3979712.134, -8577003...<\/td>\n",
       "      <td>2838546923<\/td>\n",
       "      <td>1222438044<\/td>\n",
       "      <td>20.599<\/td>\n",
       "      <td>35.0<\/td>\n",
       "      <td>service<\/td>\n",
       "      <td>None<\/td>\n",
       "    <\/tr>\n",
       "    <tr>\n",
       "      <th>2<\/th>\n",
       "      <td>LINESTRING (-8577003.193 3979701.163, -8577019...<\/td>\n",
       "      <td>1222438044<\/td>\n",
       "      <td>1222437980<\/td>\n",
       "      <td>14.672<\/td>\n",
       "      <td>35.0<\/td>\n",
       "      <td>service<\/td>\n",
       "      <td>None<\/td>\n",
       "    <\/tr>\n",
       "    <tr>\n",
       "      <th>3<\/th>\n",
       "      <td>LINESTRING (-8577332.431 3979794.878, -8577319...<\/td>\n",
       "      <td>262247665<\/td>\n",
       "      <td>1797633369<\/td>\n",
       "      <td>9.727<\/td>\n",
       "      <td>35.0<\/td>\n",
       "      <td>service<\/td>\n",
       "      <td>None<\/td>\n",
       "    <\/tr>\n",
       "    <tr>\n",
       "      <th>4<\/th>\n",
       "      <td>LINESTRING (-8577319.941 3979795.199, -8577253...<\/td>\n",
       "      <td>1797633369<\/td>\n",
       "      <td>1222437964<\/td>\n",
       "      <td>51.769<\/td>\n",
       "      <td>35.0<\/td>\n",
       "      <td>service<\/td>\n",
       "      <td>None<\/td>\n",
       "    <\/tr>\n",
       "    <tr>\n",
       "      <th>...<\/th>\n",
       "      <td>...<\/td>\n",
       "      <td>...<\/td>\n",
       "      <td>...<\/td>\n",
       "      <td>...<\/td>\n",
       "      <td>...<\/td>\n",
       "      <td>...<\/td>\n",
       "      <td>...<\/td>\n",
       "    <\/tr>\n",
       "    <tr>\n",
       "      <th>1151582<\/th>\n",
       "      <td>LINESTRING (-8599639.277 3982379.376, -8599625...<\/td>\n",
       "      <td>9762896753<\/td>\n",
       "      <td>9762896750<\/td>\n",
       "      <td>10.364<\/td>\n",
       "      <td>35.0<\/td>\n",
       "      <td>service<\/td>\n",
       "      <td>None<\/td>\n",
       "    <\/tr>\n",
       "    <tr>\n",
       "      <th>1151583<\/th>\n",
       "      <td>LINESTRING (-8600979.574 3982915.024, -8600968...<\/td>\n",
       "      <td>2404261592<\/td>\n",
       "      <td>9762908929<\/td>\n",
       "      <td>12.261<\/td>\n",
       "      <td>35.0<\/td>\n",
       "      <td>service<\/td>\n",
       "      <td>yes<\/td>\n",
       "    <\/tr>\n",
       "    <tr>\n",
       "      <th>1151584<\/th>\n",
       "      <td>LINESTRING (-8600968.665 3982921.913, -8600960...<\/td>\n",
       "      <td>9762908929<\/td>\n",
       "      <td>9762908930<\/td>\n",
       "      <td>7.681<\/td>\n",
       "      <td>35.0<\/td>\n",
       "      <td>service<\/td>\n",
       "      <td>yes<\/td>\n",
       "    <\/tr>\n",
       "    <tr>\n",
       "      <th>1151585<\/th>\n",
       "      <td>LINESTRING (-8600960.695 3982925.444, -8600929...<\/td>\n",
       "      <td>9762908930<\/td>\n",
       "      <td>9762908932<\/td>\n",
       "      <td>24.512<\/td>\n",
       "      <td>35.0<\/td>\n",
       "      <td>service<\/td>\n",
       "      <td>yes<\/td>\n",
       "    <\/tr>\n",
       "    <tr>\n",
       "      <th>1151586<\/th>\n",
       "      <td>LINESTRING (-8600929.336 3982923.523, -8600919...<\/td>\n",
       "      <td>9762908932<\/td>\n",
       "      <td>9762908931<\/td>\n",
       "      <td>7.997<\/td>\n",
       "      <td>35.0<\/td>\n",
       "      <td>service<\/td>\n",
       "      <td>yes<\/td>\n",
       "    <\/tr>\n",
       "  <\/tbody>\n",
       "<\/table>\n",
       "<p>1151587 rows × 7 columns<\/p>\n",
       "<\/div>"
      ]
     },
     "metadata":{
      
     },
     "output_type":"display_data"
    }
   ],
   "metadata":{
    "datalore":{
     "type":"CODE",
     "hide_input_from_viewers":false,
     "hide_output_from_viewers":false
    }
   }
  },
  {
   "cell_type":"code",
   "source":[
    "edges[\"travel_time\"] = (edges.length * 0.000621371)\/(edges.max_mph \/ 60)"
   ],
   "execution_count":10,
   "outputs":[
    
   ],
   "metadata":{
    "datalore":{
     "type":"CODE",
     "hide_input_from_viewers":false,
     "hide_output_from_viewers":false
    }
   }
  },
  {
   "cell_type":"code",
   "source":[
    "edges.geometry = edges.geometry.to_crs(4326)\n",
    "nodes.geometry = nodes.geometry.to_crs(4326)"
   ],
   "execution_count":11,
   "outputs":[
    
   ],
   "metadata":{
    "datalore":{
     "type":"CODE",
     "hide_input_from_viewers":false,
     "hide_output_from_viewers":false
    }
   }
  },
  {
   "cell_type":"code",
   "source":[
    "dgraph = reston.to_graph(nodes, edges, graph_type=\"networkx\")"
   ],
   "execution_count":12,
   "outputs":[
    
   ],
   "metadata":{
    "datalore":{
     "type":"CODE",
     "hide_input_from_viewers":false,
     "hide_output_from_viewers":false
    }
   }
  },
  {
   "cell_type":"code",
   "source":[
    "osmnx.project_graph(dgraph, to_crs=4326)"
   ],
   "execution_count":13,
   "outputs":[
    {
     "data":{
      "text\/plain":[
       "<networkx.classes.multidigraph.MultiDiGraph at 0x7f327c864700>"
      ]
     },
     "metadata":{
      
     },
     "output_type":"display_data"
    }
   ],
   "metadata":{
    "datalore":{
     "type":"CODE",
     "hide_input_from_viewers":false,
     "hide_output_from_viewers":false
    }
   }
  },
  {
   "cell_type":"code",
   "source":[
    "source_address = \"1946 Isaac Newton Square W, Reston, Virginia\"\n",
    "sourcey, sourcex = osmnx.geocode(source_address)"
   ],
   "execution_count":14,
   "outputs":[
    
   ],
   "metadata":{
    "datalore":{
     "type":"CODE",
     "hide_input_from_viewers":false,
     "hide_output_from_viewers":false
    }
   }
  },
  {
   "cell_type":"code",
   "source":[
    "monkeyhouse, distance_to_monkeyhouse = osmnx.distance.nearest_nodes(dgraph, X=sourcex, Y=sourcey, return_dist=True)\n",
    "travel_times = nx.single_source_dijkstra_path_length(dgraph, source=monkeyhouse, weight=\"travel_time\")"
   ],
   "execution_count":15,
   "outputs":[
    
   ],
   "metadata":{
    "datalore":{
     "type":"CODE",
     "hide_input_from_viewers":false,
     "hide_output_from_viewers":false
    }
   }
  },
  {
   "cell_type":"code",
   "source":[
    "times = pd.DataFrame([list(travel_times.keys()), list(travel_times.values())]).T"
   ],
   "execution_count":16,
   "outputs":[
    
   ],
   "metadata":{
    "datalore":{
     "type":"CODE",
     "hide_input_from_viewers":false,
     "hide_output_from_viewers":false
    }
   }
  },
  {
   "cell_type":"code",
   "source":[
    "times.columns = [\"node_id\", \"travel_time\"]"
   ],
   "execution_count":17,
   "outputs":[
    
   ],
   "metadata":{
    "datalore":{
     "type":"CODE",
     "hide_input_from_viewers":false,
     "hide_output_from_viewers":false
    }
   }
  },
  {
   "cell_type":"code",
   "source":[
    "n = nodes.merge(times, left_on=\"id\", right_on=\"node_id\")"
   ],
   "execution_count":18,
   "outputs":[
    
   ],
   "metadata":{
    "datalore":{
     "type":"CODE",
     "hide_input_from_viewers":false,
     "hide_output_from_viewers":false
    }
   }
  },
  {
   "cell_type":"code",
   "source":[
    "n"
   ],
   "execution_count":19,
   "outputs":[
    {
     "data":{
      "text\/html":[
       "<div>\n",
       "<style scoped>\n",
       "    .dataframe tbody tr th:only-of-type {\n",
       "        vertical-align: middle;\n",
       "    }\n",
       "\n",
       "    .dataframe tbody tr th {\n",
       "        vertical-align: top;\n",
       "    }\n",
       "\n",
       "    .dataframe thead th {\n",
       "        text-align: right;\n",
       "    }\n",
       "<\/style>\n",
       "<table border=\"1\" class=\"dataframe\">\n",
       "  <thead>\n",
       "    <tr style=\"text-align: right;\">\n",
       "      <th><\/th>\n",
       "      <th>lon<\/th>\n",
       "      <th>lat<\/th>\n",
       "      <th>tags<\/th>\n",
       "      <th>timestamp<\/th>\n",
       "      <th>version<\/th>\n",
       "      <th>changeset<\/th>\n",
       "      <th>id<\/th>\n",
       "      <th>geometry<\/th>\n",
       "      <th>node_id<\/th>\n",
       "      <th>travel_time<\/th>\n",
       "    <\/tr>\n",
       "  <\/thead>\n",
       "  <tbody>\n",
       "    <tr>\n",
       "      <th>0<\/th>\n",
       "      <td>-77.048254<\/td>\n",
       "      <td>38.833886<\/td>\n",
       "      <td>None<\/td>\n",
       "      <td>0<\/td>\n",
       "      <td>0<\/td>\n",
       "      <td>0<\/td>\n",
       "      <td>1222438006<\/td>\n",
       "      <td>POINT (-77.04825 38.83389)<\/td>\n",
       "      <td>1.222438e+09<\/td>\n",
       "      <td>29.756144<\/td>\n",
       "    <\/tr>\n",
       "    <tr>\n",
       "      <th>1<\/th>\n",
       "      <td>-77.048357<\/td>\n",
       "      <td>38.833818<\/td>\n",
       "      <td>None<\/td>\n",
       "      <td>0<\/td>\n",
       "      <td>0<\/td>\n",
       "      <td>0<\/td>\n",
       "      <td>2838546923<\/td>\n",
       "      <td>POINT (-77.04836 38.83382)<\/td>\n",
       "      <td>2.838547e+09<\/td>\n",
       "      <td>29.769840<\/td>\n",
       "    <\/tr>\n",
       "    <tr>\n",
       "      <th>2<\/th>\n",
       "      <td>-77.048531<\/td>\n",
       "      <td>38.833691<\/td>\n",
       "      <td>None<\/td>\n",
       "      <td>0<\/td>\n",
       "      <td>0<\/td>\n",
       "      <td>0<\/td>\n",
       "      <td>1222438044<\/td>\n",
       "      <td>POINT (-77.04853 38.83369)<\/td>\n",
       "      <td>1.222438e+09<\/td>\n",
       "      <td>29.793501<\/td>\n",
       "    <\/tr>\n",
       "    <tr>\n",
       "      <th>3<\/th>\n",
       "      <td>-77.048677<\/td>\n",
       "      <td>38.833624<\/td>\n",
       "      <td>None<\/td>\n",
       "      <td>0<\/td>\n",
       "      <td>0<\/td>\n",
       "      <td>0<\/td>\n",
       "      <td>1222437980<\/td>\n",
       "      <td>POINT (-77.04868 38.83362)<\/td>\n",
       "      <td>1.222438e+09<\/td>\n",
       "      <td>29.796457<\/td>\n",
       "    <\/tr>\n",
       "    <tr>\n",
       "      <th>4<\/th>\n",
       "      <td>-77.051488<\/td>\n",
       "      <td>38.834774<\/td>\n",
       "      <td>{'highway': 'traffic_signals', 'source': 'surv...<\/td>\n",
       "      <td>0<\/td>\n",
       "      <td>0<\/td>\n",
       "      <td>0<\/td>\n",
       "      <td>262247665<\/td>\n",
       "      <td>POINT (-77.05149 38.83477)<\/td>\n",
       "      <td>2.622477e+08<\/td>\n",
       "      <td>29.648222<\/td>\n",
       "    <\/tr>\n",
       "    <tr>\n",
       "      <th>...<\/th>\n",
       "      <td>...<\/td>\n",
       "      <td>...<\/td>\n",
       "      <td>...<\/td>\n",
       "      <td>...<\/td>\n",
       "      <td>...<\/td>\n",
       "      <td>...<\/td>\n",
       "      <td>...<\/td>\n",
       "      <td>...<\/td>\n",
       "      <td>...<\/td>\n",
       "      <td>...<\/td>\n",
       "    <\/tr>\n",
       "    <tr>\n",
       "      <th>1060413<\/th>\n",
       "      <td>-77.251900<\/td>\n",
       "      <td>38.864629<\/td>\n",
       "      <td>None<\/td>\n",
       "      <td>0<\/td>\n",
       "      <td>0<\/td>\n",
       "      <td>0<\/td>\n",
       "      <td>9762896749<\/td>\n",
       "      <td>POINT (-77.25190 38.86463)<\/td>\n",
       "      <td>9.762897e+09<\/td>\n",
       "      <td>15.966225<\/td>\n",
       "    <\/tr>\n",
       "    <tr>\n",
       "      <th>1060414<\/th>\n",
       "      <td>-77.251874<\/td>\n",
       "      <td>38.864628<\/td>\n",
       "      <td>{'barrier': 'gate'}<\/td>\n",
       "      <td>0<\/td>\n",
       "      <td>0<\/td>\n",
       "      <td>0<\/td>\n",
       "      <td>9762896753<\/td>\n",
       "      <td>POINT (-77.25187 38.86463)<\/td>\n",
       "      <td>9.762897e+09<\/td>\n",
       "      <td>15.963094<\/td>\n",
       "    <\/tr>\n",
       "    <tr>\n",
       "      <th>1060415<\/th>\n",
       "      <td>-77.263816<\/td>\n",
       "      <td>38.870897<\/td>\n",
       "      <td>None<\/td>\n",
       "      <td>0<\/td>\n",
       "      <td>0<\/td>\n",
       "      <td>0<\/td>\n",
       "      <td>9762908929<\/td>\n",
       "      <td>POINT (-77.26382 38.87090)<\/td>\n",
       "      <td>9.762909e+09<\/td>\n",
       "      <td>14.474132<\/td>\n",
       "    <\/tr>\n",
       "    <tr>\n",
       "      <th>1060416<\/th>\n",
       "      <td>-77.263745<\/td>\n",
       "      <td>38.870937<\/td>\n",
       "      <td>None<\/td>\n",
       "      <td>0<\/td>\n",
       "      <td>0<\/td>\n",
       "      <td>0<\/td>\n",
       "      <td>9762908930<\/td>\n",
       "      <td>POINT (-77.26374 38.87094)<\/td>\n",
       "      <td>9.762909e+09<\/td>\n",
       "      <td>14.483418<\/td>\n",
       "    <\/tr>\n",
       "    <tr>\n",
       "      <th>1060417<\/th>\n",
       "      <td>-77.263463<\/td>\n",
       "      <td>38.870915<\/td>\n",
       "      <td>{'crossing': 'marked', 'highway': 'crossing'}<\/td>\n",
       "      <td>0<\/td>\n",
       "      <td>0<\/td>\n",
       "      <td>0<\/td>\n",
       "      <td>9762908932<\/td>\n",
       "      <td>POINT (-77.26346 38.87092)<\/td>\n",
       "      <td>9.762909e+09<\/td>\n",
       "      <td>14.516884<\/td>\n",
       "    <\/tr>\n",
       "  <\/tbody>\n",
       "<\/table>\n",
       "<p>1060418 rows × 10 columns<\/p>\n",
       "<\/div>"
      ]
     },
     "metadata":{
      
     },
     "output_type":"display_data"
    }
   ],
   "metadata":{
    "datalore":{
     "type":"CODE",
     "hide_input_from_viewers":false,
     "hide_output_from_viewers":false
    }
   }
  },
  {
   "cell_type":"code",
   "source":[
    "arterial_roads = edges.loc[edges.highway.isin([\"motorway\", \"trunk\", \"primary\", \"primary_link\"])]"
   ],
   "execution_count":20,
   "outputs":[
    
   ],
   "metadata":{
    "datalore":{
     "type":"CODE",
     "hide_input_from_viewers":false,
     "hide_output_from_viewers":false
    }
   }
  },
  {
   "cell_type":"code",
   "source":[
    "fig = plt.figure(facecolor=\"w\", figsize=(10, 5), dpi=600)\n",
    "ax = fig.add_subplot(111, axisbelow=True)\n",
    "\n",
    "arterial_roads.plot(ax=ax, lw=0.5, color='gray', zorder=3)\n",
    "ax.plot(sourcex, sourcey, \".k\")\n",
    "ax = n.plot('travel_time', ax=ax, cmap=\"inferno_r\", markersize=2, legend=True, alpha = 0.06)\n",
    "ax.set_xlim(-77.65, -77.05)\n",
    "ax.set_ylim(38.8, 39.1)\n",
    "\n",
    "plt.savefig(\"reston_virus.pdf\")"
   ],
   "execution_count":null,
   "outputs":[
    {
     "ename":"Error",
     "evalue":"Error: Error processing request",
     "traceback":[
      "\u001b[0;31m---------------------------------------------------------------------------",
      "Traceback (most recent call last)",
      "Error: Error processing request"
     ],
     "output_type":"error"
    }
   ],
   "metadata":{
    "datalore":{
     "type":"CODE",
     "hide_input_from_viewers":false,
     "hide_output_from_viewers":false
    }
   }
  },
  {
   "cell_type":"code",
   "source":[
    
   ],
   "execution_count":null,
   "outputs":[
    
   ],
   "metadata":{
    "datalore":{
     "type":"CODE",
     "hide_input_from_viewers":false,
     "hide_output_from_viewers":false
    }
   }
  }
 ],
 "metadata":{
  "datalore":{
   "version":1,
   "computation_mode":"JUPYTER",
   "package_manager":"pip",
   "base_environment":"default",
   "packages":[
    {
     "name":"pyrosm",
     "version":"0.6.1",
     "source":"PIP"
    },
    {
     "name":"osmnx",
     "version":"1.2.0",
     "source":"PIP"
    },
    {
     "name":"mapclassify",
     "version":"2.4.3",
     "source":"PIP"
    }
   ]
  }
 },
 "nbformat":4,
 "nbformat_minor":4
}
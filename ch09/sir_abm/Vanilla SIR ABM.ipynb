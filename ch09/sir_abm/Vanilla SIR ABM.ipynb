{
 "cells": [
  {
   "cell_type": "markdown",
   "source": [
    "| **Chapter**               | 9:  Agent-based models                           |\n",
    "|---------------------------|--------------------------------------------------|\n",
    "| **Computational Note**    | 9.1: Using Mesa                                  |\n",
    "|                           | 9.2: Initialising the model                      |\n",
    "|                           | 9.3: Using enumerations to define states         |\n",
    "|                           | 9.4: Creating the `Agent` blueprint              |\n",
    "|                           | 9.5: Probabilistic steps in ABMs                 |\n",
    "|                           | 9.6: Creating the infectious process             |\n",
    "|                           | 9.7: Networks in Mesa                            |\n",
    "|                           | 9.8: Activations in Mesa                         |\n",
    "|                           | 9.9: The `Model` class and parametrising the ABM |\n",
    "|                           | 9.10: Collection and export from ABMs            |\n",
    "|                           | 9.11: Creating seed populations                  |\n",
    "|                           | 9.12: Iterative running of ABMs                  |\n",
    "| **Package prerequisites** | [Mesa](http://mesa.readthedocs.io)               |\n",
    "\n",
    "# Agent-based SIR model\n"
   ],
   "metadata": {
    "collapsed": false,
    "pycharm": {
     "name": "#%% md\n"
    }
   }
  },
  {
   "cell_type": "code",
   "source": [
    "import numpy as np\n",
    "import pandas as pd\n",
    "from mesa import Agent, Model\n",
    "from mesa.time import RandomActivation\n",
    "from mesa.space import NetworkGrid\n",
    "from mesa.datacollection import DataCollector\n",
    "from mesa import batchrunner\n",
    "from matplotlib import pyplot as plt\n",
    "from matplotlib import colors as clrs\n",
    "import networkx as nx\n",
    "import json\n",
    "from scipy import stats\n",
    "import enum\n",
    "\n",
    "\n",
    "COLORS = {\"S\": \"#2f4b7c\",\n",
    "          \"E\": \"#ffa600\",\n",
    "          \"I\": \"#f95d6a\",\n",
    "          \"R\": \"#a05195\",\n",
    "          \"D\": \"#003f5c\",\n",
    "          \"C\": \"#ff7c43\",\n",
    "          \"X\": \"#665191\",\n",
    "          \"Y\": \"#d45087\"}"
   ],
   "execution_count": 4,
   "outputs": [],
   "metadata": {
    "datalore": {
     "type": "CODE",
     "hide_input_from_viewers": false,
     "hide_output_from_viewers": false
    },
    "pycharm": {
     "name": "#%%\n"
    }
   }
  },
  {
   "cell_type": "code",
   "execution_count": 2,
   "outputs": [
    {
     "name": "stdout",
     "output_type": "stream",
     "text": [
      "The watermark extension is already loaded. To reload it, use:\n",
      "  %reload_ext watermark\n",
      "Author: Chris von Csefalvay\n",
      "\n",
      "Github username: chrisvoncsefalvay\n",
      "\n",
      "Python implementation: CPython\n",
      "Python version       : 3.10.2\n",
      "IPython version      : 8.4.0\n",
      "\n",
      "mesa: 0.9.0\n",
      "\n"
     ]
    }
   ],
   "source": [
    "%load_ext watermark\n",
    "%watermark --iversions -v -a \"Chris von Csefalvay\" -gu \"chrisvoncsefalvay\" -p mesa"
   ],
   "metadata": {
    "collapsed": false,
    "pycharm": {
     "name": "#%%\n"
    }
   }
  },
  {
   "cell_type": "code",
   "source": [
    "class State(enum.IntEnum):\n",
    "    SUSCEPTIBLE = 0\n",
    "    INFECTED = 1\n",
    "    RECOVERED = 2\n",
    "    DECEASED = 3"
   ],
   "execution_count": 5,
   "outputs": [],
   "metadata": {
    "datalore": {
     "type": "CODE",
     "hide_input_from_viewers": false,
     "hide_output_from_viewers": false
    },
    "pycharm": {
     "name": "#%%\n"
    }
   }
  },
  {
   "cell_type": "code",
   "source": [
    "class Person(Agent):\n",
    "    def __init__(self, uid, model):\n",
    "        super().__init__(uid, model)\n",
    "        \n",
    "        # Naive start\n",
    "        self.state = State.SUSCEPTIBLE\n",
    "        \n",
    "    def contact_event(self):\n",
    "        neighbourhood = self.model.grid.get_neighbors(self.pos, include_center=False)\n",
    "        susceptible_neighbourhood = [agent for agent in self.model.grid.get_cell_list_contents(neighbourhood) \n",
    "                                                                            if agent.state is State.SUSCEPTIBLE]\n",
    "\n",
    "        for neighbour in susceptible_neighbourhood:\n",
    "            if self.state is State.INFECTED and np.random.rand() < model.beta:\n",
    "                neighbour.state = State.INFECTED\n",
    "\n",
    "    def status_update(self):        \n",
    "        if self.state == State.INFECTED:\n",
    "            if np.random.rand() < 1/self.model.recovery_period:\n",
    "                if np.random.rand() < self.model.CFR:\n",
    "                    self.state = State.DECEASED\n",
    "                else:\n",
    "                    self.state = State.RECOVERED\n",
    "\n",
    "        if np.random.rand() < self.model.base_mortality_rate:\n",
    "            self.state = State.DECEASED\n",
    "\n",
    "\n",
    "    def step(self):\n",
    "        self.status_update()\n",
    "\n",
    "        if self.state is State.INFECTED:\n",
    "            self.contact_event()\n",
    "    "
   ],
   "execution_count": 6,
   "outputs": [],
   "metadata": {
    "datalore": {
     "type": "CODE",
     "hide_input_from_viewers": false,
     "hide_output_from_viewers": false
    },
    "pycharm": {
     "name": "#%%\n"
    }
   }
  },
  {
   "cell_type": "code",
   "source": [
    "class NetworkInfectiousDiseaseModel(Model):\n",
    "\n",
    "    def __init__(self, \n",
    "                 nodes=5000, \n",
    "                 mean_degree=12,\n",
    "                 recovery_period=14,\n",
    "                 beta=0.04,\n",
    "                 CFR=0.05,\n",
    "                 base_mortality_rate=0.000125,\n",
    "                 I0=0.005):\n",
    "                     \n",
    "        self.N_agents = nodes\n",
    "        self.recovery_period = recovery_period\n",
    "        self.beta = beta\n",
    "        self.CFR = CFR\n",
    "        self.base_mortality_rate = base_mortality_rate\n",
    "\n",
    "        self.graph = nx.erdos_renyi_graph(n=self.N_agents, p=mean_degree/self.N_agents)\n",
    "        self.grid = NetworkGrid(self.graph)\n",
    "\n",
    "        self.schedule = RandomActivation(self)\n",
    "        self.running = True\n",
    "\n",
    "        for idx, node in enumerate(self.graph.nodes()):\n",
    "            agent = Person(uid=idx + 1, model=self)\n",
    "            self.schedule.add(agent)\n",
    "            self.grid.place_agent(agent, node)\n",
    "\n",
    "            if np.random.rand() < I0:\n",
    "                agent.state = State.INFECTED\n",
    "\n",
    "        self.datacollector = DataCollector(agent_reporters={\"State\": \"state\"})\n",
    "\n",
    "    def step(self):\n",
    "        self.datacollector.collect(self)\n",
    "        self.schedule.step()\n",
    "\n",
    "    def to_df(self):\n",
    "        state_profile = self.datacollector.get_agent_vars_dataframe()\n",
    "        output_df = pd.pivot_table(state_profile.reset_index(), \n",
    "                       index=\"Step\", \n",
    "                       columns=\"State\", \n",
    "                       aggfunc=np.size, \n",
    "                       fill_value=0)\n",
    "        output_df.columns = [i.title() for i in State.__dict__.get(\"_member_names_\")]\n",
    "        return output_df"
   ],
   "execution_count": 7,
   "outputs": [],
   "metadata": {
    "datalore": {
     "type": "CODE",
     "hide_input_from_viewers": false,
     "hide_output_from_viewers": false
    },
    "pycharm": {
     "name": "#%%\n"
    }
   }
  },
  {
   "cell_type": "code",
   "source": [
    "pop=1000\n",
    "steps=120\n",
    "\n",
    "model = NetworkInfectiousDiseaseModel(pop)\n",
    "\n",
    "for i in range(steps):\n",
    "    model.step()\n",
    "\n",
    "model_results = model.to_df()"
   ],
   "execution_count": 8,
   "outputs": [],
   "metadata": {
    "datalore": {
     "type": "CODE",
     "hide_input_from_viewers": false,
     "hide_output_from_viewers": false
    },
    "pycharm": {
     "name": "#%%\n"
    }
   }
  },
  {
   "cell_type": "code",
   "source": [
    "fig = plt.figure(facecolor=\"w\", figsize=(8, 6), dpi=600)\n",
    "ax = fig.add_subplot(111, axisbelow=True)\n",
    "\n",
    "# plt.plot(model_results.index, model_results.Susceptible, color=COLORS[\"S\"], label=\"Susceptible\")\n",
    "ax.plot(model_results.index, model_results.Infected, color=COLORS[\"I\"], alpha=0.6, label=\"Infectious\")\n",
    "ax.plot(model_results.index, model_results.Recovered, color=COLORS[\"R\"], alpha=0.6, lw=1, linestyle=\":\", label=\"Recovered\")\n",
    "ax.plot(model_results.index, model_results.Deceased, color=COLORS[\"D\"], alpha=0.6, lw=1, linestyle=\":\", label=\"Deceased\")\n",
    "ax.plot(model_results.index, model_results.Recovered + model_results.Deceased, color=COLORS[\"X\"], alpha=0.6, lw=2, label=\"Total\")\n",
    "\n",
    "ax.fill_between(model_results.index, 0, model_results.Infected, color=COLORS[\"I\"], alpha=0.15)\n",
    "ax.fill_between(model_results.index, 0, model_results.Recovered + model_results.Deceased, color=COLORS[\"R\"], alpha=0.15)\n",
    "ax.fill_between(model_results.index, model_results.Recovered, model_results.Recovered + model_results.Deceased, color=COLORS[\"D\"], alpha=0.15)\n",
    "\n",
    "\n",
    "legend = ax.legend()\n",
    "legend.get_frame().set_alpha(0.5)\n",
    "plt.legend(title=\"\", bbox_to_anchor=(0.5, -0.355), loc=\"lower center\", ncol=4, frameon=False)\n",
    "\n",
    "ax.set_xlabel(\"Days\")\n",
    "ax.set_ylabel(\"Number in compartment\")\n",
    "\n",
    "fig.tight_layout(pad=5.0)\n",
    "plt.savefig(\"SIRD_ABM_output.pdf\")\n"
   ],
   "execution_count": 9,
   "outputs": [],
   "metadata": {
    "datalore": {
     "type": "CODE",
     "hide_input_from_viewers": false,
     "hide_output_from_viewers": false
    },
    "pycharm": {
     "name": "#%%\n"
    }
   }
  },
  {
   "cell_type": "code",
   "source": [
    "br = batchrunner.FixedBatchRunner(NetworkInfectiousDiseaseModel,\n",
    "                                  fixed_parameters={\"nodes\": 5000},\n",
    "                                  iterations=36,\n",
    "                                  max_steps=120,\n",
    "                                  model_reporters={\"vals\": lambda m: m.datacollector},\n",
    "                                  display_progress=True)"
   ],
   "execution_count": 10,
   "outputs": [],
   "metadata": {
    "datalore": {
     "type": "CODE",
     "hide_input_from_viewers": false,
     "hide_output_from_viewers": false
    },
    "pycharm": {
     "name": "#%%\n"
    }
   }
  },
  {
   "cell_type": "code",
   "source": [
    "br.run_all()"
   ],
   "execution_count": 11,
   "outputs": [
    {
     "name": "stderr",
     "text": [
      "\r0it [00:00, ?it/s]\r1it [00:06,  6.40s/it]\r2it [00:12,  6.33s/it]\r3it [00:18,  6.22s/it]\r4it [00:24,  6.20s/it]\r5it [00:31,  6.16s/it]\r6it [00:37,  6.18s/it]\r7it [00:43,  6.22s/it]\r8it [00:49,  6.08s/it]\r9it [00:55,  6.15s/it]\r10it [01:01,  6.07s/it]\r11it [01:07,  6.19s/it]\r12it [01:13,  6.10s/it]\r13it [01:19,  6.00s/it]\r14it [01:26,  6.20s/it]\r15it [01:32,  6.09s/it]\r16it [01:38,  6.04s/it]\r17it [01:44,  6.28s/it]\r18it [01:50,  6.13s/it]\r19it [01:56,  6.05s/it]\r20it [02:02,  5.96s/it]\r21it [02:08,  5.91s/it]\r22it [02:15,  6.27s/it]\r23it [02:21,  6.17s/it]\r24it [02:27,  6.10s/it]\r25it [02:32,  6.02s/it]\r26it [02:38,  5.97s/it]\r27it [02:46,  6.39s/it]\r28it [02:52,  6.25s/it]\r29it [02:57,  6.13s/it]\r30it [03:03,  6.01s/it]\r31it [03:09,  5.93s/it]\r32it [03:15,  5.90s/it]\r33it [03:22,  6.44s/it]\r34it [03:28,  6.31s/it]\r35it [03:34,  6.23s/it]\r36it [03:40,  6.16s/it]\r36it [03:40,  6.14s/it]\n"
     ],
     "output_type": "stream"
    }
   ],
   "metadata": {
    "datalore": {
     "type": "CODE",
     "hide_input_from_viewers": false,
     "hide_output_from_viewers": false
    },
    "pycharm": {
     "name": "#%%\n"
    }
   }
  },
  {
   "cell_type": "code",
   "source": [
    "results = [pd.pivot_table(i.get_agent_vars_dataframe().reset_index(), \n",
    "                    index=\"Step\", \n",
    "                    columns=\"State\", \n",
    "                    aggfunc=np.size, \n",
    "                    fill_value=0).rename(columns={0: \"Susceptible\",\n",
    "                                                  1: \"Infected\",\n",
    "                                                  2: \"Recovered\",\n",
    "                                                  3: \"Deceased\"}).droplevel(0, axis=1) for i in br.get_model_vars_dataframe().vals]"
   ],
   "execution_count": 12,
   "outputs": [],
   "metadata": {
    "datalore": {
     "type": "CODE",
     "hide_input_from_viewers": false,
     "hide_output_from_viewers": false
    },
    "pycharm": {
     "name": "#%%\n"
    }
   }
  },
  {
   "cell_type": "code",
   "source": [
    "means = pd.concat([each.stack() for each in results], axis=1).apply(lambda x: x.mean(), axis=1).unstack()\n",
    "sds = pd.concat([each.stack() for each in results], axis=1).apply(lambda x: x.std(), axis=1).unstack()"
   ],
   "execution_count": 13,
   "outputs": [],
   "metadata": {
    "datalore": {
     "type": "CODE",
     "hide_input_from_viewers": false,
     "hide_output_from_viewers": false
    },
    "pycharm": {
     "name": "#%%\n"
    }
   }
  },
  {
   "cell_type": "code",
   "source": [
    "fig = plt.figure(facecolor=\"w\", figsize=(8, 6), dpi=600)\n",
    "ax = fig.add_subplot(111, axisbelow=True)\n",
    "\n",
    "for idx, model_results in enumerate(results):\n",
    "\n",
    "    ax.plot(model_results.index, model_results.Infected, color=COLORS[\"I\"], alpha=0.2, lw=0.2, label=\"Infectious\" if idx == 0 else \"\")\n",
    "#    ax.plot(model_results.index, model_results.Recovered, color=COLORS[\"R\"], alpha=0.2, lw=1, linestyle=\":\", label=\"Recovered\" if idx == 0 else \"\")\n",
    "#    ax.plot(model_results.index, model_results.Deceased, color=COLORS[\"D\"], alpha=0.2, lw=1, linestyle=\":\", label=\"Deceased\" if idx == 0 else \"\")\n",
    "    ax.plot(model_results.index, model_results.Recovered + model_results.Deceased, color=COLORS[\"R\"], alpha=0.3, lw=0.2, label=f\"Total removed\" if idx == 0 else \"\")\n",
    "\n",
    "ax.plot(means.index, means.Infected, color=COLORS[\"I\"], alpha=0.5, lw=1.25, linestyle=\"--\", label=\"Infectious (mean)\")\n",
    "ax.plot(means.index, means.Recovered + means.Deceased, color=COLORS[\"R\"], alpha=0.5, lw=1.25, linestyle=\"--\", label=\"Total removed (mean)\")\n",
    "ax.plot(means.index, means.Infected + 1.96 * sds.Infected, color=COLORS[\"I\"], alpha=0.5, lw=1, linestyle=\":\")\n",
    "ax.plot(means.index, means.Infected - 1.96 * sds.Infected, color=COLORS[\"I\"], alpha=0.5, lw=1, linestyle=\":\")\n",
    "ax.plot(means.index, means.Recovered + means.Deceased + 1.96 * (sds.Recovered + sds.Deceased), color=COLORS[\"R\"], alpha=0.5, lw=1, linestyle=\":\")\n",
    "ax.plot(means.index, means.Recovered + means.Deceased - 1.96 * (sds.Recovered + sds.Deceased), color=COLORS[\"R\"], alpha=0.5, lw=1, linestyle=\":\")\n",
    "\n",
    "legend = ax.legend()\n",
    "legend.get_frame().set_alpha(0.5)\n",
    "plt.legend(title=\"\", bbox_to_anchor=(0.5, -0.355), loc=\"lower center\", ncol=2, frameon=False)\n",
    "\n",
    "ax.set_xlabel(\"Days\")\n",
    "ax.set_ylabel(\"Number in compartment\")\n",
    "\n",
    "fig.tight_layout(pad=5.0)\n",
    "plt.savefig(\"SIRD_ABM_output.pdf\")"
   ],
   "execution_count": 14,
   "outputs": [],
   "metadata": {
    "datalore": {
     "type": "CODE",
     "hide_input_from_viewers": false,
     "hide_output_from_viewers": false
    },
    "pycharm": {
     "name": "#%%\n"
    }
   }
  },
  {
   "cell_type": "code",
   "source": [],
   "execution_count": null,
   "outputs": [],
   "metadata": {
    "datalore": {
     "type": "CODE",
     "hide_input_from_viewers": false,
     "hide_output_from_viewers": false
    },
    "pycharm": {
     "name": "#%%\n"
    }
   }
  }
 ],
 "metadata": {
  "datalore": {
   "version": 1,
   "computation_mode": "JUPYTER",
   "package_manager": "pip",
   "base_environment": "default",
   "packages": [
    {
     "name": "mesa",
     "version": "0.9.0",
     "source": "PIP"
    }
   ]
  }
 },
 "nbformat": 4,
 "nbformat_minor": 4
}
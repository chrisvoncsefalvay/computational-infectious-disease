{
 "cells":[
  {
   "cell_type":"code",
   "source":[
    "import numpy as np\n",
    "import pandas as pd\n",
    "from mesa import Agent, Model\n",
    "from mesa.time import RandomActivation\n",
    "from mesa.space import NetworkGrid\n",
    "from mesa.datacollection import DataCollector\n",
    "from mesa import batchrunner\n",
    "from matplotlib import pyplot as plt\n",
    "from matplotlib.lines import Line2D\n",
    "import networkx as nx\n",
    "import enum\n",
    "import random\n",
    "\n",
    "\n",
    "COLORS = {\"S\": \"#2f4b7c\",\n",
    "          \"E\": \"#ffa600\",\n",
    "          \"I\": \"#f95d6a\",\n",
    "          \"R\": \"#a05195\",\n",
    "          \"D\": \"#003f5c\",\n",
    "          \"C\": \"#ff7c43\",\n",
    "          \"X\": \"#665191\",\n",
    "          \"Y\": \"#d45087\"}"
   ],
   "execution_count":30,
   "outputs":[
    
   ],
   "metadata":{
    "datalore":{
     "type":"CODE",
     "hide_input_from_viewers":false,
     "hide_output_from_viewers":false
    }
   }
  },
  {
   "cell_type":"code",
   "source":[
    "class State(enum.IntEnum):\n",
    "    SUSCEPTIBLE = 0\n",
    "    INFECTED = 1\n",
    "    RECOVERED = 2\n",
    "    DECEASED = 3"
   ],
   "execution_count":11,
   "outputs":[
    
   ],
   "metadata":{
    "datalore":{
     "type":"CODE",
     "hide_input_from_viewers":false,
     "hide_output_from_viewers":false
    }
   }
  },
  {
   "cell_type":"code",
   "source":[
    "class Person(Agent):\n",
    "    def __init__(self, uid, model):\n",
    "        super().__init__(uid, model)\n",
    "        \n",
    "        # Naive start\n",
    "        self.state = State.SUSCEPTIBLE\n",
    "        \n",
    "    def contact_event(self):\n",
    "        neighbourhood = self.model.grid.get_neighbors(self.pos, include_center=False)\n",
    "        susceptible_neighbourhood = [agent for agent in self.model.grid.get_cell_list_contents(neighbourhood) \n",
    "                                                                            if agent.state is State.SUSCEPTIBLE]\n",
    "\n",
    "        q_choice = random.sample(susceptible_neighbourhood, min(self.model.q, len(susceptible_neighbourhood)))\n",
    "\n",
    "        for neighbour in q_choice:\n",
    "            if np.random.rand() < self.model.beta:\n",
    "                neighbour.state = State.INFECTED\n",
    "\n",
    "    def status_update(self):        \n",
    "        if self.state == State.INFECTED:\n",
    "            if np.random.rand() < 1\/self.model.recovery_period:\n",
    "                if np.random.rand() < self.model.CFR:\n",
    "                    self.state = State.DECEASED\n",
    "                else:\n",
    "                    self.state = State.RECOVERED\n",
    "\n",
    "        if np.random.rand() < self.model.base_mortality_rate:\n",
    "            self.state = State.DECEASED\n",
    "\n",
    "\n",
    "    def step(self):\n",
    "        self.status_update()\n",
    "\n",
    "        if self.state is State.INFECTED:\n",
    "            self.contact_event()\n",
    "    "
   ],
   "execution_count":12,
   "outputs":[
    
   ],
   "metadata":{
    "datalore":{
     "type":"CODE",
     "hide_input_from_viewers":false,
     "hide_output_from_viewers":false
    }
   }
  },
  {
   "cell_type":"code",
   "source":[
    "class NetworkInfectiousDiseaseModel(Model):\n",
    "\n",
    "    def __init__(self, \n",
    "                 nodes=5000, \n",
    "                 mean_degree=12,\n",
    "                 recovery_period=14,\n",
    "                 beta=0.04,\n",
    "                 CFR=0.05,\n",
    "                 base_mortality_rate=0.000125,\n",
    "                 I0=0.005,\n",
    "                 q=4):\n",
    "                     \n",
    "        self.N_agents = nodes\n",
    "        self.recovery_period = recovery_period\n",
    "        self.beta = beta\n",
    "        self.CFR = CFR\n",
    "        self.base_mortality_rate = base_mortality_rate\n",
    "        self.q = q\n",
    "\n",
    "        self.graph = nx.erdos_renyi_graph(n=self.N_agents, p=mean_degree\/self.N_agents)\n",
    "        self.grid = NetworkGrid(self.graph)\n",
    "\n",
    "        self.schedule = RandomActivation(self)\n",
    "        self.running = True\n",
    "\n",
    "        for idx, node in enumerate(self.graph.nodes()):\n",
    "            agent = Person(uid=idx + 1, model=self)\n",
    "            self.schedule.add(agent)\n",
    "            self.grid.place_agent(agent, node)\n",
    "\n",
    "            if np.random.rand() < I0:\n",
    "                agent.state = State.INFECTED\n",
    "\n",
    "        self.datacollector = DataCollector({\"Infectious\": lambda m: m.number_infectious()})\n",
    "\n",
    "    def step(self):\n",
    "        self.datacollector.collect(self)\n",
    "        self.schedule.step()\n",
    "\n",
    "    def number_infectious(self):\n",
    "        return np.sum([1 for i in self.schedule.agents if i.state is State.INFECTED])"
   ],
   "execution_count":13,
   "outputs":[
    
   ],
   "metadata":{
    "datalore":{
     "type":"CODE",
     "hide_input_from_viewers":false,
     "hide_output_from_viewers":false
    }
   }
  },
  {
   "cell_type":"code",
   "source":[
    "br = batchrunner.FixedBatchRunner(NetworkInfectiousDiseaseModel,\n",
    "                                  fixed_parameters={\"nodes\": 2000},\n",
    "                                  parameters_list=[{\"q\": 3}, {\"q\": 5}, {\"q\": 7}],\n",
    "                                  iterations=15,\n",
    "                                  max_steps=200,\n",
    "                                  model_reporters={\"vals\": lambda m: m.datacollector},\n",
    "                                  display_progress=True)"
   ],
   "execution_count":14,
   "outputs":[
    
   ],
   "metadata":{
    "datalore":{
     "type":"CODE",
     "hide_input_from_viewers":false,
     "hide_output_from_viewers":false
    }
   }
  },
  {
   "cell_type":"code",
   "source":[
    "br.run_all()"
   ],
   "execution_count":15,
   "outputs":[
    {
     "name":"stderr",
     "text":[
      "\r0it [00:00, ?it\/s]\r1it [00:02,  2.07s\/it]\r2it [00:04,  2.10s\/it]\r3it [00:06,  2.09s\/it]\r4it [00:08,  2.07s\/it]\r5it [00:10,  2.10s\/it]\r6it [00:12,  2.09s\/it]\r7it [00:14,  2.08s\/it]\r8it [00:16,  2.07s\/it]\r9it [00:18,  2.08s\/it]\r10it [00:20,  2.10s\/it]\r11it [00:22,  2.09s\/it]\r12it [00:25,  2.09s\/it]\r13it [00:27,  2.09s\/it]\r14it [00:29,  2.08s\/it]\r15it [00:31,  2.10s\/it]\r16it [00:33,  2.10s\/it]\r17it [00:35,  2.09s\/it]\r18it [00:37,  2.09s\/it]\r19it [00:39,  2.09s\/it]\r20it [00:41,  2.12s\/it]\r21it [00:44,  2.12s\/it]\r22it [00:46,  2.11s\/it]\r23it [00:48,  2.10s\/it]\r24it [00:50,  2.09s\/it]\r25it [00:52,  2.11s\/it]\r26it [00:54,  2.09s\/it]\r27it [00:56,  2.08s\/it]\r28it [00:58,  2.08s\/it]\r29it [01:00,  2.09s\/it]\r30it [01:02,  2.11s\/it]\r31it [01:04,  2.11s\/it]\r32it [01:07,  2.10s\/it]\r33it [01:09,  2.10s\/it]\r34it [01:11,  2.10s\/it]\r35it [01:13,  2.12s\/it]\r36it [01:15,  2.12s\/it]\r37it [01:17,  2.11s\/it]\r38it [01:19,  2.11s\/it]\r39it [01:21,  2.13s\/it]\r40it [01:24,  2.12s\/it]\r41it [01:26,  2.11s\/it]\r42it [01:28,  2.11s\/it]\r43it [01:30,  2.10s\/it]\r44it [01:32,  2.13s\/it]\r45it [01:34,  2.11s\/it]\r45it [01:34,  2.10s\/it]\n"
     ],
     "output_type":"stream"
    }
   ],
   "metadata":{
    "datalore":{
     "type":"CODE",
     "hide_input_from_viewers":false,
     "hide_output_from_viewers":false
    }
   }
  },
  {
   "cell_type":"code",
   "source":[
    "by_q_values = {}\n",
    "\n",
    "for i in range(len(br.get_model_vars_dataframe().q)):\n",
    "    if br.get_model_vars_dataframe().q[i] not in by_q_values.keys():\n",
    "        by_q_values[br.get_model_vars_dataframe().q[i]] = []\n",
    "    \n",
    "    by_q_values[br.get_model_vars_dataframe().q[i]].append(\n",
    "        br.get_model_vars_dataframe().vals[i].get_model_vars_dataframe()[\"Infectious\"]\n",
    "    )"
   ],
   "execution_count":16,
   "outputs":[
    
   ],
   "metadata":{
    "datalore":{
     "type":"CODE",
     "hide_input_from_viewers":false,
     "hide_output_from_viewers":false
    }
   }
  },
  {
   "cell_type":"code",
   "source":[
    "means, sds = {}, {}\n",
    "\n",
    "for i in br.get_model_vars_dataframe().q.unique():\n",
    "    mu = pd.concat([*(by_q_values[i])], axis=1).mean(axis=1)\n",
    "    sigma = pd.concat([*(by_q_values[i])], axis=1).std(axis=1)\n",
    "\n",
    "    means[i] = mu\n",
    "    sds[i] = sigma"
   ],
   "execution_count":17,
   "outputs":[
    
   ],
   "metadata":{
    "datalore":{
     "type":"CODE",
     "hide_input_from_viewers":false,
     "hide_output_from_viewers":false
    }
   }
  },
  {
   "cell_type":"code",
   "source":[
    "fig = plt.figure(facecolor=\"w\", figsize=(8, 6), dpi=600)\n",
    "ax = fig.add_subplot(111, axisbelow=True)\n",
    "\n",
    "colour_cycle = [\"X\", \"I\", \"S\"]\n",
    "\n",
    "logged_qs = []\n",
    "linestyle_idx = 0\n",
    "\n",
    "for idx, q in enumerate(by_q_values.keys()):\n",
    "    for ts in by_q_values[q]:\n",
    "        ax.plot(ts, color=COLORS[colour_cycle[idx]], alpha=0.3, lw=0.5, label=\"\")\n",
    "        logged_qs.append(q)\n",
    "    linestyle_idx += 1\n",
    "\n",
    "    ax.plot(means[q], color=COLORS[colour_cycle[idx]], lw=1.5, alpha=0.5, linestyle=\":\")\n",
    "    ax.fill_between(ts.index, means[q], 0, color=COLORS[colour_cycle[idx]], alpha=0.2)\n",
    "\n",
    "legend_lines = [Line2D([0], [0], color=COLORS[\"S\"], lw=4, alpha=0.5),\n",
    "                Line2D([0], [0], color=COLORS[\"I\"], lw=4, alpha=0.5),\n",
    "                Line2D([0], [0], color=COLORS[\"X\"], lw=4, alpha=0.5)]\n",
    "\n",
    "ax.legend(legend_lines, [\"Infectious (q=7)\", \"Infectious (q=5)\", \"Infectious (q=3)\"], title=\"\", bbox_to_anchor=(0.5, -0.355), loc=\"lower center\", ncol=3, frameon=False)\n",
    "\n",
    "\n",
    "ax.set_xlabel(\"Days\")\n",
    "ax.set_ylabel(\"Number in compartment\")\n",
    "\n",
    "fig.tight_layout(pad=5.0)\n",
    "plt.savefig(\"Q_infector.pdf\")"
   ],
   "execution_count":39,
   "outputs":[
    
   ],
   "metadata":{
    "datalore":{
     "type":"CODE",
     "hide_input_from_viewers":false,
     "hide_output_from_viewers":false
    }
   }
  },
  {
   "cell_type":"code",
   "source":[
    
   ],
   "execution_count":null,
   "outputs":[
    
   ],
   "metadata":{
    "datalore":{
     "type":"CODE",
     "hide_input_from_viewers":false,
     "hide_output_from_viewers":false
    }
   }
  }
 ],
 "metadata":{
  "datalore":{
   "version":1,
   "computation_mode":"JUPYTER",
   "package_manager":"pip",
   "base_environment":"default",
   "packages":[
    {
     "name":"mesa",
     "version":"0.9.0",
     "source":"PIP"
    }
   ]
  }
 },
 "nbformat":4,
 "nbformat_minor":4
}
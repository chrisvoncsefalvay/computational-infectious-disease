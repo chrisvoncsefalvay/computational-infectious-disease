{
 "cells": [
  {
   "cell_type": "markdown",
   "source": [
    "| **Chapter**                   | 9:  Agent-based modeling                       |\n",
    "| ----------------------------- |------------------------------------------------|\n",
    "| **Computational Note**        | 9.x: An ABM for pure vector-borne disease      |\n",
    "| **Package prerequisites**     | [Mesa](https://mesa.readthedocs.io/en/latest/) |\n",
    "\n",
    "\n",
    "# An ABM for pure vector-borne disease"
   ],
   "metadata": {
    "collapsed": false,
    "pycharm": {
     "name": "#%% md\n"
    }
   }
  },
  {
   "cell_type": "code",
   "source": [
    "import numpy as np\n",
    "import pandas as pd\n",
    "from mesa import Agent, Model\n",
    "from mesa.time import RandomActivation\n",
    "from mesa.space import MultiGrid\n",
    "from mesa.datacollection import DataCollector\n",
    "from mesa import batchrunner\n",
    "from matplotlib import pyplot as plt\n",
    "import random\n",
    "import networkx as nx\n",
    "import json\n",
    "from scipy import stats\n",
    "import enum\n",
    "\n",
    "\n",
    "COLORS = {\"S\": \"#2f4b7c\",\n",
    "          \"E\": \"#ffa600\",\n",
    "          \"I\": \"#f95d6a\",\n",
    "          \"R\": \"#a05195\",\n",
    "          \"D\": \"#003f5c\",\n",
    "          \"C\": \"#ff7c43\",\n",
    "          \"X\": \"#665191\",\n",
    "          \"Y\": \"#d45087\"}"
   ],
   "execution_count": 1,
   "outputs": [],
   "metadata": {
    "datalore": {
     "type": "CODE",
     "hide_input_from_viewers": false,
     "hide_output_from_viewers": false
    },
    "pycharm": {
     "name": "#%%\n"
    }
   }
  },
  {
   "cell_type": "code",
   "execution_count": 2,
   "outputs": [
    {
     "name": "stdout",
     "output_type": "stream",
     "text": [
      "Author: Chris von Csefalvay\n",
      "\n",
      "Github username: chrisvoncsefalvay\n",
      "\n",
      "Python implementation: CPython\n",
      "Python version       : 3.10.2\n",
      "IPython version      : 8.4.0\n",
      "\n",
      "mesa: 0.9.0\n",
      "\n",
      "numpy     : 1.21.6\n",
      "json      : 2.0.9\n",
      "networkx  : 2.8.4\n",
      "matplotlib: 3.5.2\n",
      "mesa      : 0.9.0\n",
      "scipy     : 1.8.1\n",
      "pandas    : 1.4.2\n",
      "\n"
     ]
    }
   ],
   "source": [
    "%load_ext watermark\n",
    "%watermark --iversions -v -a \"Chris von Csefalvay\" -gu \"chrisvoncsefalvay\" -p mesa"
   ],
   "metadata": {
    "collapsed": false,
    "pycharm": {
     "name": "#%%\n"
    }
   }
  },
  {
   "cell_type": "code",
   "source": [
    "class State(enum.IntEnum):\n",
    "    SUSCEPTIBLE = 0\n",
    "    INFECTED = 1\n",
    "    RECOVERED = 2\n",
    "    DECEASED = 3"
   ],
   "execution_count": 3,
   "outputs": [],
   "metadata": {
    "datalore": {
     "type": "CODE",
     "hide_input_from_viewers": false,
     "hide_output_from_viewers": false
    },
    "pycharm": {
     "name": "#%%\n"
    }
   }
  },
  {
   "cell_type": "code",
   "source": [
    "class Host(Agent):\n",
    "    def __init__(self, uid, model):\n",
    "        super().__init__(uid, model)\n",
    "        self.state = State.SUSCEPTIBLE\n",
    "        self.type = \"host\"\n",
    "\n",
    "    def status_update(self):\n",
    "        if self.state == State.INFECTED:\n",
    "            if np.random.rand() < 1/(1 + 32 * self.model.recovery_period.rvs()):\n",
    "                if np.random.rand() < self.model.CFR:\n",
    "                    self.state = State.DECEASED\n",
    "                else:\n",
    "                    self.state = State.RECOVERED\n",
    "\n",
    "        if np.random.rand() < self.model.host_mortality_rate:\n",
    "            self.state = State.DECEASED\n",
    "\n",
    "    def step(self):\n",
    "        self.status_update()\n",
    "\n",
    "class Vector(Agent):\n",
    "    def __init__(self, uid, model):\n",
    "        super().__init__(uid, model)\n",
    "        self.state = State.SUSCEPTIBLE\n",
    "        self.type = \"vector\"\n",
    "\n",
    "    def contact_event(self):\n",
    "        neighbouring_hosts = [agent for agent in self.model.grid.get_neighbors(self.pos, include_center=True, moore=True) if isinstance(agent, Host)]\n",
    "        \n",
    "        if len(neighbouring_hosts) > 0:\n",
    "            target = random.choice(neighbouring_hosts)\n",
    "        \n",
    "            if target.state is State.INFECTED and self.state is State.SUSCEPTIBLE:\n",
    "                self.state = State.INFECTED\n",
    "            elif target.state is State.SUSCEPTIBLE and self.state is State.INFECTED:\n",
    "                target.state = State.INFECTED\n",
    "\n",
    "    def step(self):\n",
    "        self.contact_event()\n",
    "\n",
    "        if np.random.rand() < self.model.vector_mortality_rate:\n",
    "            self.state = State.DECEASED"
   ],
   "execution_count": 4,
   "outputs": [],
   "metadata": {
    "datalore": {
     "type": "CODE",
     "hide_input_from_viewers": false,
     "hide_output_from_viewers": false
    },
    "pycharm": {
     "name": "#%%\n"
    }
   }
  },
  {
   "cell_type": "code",
   "source": [
    "class HostVectorModel(Model):\n",
    "    def __init__(self, \n",
    "                 N_host,\n",
    "                 N_vector,\n",
    "                 width=10, \n",
    "                 height=10,\n",
    "                 recovery_period=stats.beta(4, 8),\n",
    "                 CFR=0.05,\n",
    "                 host_mortality_rate=0.000125,\n",
    "                 host_birth_rate=0.000125,\n",
    "                 vector_mortality_rate=0.0125,\n",
    "                 vector_birth_rate=0.02,\n",
    "                 I0_host=0.075,\n",
    "                 I0_vector=0.3):\n",
    "        \n",
    "        self.N_vector = N_vector\n",
    "        self.N_host = N_host\n",
    "        self.recovery_period = recovery_period\n",
    "        self.CFR = CFR\n",
    "        self.host_mortality_rate = host_mortality_rate\n",
    "        self.vector_mortality_rate = vector_mortality_rate\n",
    "        self.vector_birth_rate = vector_birth_rate\n",
    "        self.grid = MultiGrid(width, height, torus=True)\n",
    "        self.schedule = RandomActivation(self)\n",
    "        self.running = True\n",
    "\n",
    "        self.datacollector = DataCollector(agent_reporters={\"State\": \"state\", \"Type\": \"type\"})\n",
    "\n",
    "        for i in range(N_host):\n",
    "            agent = Host(f\"h_{i}\", self)\n",
    "\n",
    "            if np.random.rand() < I0_host:\n",
    "                agent.state = State.INFECTED\n",
    "\n",
    "            self.schedule.add(agent)\n",
    "            x = np.random.randint(0, self.grid.width)\n",
    "            y = np.random.randint(0, self.grid.height)\n",
    "            self.grid.place_agent(agent, (x, y))\n",
    "\n",
    "        for i in range(N_vector):\n",
    "            agent = Vector(f\"v_{i}\", self)\n",
    "\n",
    "            if np.random.rand() < I0_vector:\n",
    "                agent.state = State.INFECTED\n",
    "\n",
    "            self.schedule.add(agent)\n",
    "            x = np.random.randint(0, self.grid.width)\n",
    "            y = np.random.randint(0, self.grid.height)\n",
    "            self.grid.place_agent(agent, (x, y))\n",
    "\n",
    "    def step(self):\n",
    "        for i in range(self.N_vector):\n",
    "            if np.random.rand() < self.vector_birth_rate:\n",
    "                agent = Vector(f\"v_{len(self.schedule.agents) + 1}\", self)\n",
    "                self.schedule.add(agent)\n",
    "                x = np.random.randint(0, self.grid.width)\n",
    "                y = np.random.randint(0, self.grid.height)\n",
    "                self.grid.place_agent(agent, (x, y))\n",
    "\n",
    "        for i in range(self.N_host):\n",
    "            if np.random.rand() < self.host_birth_rate:\n",
    "                agent = Host(f\"h_{len(self.schedule.agents) + 1}\", self)\n",
    "                self.schedule.add(agent)\n",
    "                x = np.random.randint(0, self.grid.width)\n",
    "                y = np.random.randint(0, self.grid.height)\n",
    "                self.grid.place_agent(agent, (x, y))\n",
    "\n",
    "        self.datacollector.collect(self)\n",
    "        self.schedule.step()"
   ],
   "execution_count": 5,
   "outputs": [],
   "metadata": {
    "datalore": {
     "type": "CODE",
     "hide_input_from_viewers": false,
     "hide_output_from_viewers": false
    },
    "pycharm": {
     "name": "#%%\n"
    }
   }
  },
  {
   "cell_type": "code",
   "source": [
    "br = batchrunner.FixedBatchRunner(HostVectorModel,\n",
    "                                  fixed_parameters={\"N_host\": 100, \"N_vector\": 1000},\n",
    "                                  iterations=3,\n",
    "                                  max_steps=600,\n",
    "                                  model_reporters={\"vals\": lambda m: m.datacollector},\n",
    "                                  display_progress=True)"
   ],
   "execution_count": 6,
   "outputs": [],
   "metadata": {
    "datalore": {
     "type": "CODE",
     "hide_input_from_viewers": false,
     "hide_output_from_viewers": false
    },
    "pycharm": {
     "name": "#%%\n"
    }
   }
  },
  {
   "cell_type": "code",
   "source": [
    "br.run_all()"
   ],
   "execution_count": 7,
   "outputs": [
    {
     "name": "stderr",
     "output_type": "stream",
     "text": [
      "0it [00:00, ?it/s]\n"
     ]
    },
    {
     "ename": "AttributeError",
     "evalue": "'HostVectorModel' object has no attribute 'N_host'",
     "output_type": "error",
     "traceback": [
      "\u001B[0;31m---------------------------------------------------------------------------\u001B[0m",
      "\u001B[0;31mAttributeError\u001B[0m                            Traceback (most recent call last)",
      "Input \u001B[0;32mIn [7]\u001B[0m, in \u001B[0;36m<cell line: 1>\u001B[0;34m()\u001B[0m\n\u001B[0;32m----> 1\u001B[0m \u001B[43mbr\u001B[49m\u001B[38;5;241;43m.\u001B[39;49m\u001B[43mrun_all\u001B[49m\u001B[43m(\u001B[49m\u001B[43m)\u001B[49m\n",
      "File \u001B[0;32m~/miniconda3/envs/computational-infectious-disease/lib/python3.10/site-packages/mesa/batchrunner.py:354\u001B[0m, in \u001B[0;36mFixedBatchRunner.run_all\u001B[0;34m(self)\u001B[0m\n\u001B[1;32m    352\u001B[0m param_values \u001B[38;5;241m=\u001B[39m all_param_values[i]\n\u001B[1;32m    353\u001B[0m \u001B[38;5;28;01mfor\u001B[39;00m _ \u001B[38;5;129;01min\u001B[39;00m \u001B[38;5;28mrange\u001B[39m(\u001B[38;5;28mself\u001B[39m\u001B[38;5;241m.\u001B[39miterations):\n\u001B[0;32m--> 354\u001B[0m     \u001B[38;5;28;43mself\u001B[39;49m\u001B[38;5;241;43m.\u001B[39;49m\u001B[43mrun_iteration\u001B[49m\u001B[43m(\u001B[49m\u001B[43mkwargs\u001B[49m\u001B[43m,\u001B[49m\u001B[43m \u001B[49m\u001B[43mparam_values\u001B[49m\u001B[43m,\u001B[49m\u001B[43m \u001B[49m\u001B[38;5;28;43mnext\u001B[39;49m\u001B[43m(\u001B[49m\u001B[43mrun_count\u001B[49m\u001B[43m)\u001B[49m\u001B[43m)\u001B[49m\n\u001B[1;32m    355\u001B[0m     pbar\u001B[38;5;241m.\u001B[39mupdate()\n",
      "File \u001B[0;32m~/miniconda3/envs/computational-infectious-disease/lib/python3.10/site-packages/mesa/batchrunner.py:359\u001B[0m, in \u001B[0;36mFixedBatchRunner.run_iteration\u001B[0;34m(self, kwargs, param_values, run_count)\u001B[0m\n\u001B[1;32m    357\u001B[0m \u001B[38;5;28;01mdef\u001B[39;00m \u001B[38;5;21mrun_iteration\u001B[39m(\u001B[38;5;28mself\u001B[39m, kwargs, param_values, run_count):\n\u001B[1;32m    358\u001B[0m     model \u001B[38;5;241m=\u001B[39m \u001B[38;5;28mself\u001B[39m\u001B[38;5;241m.\u001B[39mmodel_cls(\u001B[38;5;241m*\u001B[39m\u001B[38;5;241m*\u001B[39mkwargs)\n\u001B[0;32m--> 359\u001B[0m     results \u001B[38;5;241m=\u001B[39m \u001B[38;5;28;43mself\u001B[39;49m\u001B[38;5;241;43m.\u001B[39;49m\u001B[43mrun_model\u001B[49m\u001B[43m(\u001B[49m\u001B[43mmodel\u001B[49m\u001B[43m)\u001B[49m\n\u001B[1;32m    360\u001B[0m     \u001B[38;5;28;01mif\u001B[39;00m param_values \u001B[38;5;129;01mis\u001B[39;00m \u001B[38;5;129;01mnot\u001B[39;00m \u001B[38;5;28;01mNone\u001B[39;00m:\n\u001B[1;32m    361\u001B[0m         model_key \u001B[38;5;241m=\u001B[39m \u001B[38;5;28mtuple\u001B[39m(param_values) \u001B[38;5;241m+\u001B[39m (run_count,)\n",
      "File \u001B[0;32m~/miniconda3/envs/computational-infectious-disease/lib/python3.10/site-packages/mesa/batchrunner.py:398\u001B[0m, in \u001B[0;36mFixedBatchRunner.run_model\u001B[0;34m(self, model)\u001B[0m\n\u001B[1;32m    391\u001B[0m \u001B[38;5;124;03m\"\"\"Run a model object to completion, or until reaching max steps.\u001B[39;00m\n\u001B[1;32m    392\u001B[0m \n\u001B[1;32m    393\u001B[0m \u001B[38;5;124;03mIf your model runs in a non-standard way, this is the method to modify\u001B[39;00m\n\u001B[1;32m    394\u001B[0m \u001B[38;5;124;03min your subclass.\u001B[39;00m\n\u001B[1;32m    395\u001B[0m \n\u001B[1;32m    396\u001B[0m \u001B[38;5;124;03m\"\"\"\u001B[39;00m\n\u001B[1;32m    397\u001B[0m \u001B[38;5;28;01mwhile\u001B[39;00m model\u001B[38;5;241m.\u001B[39mrunning \u001B[38;5;129;01mand\u001B[39;00m model\u001B[38;5;241m.\u001B[39mschedule\u001B[38;5;241m.\u001B[39msteps \u001B[38;5;241m<\u001B[39m \u001B[38;5;28mself\u001B[39m\u001B[38;5;241m.\u001B[39mmax_steps:\n\u001B[0;32m--> 398\u001B[0m     \u001B[43mmodel\u001B[49m\u001B[38;5;241;43m.\u001B[39;49m\u001B[43mstep\u001B[49m\u001B[43m(\u001B[49m\u001B[43m)\u001B[49m\n\u001B[1;32m    400\u001B[0m \u001B[38;5;28;01mif\u001B[39;00m \u001B[38;5;28mhasattr\u001B[39m(model, \u001B[38;5;124m\"\u001B[39m\u001B[38;5;124mdatacollector\u001B[39m\u001B[38;5;124m\"\u001B[39m):\n\u001B[1;32m    401\u001B[0m     \u001B[38;5;28;01mreturn\u001B[39;00m model\u001B[38;5;241m.\u001B[39mdatacollector\n",
      "Input \u001B[0;32mIn [5]\u001B[0m, in \u001B[0;36mHostVectorModel.step\u001B[0;34m(self)\u001B[0m\n\u001B[1;32m     56\u001B[0m         y \u001B[38;5;241m=\u001B[39m np\u001B[38;5;241m.\u001B[39mrandom\u001B[38;5;241m.\u001B[39mrandint(\u001B[38;5;241m0\u001B[39m, \u001B[38;5;28mself\u001B[39m\u001B[38;5;241m.\u001B[39mgrid\u001B[38;5;241m.\u001B[39mheight)\n\u001B[1;32m     57\u001B[0m         \u001B[38;5;28mself\u001B[39m\u001B[38;5;241m.\u001B[39mgrid\u001B[38;5;241m.\u001B[39mplace_agent(agent, (x, y))\n\u001B[0;32m---> 59\u001B[0m \u001B[38;5;28;01mfor\u001B[39;00m i \u001B[38;5;129;01min\u001B[39;00m \u001B[38;5;28mrange\u001B[39m(\u001B[38;5;28;43mself\u001B[39;49m\u001B[38;5;241;43m.\u001B[39;49m\u001B[43mN_host\u001B[49m):\n\u001B[1;32m     60\u001B[0m     \u001B[38;5;28;01mif\u001B[39;00m np\u001B[38;5;241m.\u001B[39mrandom\u001B[38;5;241m.\u001B[39mrand() \u001B[38;5;241m<\u001B[39m \u001B[38;5;28mself\u001B[39m\u001B[38;5;241m.\u001B[39mhost_birth_rate:\n\u001B[1;32m     61\u001B[0m         agent \u001B[38;5;241m=\u001B[39m Host(\u001B[38;5;124mf\u001B[39m\u001B[38;5;124m\"\u001B[39m\u001B[38;5;124mh_\u001B[39m\u001B[38;5;132;01m{\u001B[39;00m\u001B[38;5;28mlen\u001B[39m(\u001B[38;5;28mself\u001B[39m\u001B[38;5;241m.\u001B[39mschedule\u001B[38;5;241m.\u001B[39magents) \u001B[38;5;241m+\u001B[39m \u001B[38;5;241m1\u001B[39m\u001B[38;5;132;01m}\u001B[39;00m\u001B[38;5;124m\"\u001B[39m, \u001B[38;5;28mself\u001B[39m)\n",
      "\u001B[0;31mAttributeError\u001B[0m: 'HostVectorModel' object has no attribute 'N_host'"
     ]
    }
   ],
   "metadata": {
    "datalore": {
     "type": "CODE",
     "hide_input_from_viewers": false,
     "hide_output_from_viewers": false
    },
    "pycharm": {
     "name": "#%%\n"
    }
   }
  },
  {
   "cell_type": "code",
   "source": [
    "host_df = pd.concat(list(\n",
    "    map(lambda x: pd.pivot_table(x[x.Type==\"host\"].reset_index()[[\"Step\", \"AgentID\", \"State\"]], \n",
    "        index=\"Step\", \n",
    "        columns=\"State\", \n",
    "        aggfunc=np.size).T.reset_index(level=0, drop=True).T[1].T,\n",
    "    [br.get_model_vars_dataframe()[\"vals\"][i].get_agent_vars_dataframe() for i in range(len(br.get_model_vars_dataframe()[\"vals\"]))])\n",
    "), axis=1)"
   ],
   "execution_count": null,
   "outputs": [],
   "metadata": {
    "datalore": {
     "type": "CODE",
     "hide_input_from_viewers": false,
     "hide_output_from_viewers": false
    },
    "pycharm": {
     "name": "#%%\n"
    }
   }
  },
  {
   "cell_type": "code",
   "source": [
    "vector_df = pd.concat(list(\n",
    "    map(lambda x: pd.pivot_table(x[x.Type==\"vector\"].reset_index()[[\"Step\", \"AgentID\", \"State\"]], \n",
    "        index=\"Step\", \n",
    "        columns=\"State\", \n",
    "        aggfunc=np.size).T.reset_index(level=0, drop=True).T[1].T,\n",
    "    [br.get_model_vars_dataframe()[\"vals\"][i].get_agent_vars_dataframe() for i in range(len(br.get_model_vars_dataframe()[\"vals\"]))])\n",
    "), axis=1)"
   ],
   "execution_count": null,
   "outputs": [],
   "metadata": {
    "datalore": {
     "type": "CODE",
     "hide_input_from_viewers": false,
     "hide_output_from_viewers": false
    },
    "pycharm": {
     "name": "#%%\n"
    }
   }
  },
  {
   "cell_type": "code",
   "source": [
    "fig, axs = plt.subplots(nrows=2, ncols=1, sharex=True, facecolor=\"w\", figsize=(8, 6), dpi=600)\n",
    "\n",
    "axs[0].plot(host_df, color=COLORS[\"I\"], alpha=0.2, lw=0.5)\n",
    "axs[0].set_ylabel(\"Number of infectious hosts\")\n",
    "\n",
    "axs[1].plot(vector_df, color=COLORS[\"I\"], alpha=0.2, lw=0.5)\n",
    "axs[1].set_xlabel(\"Days\")\n",
    "axs[1].set_ylabel(\"Number of infectious vectors\")"
   ],
   "execution_count": null,
   "outputs": [],
   "metadata": {
    "datalore": {
     "type": "CODE",
     "hide_input_from_viewers": false,
     "hide_output_from_viewers": false
    },
    "pycharm": {
     "name": "#%%\n"
    }
   }
  }
 ],
 "metadata": {
  "datalore": {
   "version": 1,
   "computation_mode": "JUPYTER",
   "package_manager": "pip",
   "base_environment": "default",
   "packages": [
    {
     "name": "mesa",
     "version": "0.9.0",
     "source": "PIP"
    }
   ]
  }
 },
 "nbformat": 4,
 "nbformat_minor": 4
}
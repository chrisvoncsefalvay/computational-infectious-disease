{
 "cells": [
  {
   "cell_type": "markdown",
   "source": [
    "| **Chapter**                   | 9:  Agent-based models                               |\n",
    "| ----------------------------- |------------------------------------------------------|\n",
    "| **Computational Note**        | 9.19: Modeling different vaccine allocation policies |\n",
    "| **Package prerequisites**     | [Mesa](http://mesa.readthedocs.io)                   |\n",
    "\n",
    "# Modeling different vaccine allocation policies\n"
   ],
   "metadata": {
    "collapsed": false,
    "pycharm": {
     "name": "#%% md\n"
    }
   }
  },
  {
   "cell_type": "code",
   "source": [
    "import numpy as np\n",
    "import pandas as pd\n",
    "from mesa import Agent, Model\n",
    "from mesa.time import RandomActivation\n",
    "from mesa.space import NetworkGrid\n",
    "from mesa.datacollection import DataCollector\n",
    "from mesa import batchrunner\n",
    "from matplotlib import pyplot as plt\n",
    "from matplotlib.lines import Line2D\n",
    "import networkx as nx\n",
    "import enum\n",
    "import random\n",
    "from typing import *\n",
    "import seaborn as sns\n",
    "\n",
    "\n",
    "COLORS = {\"S\": \"#2f4b7c\",\n",
    "          \"E\": \"#ffa600\",\n",
    "          \"I\": \"#f95d6a\",\n",
    "          \"R\": \"#a05195\",\n",
    "          \"D\": \"#003f5c\",\n",
    "          \"C\": \"#ff7c43\",\n",
    "          \"X\": \"#665191\",\n",
    "          \"Y\": \"#d45087\"}"
   ],
   "execution_count": 1,
   "outputs": [],
   "metadata": {
    "datalore": {
     "type": "CODE",
     "hide_input_from_viewers": false,
     "hide_output_from_viewers": false
    },
    "pycharm": {
     "name": "#%%\n"
    }
   }
  },
  {
   "cell_type": "code",
   "execution_count": 2,
   "outputs": [
    {
     "name": "stdout",
     "output_type": "stream",
     "text": [
      "Author: Chris von Csefalvay\n",
      "\n",
      "Github username: chrisvoncsefalvay\n",
      "\n",
      "Python implementation: CPython\n",
      "Python version       : 3.10.2\n",
      "IPython version      : 8.4.0\n",
      "\n",
      "mesa: 0.9.0\n",
      "\n",
      "numpy     : 1.22.4\n",
      "mesa      : 0.9.0\n",
      "networkx  : 2.8.4\n",
      "matplotlib: 3.5.2\n",
      "pandas    : 1.4.2\n",
      "seaborn   : 0.11.2\n",
      "\n"
     ]
    }
   ],
   "source": [
    "%load_ext watermark\n",
    "%watermark --iversions -v -a \"Chris von Csefalvay\" -gu \"chrisvoncsefalvay\" -p mesa"
   ],
   "metadata": {
    "collapsed": false,
    "pycharm": {
     "name": "#%%\n"
    }
   }
  },
  {
   "cell_type": "code",
   "source": [
    "class State(enum.IntEnum):\n",
    "    SUSCEPTIBLE = 0\n",
    "    INFECTED = 1\n",
    "    RECOVERED = 2\n",
    "    VACCINATED = 3\n",
    "    DECEASED = 4"
   ],
   "execution_count": 3,
   "outputs": [],
   "metadata": {
    "datalore": {
     "type": "CODE",
     "hide_input_from_viewers": false,
     "hide_output_from_viewers": false
    },
    "pycharm": {
     "name": "#%%\n"
    }
   }
  },
  {
   "cell_type": "code",
   "source": [
    "class Person(Agent):\n",
    "    def __init__(self, uid, model):\n",
    "        super().__init__(uid, model)\n",
    "        \n",
    "        # Naive start\n",
    "        self.state = State.SUSCEPTIBLE\n",
    "        self.susceptible_neighbourhood_size, self.infectious_neighbourhood_size, self.vaccinated_neighbourhood_size, self.recovered_neighbourhood_size, self.living_neighbourhood_size = 0, 0, 0, 0, 0\n",
    "        \n",
    "    def contact_event(self):\n",
    "        neighbourhood = self.model.grid.get_neighbors(self.pos, include_center=False)\n",
    "        susceptible_neighbourhood = [agent for agent in self.model.grid.get_cell_list_contents(neighbourhood) \n",
    "                                                                            if agent.state is State.SUSCEPTIBLE]\n",
    "\n",
    "        for neighbour in susceptible_neighbourhood:\n",
    "            if np.random.rand() < self.model.beta:\n",
    "                neighbour.state = State.INFECTED\n",
    "\n",
    "    def status_update(self):        \n",
    "        if self.state == State.INFECTED:\n",
    "            if np.random.rand() < 1/self.model.recovery_period:\n",
    "                if np.random.rand() < self.model.CFR:\n",
    "                    self.state = State.DECEASED\n",
    "                else:\n",
    "                    self.state = State.RECOVERED\n",
    "\n",
    "        if np.random.rand() < self.model.base_mortality_rate:\n",
    "            self.state = State.DECEASED\n",
    "\n",
    "        neighbourhood = self.model.grid.get_cell_list_contents(self.model.grid.get_neighbors(self.pos, include_center=False))\n",
    "        self.susceptible_neighbourhood_size = sum(1 for agent in neighbourhood if agent.state is State.SUSCEPTIBLE)\n",
    "        self.infectious_neighbourhood_size = sum(1 for agent in neighbourhood if agent.state is State.INFECTED)\n",
    "        self.vaccinated_neighbourhood_size = sum(1 for agent in neighbourhood if agent.state is State.VACCINATED)\n",
    "        self.living_neighbourhood_size = sum(1 for agent in neighbourhood if agent.state is not State.DECEASED)\n",
    "\n",
    "    def step(self):\n",
    "        self.status_update()\n",
    "\n",
    "        if self.state is State.INFECTED:\n",
    "            self.contact_event()\n",
    "    "
   ],
   "execution_count": 4,
   "outputs": [],
   "metadata": {
    "datalore": {
     "type": "CODE",
     "hide_input_from_viewers": false,
     "hide_output_from_viewers": false
    },
    "pycharm": {
     "name": "#%%\n"
    }
   }
  },
  {
   "cell_type": "code",
   "source": [
    "class NetworkInfectiousDiseaseModel(Model):\n",
    "\n",
    "    def __init__(self, \n",
    "                 nodes=50_000,\n",
    "                 mean_degree=12,\n",
    "                 recovery_period=4,\n",
    "                 beta=0.02,\n",
    "                 CFR=0.05,\n",
    "                 base_mortality_rate=0.000125,\n",
    "                 I0=0.0025,\n",
    "                 policy=\"random\",\n",
    "                 vaccines_per_step_limit=128):\n",
    "                     \n",
    "        self.N_agents = nodes\n",
    "        self.recovery_period = recovery_period\n",
    "        self.beta = beta\n",
    "        self.CFR = CFR\n",
    "        self.base_mortality_rate = base_mortality_rate\n",
    "\n",
    "        self.graph = nx.barabasi_albert_graph(n=self.N_agents, m=mean_degree)\n",
    "        self.grid = NetworkGrid(self.graph)\n",
    "\n",
    "        self.schedule = RandomActivation(self)\n",
    "        self.running = True\n",
    "        self.policy = policy\n",
    "        self.vaccines_per_step_limit = vaccines_per_step_limit\n",
    "\n",
    "        self.policy_names = {\n",
    "            \"random\": self.vaccinate_randomly,\n",
    "            \"susceptibility\": self.vaccinate_by_number_of_susceptible_connections,\n",
    "            \"risk\": self.vaccinate_at_highest_risk,\n",
    "            \"equity\": self.vaccinate_by_equity\n",
    "        }\n",
    "\n",
    "        for idx, node in enumerate(self.graph.nodes()):\n",
    "            agent = Person(uid=idx + 1, model=self)\n",
    "            self.schedule.add(agent)\n",
    "            self.grid.place_agent(agent, node)\n",
    "            agent.status_update()\n",
    "\n",
    "            if idx < I0 * nodes:\n",
    "                agent.state = State.INFECTED\n",
    "\n",
    "        self.datacollector = DataCollector({\"Infectious\": lambda m: m.number_infectious()})\n",
    "\n",
    "    def get_susceptibles(self) -> List[Agent]:\n",
    "        return [agent for agent in self.schedule.agents if agent.state is State.SUSCEPTIBLE]\n",
    "\n",
    "    def vaccinate_randomly(self, n: int):\n",
    "        for vaccinee in random.sample(self.get_susceptibles(), min(n, len(self.get_susceptibles()))):\n",
    "            vaccinee.state = State.VACCINATED\n",
    "\n",
    "    def vaccinate_by_number_of_susceptible_connections(self, n: int):\n",
    "        candidates = sorted(self.get_susceptibles(), key=lambda x: x.susceptible_neighbourhood_size, reverse=True)\n",
    "        if candidates:\n",
    "            for i in candidates[:n]:\n",
    "                i.state = State.VACCINATED\n",
    "\n",
    "    def vaccinate_at_highest_risk(self, n: int):\n",
    "        candidates = self.get_susceptibles().sort(key=lambda x: x.infectious_neighbourhood_size/(x.living_neighbourhood_size + 1), reverse=True)\n",
    "        if candidates:\n",
    "            for i in candidates[:n]:\n",
    "                i.state = State.VACCINATED\n",
    "\n",
    "    def vaccinate_by_equity(self, n: int):\n",
    "        candidates = self.get_susceptibles().sort(key=lambda x: x.vaccinated_neighbourhood_size/(x.living_neighbourhood_size+1))\n",
    "        if candidates:\n",
    "            for i in candidates[:n]:\n",
    "                i.state = State.VACCINATED\n",
    "\n",
    "    def step(self):\n",
    "        self.datacollector.collect(self)\n",
    "        self.schedule.step()\n",
    "        self.policy_names[self.policy](self.vaccines_per_step_limit)\n",
    "\n",
    "    def number_infectious(self):\n",
    "        return np.sum([1 for i in self.schedule.agents if i.state is State.INFECTED])"
   ],
   "execution_count": 5,
   "outputs": [],
   "metadata": {
    "datalore": {
     "type": "CODE",
     "hide_input_from_viewers": false,
     "hide_output_from_viewers": false
    },
    "pycharm": {
     "name": "#%%\n"
    }
   }
  },
  {
   "cell_type": "code",
   "source": [
    "br = batchrunner.FixedBatchRunner(NetworkInfectiousDiseaseModel,\n",
    "                                  fixed_parameters={\"nodes\": 50_000},\n",
    "                                  parameters_list=[{\"policy\": \"random\"}, {\"policy\": \"susceptibility\"}, {\"policy\": \"risk\"}, {\"policy\": \"equity\"}],\n",
    "                                  iterations=8,\n",
    "                                  max_steps=61,\n",
    "                                  model_reporters={\"vals\": lambda m: m.datacollector},\n",
    "                                  display_progress=True)"
   ],
   "execution_count": 6,
   "outputs": [],
   "metadata": {
    "datalore": {
     "type": "CODE",
     "hide_input_from_viewers": false,
     "hide_output_from_viewers": false
    },
    "pycharm": {
     "name": "#%%\n"
    }
   }
  },
  {
   "cell_type": "code",
   "source": [
    "br.run_all()"
   ],
   "execution_count": null,
   "outputs": [
    {
     "name": "stderr",
     "output_type": "stream",
     "text": [
      "9it [28:23, 190.28s/it]"
     ]
    }
   ],
   "metadata": {
    "datalore": {
     "type": "CODE",
     "hide_input_from_viewers": false,
     "hide_output_from_viewers": false
    },
    "pycharm": {
     "name": "#%%\n",
     "is_executing": true
    }
   }
  },
  {
   "cell_type": "code",
   "source": [
    "by_policy = {}\n",
    "\n",
    "for i in range(len(br.get_model_vars_dataframe().policy)):\n",
    "    if br.get_model_vars_dataframe().policy[i] not in by_policy.keys():\n",
    "        by_policy[br.get_model_vars_dataframe().policy[i]] = []\n",
    "    \n",
    "    by_policy[br.get_model_vars_dataframe().policy[i]].append(\n",
    "        br.get_model_vars_dataframe().vals[i].get_model_vars_dataframe()[\"Infectious\"]\n",
    "    )"
   ],
   "execution_count": null,
   "outputs": [],
   "metadata": {
    "datalore": {
     "type": "CODE",
     "hide_input_from_viewers": false,
     "hide_output_from_viewers": false
    },
    "pycharm": {
     "name": "#%%\n",
     "is_executing": true
    }
   }
  },
  {
   "cell_type": "code",
   "source": [
    "means, sds = {}, {}\n",
    "\n",
    "for i in br.get_model_vars_dataframe().policy.unique():\n",
    "    mu = pd.concat([*(by_policy[i])], axis=1).mean(axis=1)\n",
    "    sigma = pd.concat([*(by_policy[i])], axis=1).std(axis=1)\n",
    "\n",
    "    means[i] = mu\n",
    "    sds[i] = sigma"
   ],
   "execution_count": null,
   "outputs": [],
   "metadata": {
    "datalore": {
     "type": "CODE",
     "hide_input_from_viewers": false,
     "hide_output_from_viewers": false
    },
    "pycharm": {
     "name": "#%%\n",
     "is_executing": true
    }
   }
  },
  {
   "cell_type": "code",
   "source": [
    "fig = plt.figure(facecolor=\"w\", figsize=(6, 6), dpi=600)\n",
    "ax = fig.add_subplot(111, axisbelow=True)\n",
    "\n",
    "colour_cycle = [\"X\", \"I\", \"C\", \"E\"]\n",
    "\n",
    "logged_qs = []\n",
    "linestyle_idx = 0\n",
    "\n",
    "for idx, q in enumerate(by_policy.keys()):\n",
    "    for ts in by_policy[q]:\n",
    "        ax.plot(ts, color=COLORS[colour_cycle[idx]], alpha=0.3, lw=0.5, label=\"\", linestyle=\":\" if linestyle_idx % 2 == 0 else \"solid\")\n",
    "        logged_qs.append(q)\n",
    "\n",
    "    ax.plot(means[q], color=COLORS[colour_cycle[idx]], lw=1.5, alpha=0.5, linestyle=\":\" if linestyle_idx % 2 == 0 else \"solid\")\n",
    "    ax.fill_between(ts.index, means[q], 0, color=COLORS[colour_cycle[idx]], alpha=0.2)\n",
    "    linestyle_idx += 1\n",
    "\n",
    "legend_lines = [Line2D([0], [0], color=COLORS[\"X\"], lw=2, alpha=0.5, linestyle=\":\"),\n",
    "                Line2D([0], [0], color=COLORS[\"I\"], lw=2, alpha=0.5, linestyle=\"solid\"),\n",
    "                Line2D([0], [0], color=COLORS[\"C\"], lw=2, alpha=0.5, linestyle=\":\"),\n",
    "                Line2D([0], [0], color=COLORS[\"E\"], lw=2, alpha=0.5, linestyle=\"solid\")]\n",
    "\n",
    "ax.legend(legend_lines, [\"Random\", \"Susceptibility-driven\", \"Risk-driven\", \"Equitable\"], title=\"\", bbox_to_anchor=(0.5, -0.355), loc=\"lower center\", ncol=2, frameon=False)\n",
    "\n",
    "ax.set_xlim(0, 60)\n",
    "ax.set_xlabel(\"Days\")\n",
    "ax.set_ylabel(\"Number in infectious compartment\")\n",
    "\n",
    "fig.tight_layout(pad=5.0)\n",
    "plt.savefig(\"vax_policies.pdf\")\n",
    "plt.show()"
   ],
   "execution_count": null,
   "outputs": [],
   "metadata": {
    "datalore": {
     "type": "CODE",
     "hide_input_from_viewers": false,
     "hide_output_from_viewers": false
    },
    "pycharm": {
     "name": "#%%\n",
     "is_executing": true
    }
   }
  }
 ],
 "metadata": {
  "datalore": {
   "version": 1,
   "computation_mode": "JUPYTER",
   "package_manager": "pip",
   "base_environment": "default",
   "packages": [
    {
     "name": "mesa",
     "version": "0.9.0",
     "source": "PIP"
    }
   ]
  }
 },
 "nbformat": 4,
 "nbformat_minor": 4
}
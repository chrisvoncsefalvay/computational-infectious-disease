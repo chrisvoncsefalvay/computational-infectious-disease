{
 "cells":[
  {
   "cell_type":"code",
   "source":[
    "import numpy as np\n",
    "import pandas as pd\n",
    "from mesa import Agent, Model\n",
    "from mesa.time import RandomActivation\n",
    "from mesa.space import NetworkGrid\n",
    "from mesa.datacollection import DataCollector\n",
    "from matplotlib import pyplot as plt\n",
    "import networkx as nx\n",
    "import json\n",
    "from scipy import stats\n",
    "import enum\n",
    "\n",
    "COLORS = {\"S\": \"#2f4b7c\",\n",
    "          \"E\": \"#ffa600\",\n",
    "          \"I\": \"#f95d6a\",\n",
    "          \"R\": \"#a05195\",\n",
    "          \"D\": \"#003f5c\",\n",
    "          \"C\": \"#ff7c43\",\n",
    "          \"X\": \"#665191\",\n",
    "          \"Y\": \"#d45087\"}"
   ],
   "execution_count":31,
   "outputs":[
    
   ],
   "metadata":{
    "datalore":{
     "type":"CODE",
     "hide_input_from_viewers":false,
     "hide_output_from_viewers":false
    }
   }
  },
  {
   "cell_type":"code",
   "source":[
    "class State(enum.IntEnum):\n",
    "    SUSCEPTIBLE = 0\n",
    "    EXPOSED = 1\n",
    "    INFECTED = 2\n",
    "    RECOVERED = 3\n",
    "    VACCINATED = 4\n",
    "    DECEASED = 5"
   ],
   "execution_count":32,
   "outputs":[
    
   ],
   "metadata":{
    "datalore":{
     "type":"CODE",
     "hide_input_from_viewers":false,
     "hide_output_from_viewers":false
    }
   }
  },
  {
   "cell_type":"code",
   "source":[
    "class Person(Agent):\n",
    "    def __init__(self, uid, model):\n",
    "        super().__init__(uid, model)\n",
    "        \n",
    "        # based on US population\n",
    "        self.age = stats.norm.rvs(38.5, 20)\n",
    "        \n",
    "        # Naive start\n",
    "        self.state = State.SUSCEPTIBLE\n",
    "        \n",
    "        self.time_at_infection = 0\n",
    "        self.time_at_induction_of_immunity = None\n",
    "        self.is_hospitalised = False\n",
    "\n",
    "    def contact_event(self):\n",
    "        neighbourhood = self.model.grid.get_neighbors(self.pos, include_center=False)\n",
    "        susceptible_neighbourhood = [agent for agent in self.model.grid.get_cell_list_contents(neighbourhood) if agent.state is State.SUSCEPTIBLE]\n",
    "\n",
    "        for neighbour in susceptible_neighbourhood:\n",
    "            if np.random.rand() < model.beta:\n",
    "                neighbour.state = State.EXPOSED\n",
    "\n",
    "    def status_update(self):\n",
    "        if self.state == State.EXPOSED:\n",
    "            if self.model.schedule.time - self.time_at_infection >= model.latency_period.rvs():\n",
    "                self.state = State.INFECTED\n",
    "        \n",
    "        if self.state == State.INFECTED:\n",
    "            if self.model.schedule.time - self.time_at_infection >= model.latency_period.rvs() + model.recovery_period.rvs():\n",
    "                if np.random.rand() < model.CFR:\n",
    "                    self.state = State.DECEASED\n",
    "                else:\n",
    "                    self.state = State.RECOVERED\n",
    "                    self.time_at_induction_of_immunity = self.model.schedule.time\n",
    "\n",
    "        if np.random.rand() < model.base_mortality_rate:\n",
    "            self.state = State.DECEASED\n",
    "\n",
    "        if self.state == State.RECOVERED:\n",
    "            if self.model.schedule.time - self.time_at_induction_of_immunity > self.model.duration_of_immunity.rvs():\n",
    "                self.state = State.SUSCEPTIBLE\n",
    "\n",
    "        if self.state == State.SUSCEPTIBLE:\n",
    "            neighbourhood = self.model.grid.get_cell_list_contents(self.model.grid.get_neighbors(self.pos, include_center=False))\n",
    "\n",
    "            # Simple majority voting quorum sensing\n",
    "            vaccinated_neighbourhood = [i for i in neighbourhood if i.state == State.VACCINATED]\n",
    "\n",
    "            if len(neighbourhood) == 0:\n",
    "                quorum = 0\n",
    "            else:\n",
    "                quorum = len(vaccinated_neighbourhood)\/len(neighbourhood)\n",
    "\n",
    "            if np.random.rand() < self.model.base_vaccination_rate + int(quorum >= 0.5) * self.model.homophily_factor_of_vaccination:\n",
    "                self.state = State.VACCINATED\n",
    "                self.time_at_induction_of_immunity = self.model.schedule.time\n",
    "\n",
    "        if self.state == State.VACCINATED:\n",
    "            if self.model.schedule.time - self.time_at_induction_of_immunity > self.model.duration_of_vaccine_induced_immunity.rvs():\n",
    "                self.state = State.SUSCEPTIBLE\n",
    "        \n",
    "    def step(self):\n",
    "        self.status_update()\n",
    "        self.contact_event()\n",
    "    \n",
    "\n",
    "    def toJSON(self):        \n",
    "        key = self.unique_id\n",
    "        return json.dumps(key, default=lambda o: o.__dict__, sort_keys=True, indent=4)"
   ],
   "execution_count":33,
   "outputs":[
    
   ],
   "metadata":{
    "datalore":{
     "type":"CODE",
     "hide_input_from_viewers":false,
     "hide_output_from_viewers":false
    }
   }
  },
  {
   "cell_type":"code",
   "source":[
    "class NetworkInfectiousDiseaseModel(Model):\n",
    "\n",
    "    def __init__(self, \n",
    "                 nodes=50, \n",
    "                 mean_degree=3,\n",
    "                 latency_period_mu=5,\n",
    "                 latency_period_sigma=2,\n",
    "                 recovery_period_mu=14,\n",
    "                 recovery_period_sigma=5,\n",
    "                 beta=0.001,\n",
    "                 CFR=0.05,\n",
    "                 base_mortality_rate=0.000125,\n",
    "                 I0=0.005,\n",
    "                 duration_of_immunity_mu=90,\n",
    "                 duration_of_immunity_sigma=14,\n",
    "                 base_vaccination_rate=0.0007,\n",
    "                 duration_of_vaccine_induced_immunity_mu=90,\n",
    "                 duration_of_vaccine_induced_immunity_sigma=7,\n",
    "                 homophily_factor_of_vaccination=3,\n",
    "                 hospitalisation_fraction=0.2,\n",
    "                 hospital_capacity=200):\n",
    "                     \n",
    "        self.N_agents = nodes\n",
    "        self.latency_period = stats.halfnorm(latency_period_mu, latency_period_sigma)\n",
    "        self.recovery_period = stats.halfnorm(recovery_period_mu, recovery_period_sigma)\n",
    "        self.beta = beta\n",
    "        self.CFR = CFR\n",
    "        self.base_mortality_rate = base_mortality_rate\n",
    "        self.duration_of_immunity = stats.halfnorm(duration_of_immunity_mu, duration_of_immunity_sigma)\n",
    "        self.base_vaccination_rate = base_vaccination_rate\n",
    "        self.duration_of_vaccine_induced_immunity = stats.halfnorm(duration_of_vaccine_induced_immunity_mu, duration_of_vaccine_induced_immunity_sigma)\n",
    "        self.homophily_factor_of_vaccination = homophily_factor_of_vaccination\n",
    "        self.hospitalisation_fraction = hospitalisation_fraction\n",
    "        self.hospital_capacity = 200\n",
    "\n",
    "        self.graph = nx.erdos_renyi_graph(n=self.N_agents, p=mean_degree\/self.N_agents)\n",
    "        self.grid = NetworkGrid(self.graph)\n",
    "\n",
    "        self.schedule = RandomActivation(self)\n",
    "        self.running = True\n",
    "\n",
    "        for idx, node in enumerate(self.graph.nodes()):\n",
    "            agent = Person(uid=idx + 1, model=self)\n",
    "            self.schedule.add(agent)\n",
    "            self.grid.place_agent(agent, node)\n",
    "\n",
    "            if np.random.rand() < I0:\n",
    "                agent.state = State.INFECTED\n",
    "\n",
    "        self.datacollector = DataCollector(agent_reporters={\"State\": \"state\"})\n",
    "\n",
    "    def step(self):\n",
    "        self.datacollector.collect(self)\n",
    "        self.schedule.step()\n",
    "\n",
    "    def to_df(self):\n",
    "        state_profile = self.datacollector.get_agent_vars_dataframe()\n",
    "        output_df = pd.pivot_table(state_profile.reset_index(), \n",
    "                       index=\"Step\", \n",
    "                       columns=\"State\", \n",
    "                       aggfunc=np.size, \n",
    "                       fill_value=0)\n",
    "        output_df.columns = [i.title() for i in State.__dict__.get(\"_member_names_\")]\n",
    "        return output_df"
   ],
   "execution_count":34,
   "outputs":[
    
   ],
   "metadata":{
    "datalore":{
     "type":"CODE",
     "hide_input_from_viewers":false,
     "hide_output_from_viewers":false
    }
   }
  },
  {
   "cell_type":"code",
   "source":[
    "model = NetworkInfectiousDiseaseModel()"
   ],
   "execution_count":35,
   "outputs":[
    
   ],
   "metadata":{
    "datalore":{
     "type":"CODE",
     "hide_input_from_viewers":false,
     "hide_output_from_viewers":false
    }
   }
  },
  {
   "cell_type":"code",
   "source":[
    "pop=10000\n",
    "steps=60\n",
    "\n",
    "model = NetworkInfectiousDiseaseModel(pop)\n",
    "\n",
    "for i in range(steps):\n",
    "    model.step()\n",
    "\n",
    "model_results = model.to_df()"
   ],
   "execution_count":36,
   "outputs":[
    
   ],
   "metadata":{
    "datalore":{
     "type":"CODE",
     "hide_input_from_viewers":false,
     "hide_output_from_viewers":false
    }
   }
  },
  {
   "cell_type":"code",
   "source":[
    "fig = plt.figure(facecolor=\"w\", figsize=(8, 4), dpi=600)\n",
    "ax = fig.add_subplot(111, axisbelow=True)\n",
    "\n",
    "# plt.plot(model_results.index, model_results.Susceptible, color=COLORS[\"S\"], label=\"Susceptible\")\n",
    "ax.plot(model_results.index, model_results.Exposed, color=COLORS[\"E\"], alpha=0.6, label=\"Exposed\")\n",
    "ax.plot(model_results.index, model_results.Infected, color=COLORS[\"I\"], alpha=0.6, label=\"Infected\")\n",
    "ax.plot(model_results.index, model_results.Recovered, color=COLORS[\"R\"], alpha=0.6, lw=1, linestyle=\":\", label=\"Recovered\")\n",
    "ax.plot(model_results.index, model_results.Deceased, color=COLORS[\"D\"], alpha=0.6, lw=1, linestyle=\":\", label=\"Deceased\")\n",
    "ax.plot(model_results.index, model_results.Vaccinated, color=COLORS[\"Y\"], alpha=0.6, lw=1, linestyle=\":\", label=\"Vaccinated\")\n",
    "ax.plot(model_results.index, model_results.Recovered + model_results.Deceased + model_results.Vaccinated, color=COLORS[\"X\"], alpha=0.6, lw=2, label=\"Total non-susceptibles\")\n",
    "\n",
    "ax.fill_between(model_results.index, 0, model_results.Exposed, color=COLORS[\"E\"], alpha=0.15)\n",
    "ax.fill_between(model_results.index, 0, model_results.Infected, color=COLORS[\"I\"], alpha=0.15)\n",
    "ax.fill_between(model_results.index, 0, model_results.Recovered + model_results.Deceased, color=COLORS[\"R\"], alpha=0.15)\n",
    "ax.fill_between(model_results.index, model_results.Recovered, model_results.Recovered + model_results.Deceased + model_results.Vaccinated, color=COLORS[\"D\"], alpha=0.15)\n",
    "\n",
    "\n",
    "legend = ax.legend()\n",
    "legend.get_frame().set_alpha(0.5)\n",
    "plt.legend(title=\"\", bbox_to_anchor=(0.5, -0.425), loc=\"lower center\", ncol=3, frameon=False)\n",
    "\n",
    "ax.set_xlabel(\"Days\")\n",
    "ax.set_ylabel(\"Number in compartment\")\n",
    "\n",
    "plt.savefig(\"SEIRDV_ABM_output.pdf\")"
   ],
   "execution_count":38,
   "outputs":[
    
   ],
   "metadata":{
    "datalore":{
     "type":"CODE",
     "hide_input_from_viewers":false,
     "hide_output_from_viewers":false
    }
   }
  }
 ],
 "metadata":{
  "datalore":{
   "version":1,
   "computation_mode":"JUPYTER",
   "package_manager":"pip",
   "base_environment":"default",
   "packages":[
    {
     "name":"mesa",
     "version":"0.9.0",
     "source":"PIP"
    }
   ]
  }
 },
 "nbformat":4,
 "nbformat_minor":4
}
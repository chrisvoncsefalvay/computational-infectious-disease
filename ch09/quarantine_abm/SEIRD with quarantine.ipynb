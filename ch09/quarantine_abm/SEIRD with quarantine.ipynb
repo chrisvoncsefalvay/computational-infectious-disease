{
 "cells":[
  {
   "cell_type":"code",
   "source":[
    "import numpy as np\n",
    "import pandas as pd\n",
    "from mesa import Agent, Model\n",
    "from mesa.time import RandomActivation\n",
    "from mesa.space import NetworkGrid\n",
    "from mesa.datacollection import DataCollector\n",
    "from mesa import batchrunner\n",
    "from matplotlib import pyplot as plt\n",
    "from matplotlib import colors as clrs\n",
    "import networkx as nx\n",
    "import json\n",
    "from scipy import stats\n",
    "import enum\n",
    "\n",
    "\n",
    "COLORS = {\"S\": \"#2f4b7c\",\n",
    "          \"E\": \"#ffa600\",\n",
    "          \"I\": \"#f95d6a\",\n",
    "          \"R\": \"#a05195\",\n",
    "          \"D\": \"#003f5c\",\n",
    "          \"C\": \"#ff7c43\",\n",
    "          \"X\": \"#665191\",\n",
    "          \"Y\": \"#d45087\"}"
   ],
   "execution_count":113,
   "outputs":[
    
   ],
   "metadata":{
    "datalore":{
     "type":"CODE",
     "hide_input_from_viewers":false,
     "hide_output_from_viewers":false
    }
   }
  },
  {
   "cell_type":"code",
   "source":[
    "class State(enum.IntEnum):\n",
    "    SUSCEPTIBLE = 0\n",
    "    EXPOSED = 1\n",
    "    SYMPTOMATIC = 2\n",
    "    RECOVERED = 3\n",
    "    DECEASED = 4\n",
    "    QUARANTINED = 5"
   ],
   "execution_count":114,
   "outputs":[
    
   ],
   "metadata":{
    "datalore":{
     "type":"CODE",
     "hide_input_from_viewers":false,
     "hide_output_from_viewers":false
    }
   }
  },
  {
   "cell_type":"code",
   "source":[
    "class Person(Agent):\n",
    "    def __init__(self, uid, model):\n",
    "        super().__init__(uid, model)\n",
    "        \n",
    "        # Naive start\n",
    "        self.state = State.SUSCEPTIBLE\n",
    "        self.days_remaining_of_quarantine = None\n",
    "        \n",
    "    def contact_event(self):\n",
    "        neighbourhood = self.model.grid.get_neighbors(self.pos, include_center=False)\n",
    "        susceptible_neighbourhood = [agent for agent in self.model.grid.get_cell_list_contents(neighbourhood) \n",
    "                                                                            if agent.state is State.SUSCEPTIBLE]\n",
    "\n",
    "        for neighbour in susceptible_neighbourhood:\n",
    "            if self.state in [State.SYMPTOMATIC, State.EXPOSED] and np.random.rand() < self.model.beta:\n",
    "                neighbour.state = State.EXPOSED\n",
    "\n",
    "    def status_update(self):        \n",
    "        if self.state == State.SYMPTOMATIC:\n",
    "            if np.random.rand() < 1\/self.model.recovery_period:\n",
    "                if np.random.rand() < self.model.CFR:\n",
    "                    self.state = State.DECEASED\n",
    "                else:\n",
    "                    self.state = State.RECOVERED\n",
    "            elif np.random.rand() < self.model.quarantine_capture_fraction:\n",
    "                self.state = State.QUARANTINED\n",
    "                self.days_remaining_of_quarantine = self.model.quarantine_length + 1\n",
    "        \n",
    "        if self.state == State.EXPOSED:\n",
    "            if np.random.rand() < 1\/self.model.latency_period:\n",
    "                self.state = State.SYMPTOMATIC\n",
    "\n",
    "        if self.state == State.QUARANTINED:\n",
    "            self.days_remaining_of_quarantine -= 1\n",
    "            if self.days_remaining_of_quarantine < 1:\n",
    "                self.state = State.RECOVERED\n",
    "                self.days_remaining_of_quarantine = None\n",
    "\n",
    "        if np.random.rand() < self.model.base_mortality_rate:\n",
    "            self.state = State.DECEASED\n",
    "\n",
    "\n",
    "    def step(self):\n",
    "        self.status_update()\n",
    "\n",
    "        if self.state in [State.SYMPTOMATIC, State.EXPOSED]:\n",
    "            self.contact_event()\n",
    "    "
   ],
   "execution_count":115,
   "outputs":[
    
   ],
   "metadata":{
    "datalore":{
     "type":"CODE",
     "hide_input_from_viewers":false,
     "hide_output_from_viewers":false
    }
   }
  },
  {
   "cell_type":"code",
   "source":[
    "class NetworkInfectiousDiseaseModel(Model):\n",
    "\n",
    "    def __init__(self, \n",
    "                 nodes=5000, \n",
    "                 mean_degree=12,\n",
    "                 recovery_period=7,\n",
    "                 latency_period=4,\n",
    "                 beta=0.0075,\n",
    "                 CFR=0.05,\n",
    "                 base_mortality_rate=0.000125,\n",
    "                 quarantine_capture_fraction=0.1,\n",
    "                 quarantine_length=7,\n",
    "                 I0=0.05):\n",
    "                     \n",
    "        self.N_agents = nodes\n",
    "        self.recovery_period = recovery_period\n",
    "        self.latency_period = latency_period\n",
    "        self.beta = beta\n",
    "        self.CFR = CFR\n",
    "        self.base_mortality_rate = base_mortality_rate\n",
    "        self.quarantine_capture_fraction = quarantine_capture_fraction\n",
    "        self.quarantine_length = quarantine_length\n",
    "\n",
    "        self.graph = nx.erdos_renyi_graph(n=self.N_agents, p=mean_degree\/self.N_agents)\n",
    "        self.grid = NetworkGrid(self.graph)\n",
    "\n",
    "        self.schedule = RandomActivation(self)\n",
    "        self.running = True\n",
    "\n",
    "        for idx, node in enumerate(self.graph.nodes()):\n",
    "            agent = Person(uid=idx + 1, model=self)\n",
    "            self.schedule.add(agent)\n",
    "            self.grid.place_agent(agent, node)\n",
    "\n",
    "            if np.random.rand() < I0:\n",
    "                agent.state = State.EXPOSED\n",
    "\n",
    "        self.datacollector = DataCollector(agent_reporters={\"State\": \"state\"})\n",
    "\n",
    "    def step(self):\n",
    "        self.datacollector.collect(self)\n",
    "        self.schedule.step()\n",
    "\n",
    "    def to_df(self):\n",
    "        state_profile = self.datacollector.get_agent_vars_dataframe()\n",
    "        output_df = pd.pivot_table(state_profile.reset_index(), \n",
    "                       index=\"Step\", \n",
    "                       columns=\"State\", \n",
    "                       aggfunc=np.size, \n",
    "                       fill_value=0)\n",
    "        output_df.columns = [i.title() for i in State.__dict__.get(\"_member_names_\")]\n",
    "        return output_df"
   ],
   "execution_count":116,
   "outputs":[
    
   ],
   "metadata":{
    "datalore":{
     "type":"CODE",
     "hide_input_from_viewers":false,
     "hide_output_from_viewers":false
    }
   }
  },
  {
   "cell_type":"code",
   "source":[
    "br = batchrunner.FixedBatchRunner(NetworkInfectiousDiseaseModel,\n",
    "                                  fixed_parameters={\"nodes\": 5000},\n",
    "                                  iterations=32,\n",
    "                                  max_steps=60,\n",
    "                                  model_reporters={\"vals\": lambda m: m.datacollector},\n",
    "                                  display_progress=True)"
   ],
   "execution_count":117,
   "outputs":[
    
   ],
   "metadata":{
    "datalore":{
     "type":"CODE",
     "hide_input_from_viewers":false,
     "hide_output_from_viewers":false
    }
   }
  },
  {
   "cell_type":"code",
   "source":[
    "br.run_all()"
   ],
   "execution_count":118,
   "outputs":[
    {
     "name":"stderr",
     "text":[
      "\r0it [00:00, ?it\/s]\r1it [00:03,  3.54s\/it]\r2it [00:07,  3.54s\/it]\r3it [00:10,  3.54s\/it]\r4it [00:14,  3.52s\/it]\r5it [00:18,  3.73s\/it]\r6it [00:21,  3.65s\/it]\r7it [00:25,  3.74s\/it]\r8it [00:29,  3.69s\/it]\r9it [00:32,  3.64s\/it]\r10it [00:36,  3.75s\/it]\r11it [00:40,  3.67s\/it]\r12it [00:43,  3.66s\/it]\r13it [00:47,  3.79s\/it]\r14it [00:51,  3.72s\/it]\r15it [00:55,  3.67s\/it]\r16it [00:59,  3.82s\/it]\r17it [01:02,  3.74s\/it]\r18it [01:06,  3.69s\/it]\r19it [01:09,  3.64s\/it]\r20it [01:13,  3.61s\/it]\r21it [01:17,  3.81s\/it]\r22it [01:21,  3.75s\/it]\r23it [01:24,  3.68s\/it]\r24it [01:28,  3.65s\/it]\r25it [01:31,  3.62s\/it]\r26it [01:36,  3.87s\/it]\r27it [01:39,  3.77s\/it]\r28it [01:43,  3.73s\/it]\r29it [01:47,  3.67s\/it]\r30it [01:50,  3.63s\/it]\r31it [01:54,  3.59s\/it]\r32it [01:57,  3.57s\/it]\r32it [01:57,  3.68s\/it]\n"
     ],
     "output_type":"stream"
    }
   ],
   "metadata":{
    "datalore":{
     "type":"CODE",
     "hide_input_from_viewers":false,
     "hide_output_from_viewers":false
    }
   }
  },
  {
   "cell_type":"code",
   "source":[
    "results = [pd.pivot_table(i.get_agent_vars_dataframe().reset_index(), \n",
    "                    index=\"Step\", \n",
    "                    columns=\"State\", \n",
    "                    aggfunc=np.size, \n",
    "                    fill_value=0).rename(columns={0: \"Susceptible\",\n",
    "                                                  1: \"Exposed\",\n",
    "                                                  2: \"Symptomatic\",\n",
    "                                                  3: \"Recovered\",\n",
    "                                                  4: \"Deceased\",\n",
    "                                                  5: \"Quarantined\"}).droplevel(0, axis=1) for i in br.get_model_vars_dataframe().vals]"
   ],
   "execution_count":119,
   "outputs":[
    
   ],
   "metadata":{
    "datalore":{
     "type":"CODE",
     "hide_input_from_viewers":false,
     "hide_output_from_viewers":false
    }
   }
  },
  {
   "cell_type":"code",
   "source":[
    "means = pd.concat([each.stack() for each in results], axis=1).apply(lambda x: x.mean(), axis=1).unstack()\n",
    "sds = pd.concat([each.stack() for each in results], axis=1).apply(lambda x: x.std(), axis=1).unstack()"
   ],
   "execution_count":120,
   "outputs":[
    
   ],
   "metadata":{
    "datalore":{
     "type":"CODE",
     "hide_input_from_viewers":false,
     "hide_output_from_viewers":false
    }
   }
  },
  {
   "cell_type":"code",
   "source":[
    "fig = plt.figure(facecolor=\"w\", figsize=(8, 6), dpi=600)\n",
    "ax = fig.add_subplot(111, axisbelow=True)\n",
    "\n",
    "for idx, model_results in enumerate(results):\n",
    "    ax.plot(model_results.index, model_results.Symptomatic, color=COLORS[\"I\"], alpha=0.2, lw=0.2, label=\"\")\n",
    "    ax.plot(model_results.index, model_results.Exposed, color=COLORS[\"E\"], alpha=0.2, lw=0.2, label=\"\")\n",
    "    ax.plot(model_results.index, model_results.Quarantined, color=COLORS[\"X\"], alpha=0.2, lw=0.2, label=\"\")\n",
    "\n",
    "\n",
    "ax.plot(means.index, means.Symptomatic, color=COLORS[\"I\"], alpha=0.5, lw=1.25, linestyle=\"--\", label=\"Symptomatic (mean)\")\n",
    "ax.plot(means.index, means.Symptomatic + 1.96 * sds.Symptomatic, color=COLORS[\"I\"], alpha=0.5, lw=1, linestyle=\":\")\n",
    "ax.plot(means.index, means.Symptomatic - 1.96 * sds.Symptomatic, color=COLORS[\"I\"], alpha=0.5, lw=1, linestyle=\":\")\n",
    "ax.fill_between(means.index, means.Symptomatic, color=COLORS[\"I\"], alpha=0.25)\n",
    "\n",
    "ax.plot(means.index, means.Exposed, color=COLORS[\"E\"], alpha=0.5, lw=1.25, linestyle=\"--\", label=\"Exposed (mean)\")\n",
    "ax.plot(means.index, means.Exposed + 1.96 * sds.Exposed, color=COLORS[\"E\"], alpha=0.5, lw=1, linestyle=\":\")\n",
    "ax.plot(means.index, means.Exposed - 1.96 * sds.Exposed, color=COLORS[\"E\"], alpha=0.5, lw=1, linestyle=\":\")\n",
    "ax.fill_between(means.index, means.Exposed, color=COLORS[\"E\"], alpha=0.25)\n",
    "\n",
    "ax.plot(means.index, means.Quarantined, color=COLORS[\"X\"], alpha=0.5, lw=1.25, linestyle=\"--\", label=\"Quarantined (mean)\")\n",
    "\n",
    "\n",
    "legend = ax.legend()\n",
    "legend.get_frame().set_alpha(0.5)\n",
    "plt.legend(title=\"\", bbox_to_anchor=(0.5, -0.355), loc=\"lower center\", ncol=3, frameon=False)\n",
    "\n",
    "ax.set_xlabel(\"Days\")\n",
    "ax.set_ylabel(\"Number in compartment\")\n",
    "\n",
    "fig.tight_layout(pad=5.0)\n",
    "plt.savefig(\"SEIRDQ_ABM_output.pdf\")"
   ],
   "execution_count":121,
   "outputs":[
    
   ],
   "metadata":{
    "datalore":{
     "type":"CODE",
     "hide_input_from_viewers":false,
     "hide_output_from_viewers":false
    }
   }
  },
  {
   "cell_type":"code",
   "source":[
    
   ],
   "execution_count":null,
   "outputs":[
    
   ],
   "metadata":{
    "datalore":{
     "type":"CODE",
     "hide_input_from_viewers":false,
     "hide_output_from_viewers":false
    }
   }
  }
 ],
 "metadata":{
  "datalore":{
   "version":1,
   "computation_mode":"JUPYTER",
   "package_manager":"pip",
   "base_environment":"default",
   "packages":[
    {
     "name":"mesa",
     "version":"0.9.0",
     "source":"PIP"
    }
   ]
  }
 },
 "nbformat":4,
 "nbformat_minor":4
}
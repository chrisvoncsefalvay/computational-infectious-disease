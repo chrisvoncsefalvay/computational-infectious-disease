{
 "cells":[
  {
   "cell_type":"markdown",
   "source":[
    "# Critical populations in vector borne disease"
   ],
   "attachments":{
    
   },
   "metadata":{
    "datalore":{
     "type":"MD",
     "hide_input_from_viewers":false,
     "hide_output_from_viewers":false
    }
   }
  },
  {
   "cell_type":"code",
   "source":[
    "import numpy as np\n",
    "from sympy.interactive.printing import init_printing\n",
    "init_printing(use_unicode=True, wrap_line=True)\n",
    "from sympy.matrices import Matrix\n",
    "from sympy import symbols\n",
    "from sympy import factor\n",
    "from sympy import latex\n",
    "from sympy import lambdify"
   ],
   "execution_count":87,
   "outputs":[
    
   ],
   "metadata":{
    "datalore":{
     "type":"CODE",
     "hide_input_from_viewers":false,
     "hide_output_from_viewers":false
    }
   }
  },
  {
   "cell_type":"code",
   "source":[
    "phi_H, phi_V, beta_VH, beta_HV, gamma, mu_H, mu_V, S_H, S_V, I_H, I_V, R_H, N_H, N_V = symbols(\n",
    "    \"phi_H phi_V beta_VH beta_HV gamma mu_H mu_V S_H S_V I_H I_V R_H N_H N_V\"\n",
    ")"
   ],
   "execution_count":88,
   "outputs":[
    
   ],
   "metadata":{
    "datalore":{
     "type":"CODE",
     "hide_input_from_viewers":false,
     "hide_output_from_viewers":false
    }
   }
  },
  {
   "cell_type":"code",
   "source":[
    "infectious_system = Matrix(np.array([I_H, I_V]).T)"
   ],
   "execution_count":89,
   "outputs":[
    
   ],
   "metadata":{
    "datalore":{
     "type":"CODE",
     "hide_input_from_viewers":false,
     "hide_output_from_viewers":false
    }
   }
  },
  {
   "cell_type":"code",
   "source":[
    "d_Is = Matrix(np.array([beta_VH * S_H\/N_H * I_V - gamma * I_H - mu_H * I_H,\n",
    "                        beta_HV * S_V\/N_V * I_H - mu_V * I_V]).T)"
   ],
   "execution_count":90,
   "outputs":[
    
   ],
   "metadata":{
    "datalore":{
     "type":"CODE",
     "hide_input_from_viewers":false,
     "hide_output_from_viewers":false
    }
   }
  },
  {
   "cell_type":"code",
   "source":[
    "f = Matrix(np.array([beta_VH * S_H\/N_H * I_V,\n",
    "                     beta_HV * S_V\/N_V * I_H]).T)"
   ],
   "execution_count":91,
   "outputs":[
    
   ],
   "metadata":{
    "datalore":{
     "type":"CODE",
     "hide_input_from_viewers":false,
     "hide_output_from_viewers":false
    }
   }
  },
  {
   "cell_type":"code",
   "source":[
    "v = Matrix(np.array([gamma * I_H + mu_H * I_H,\n",
    "                     mu_V * I_V]))"
   ],
   "execution_count":92,
   "outputs":[
    
   ],
   "metadata":{
    "datalore":{
     "type":"CODE",
     "hide_input_from_viewers":false,
     "hide_output_from_viewers":false
    }
   }
  },
  {
   "cell_type":"code",
   "source":[
    "F = f.jacobian(infectious_system).subs({\"S_H\": 1, \"S_V\": 1})"
   ],
   "execution_count":93,
   "outputs":[
    
   ],
   "metadata":{
    "datalore":{
     "type":"CODE",
     "hide_input_from_viewers":false,
     "hide_output_from_viewers":false
    }
   }
  },
  {
   "cell_type":"code",
   "source":[
    "V = v.jacobian(infectious_system)"
   ],
   "execution_count":94,
   "outputs":[
    
   ],
   "metadata":{
    "datalore":{
     "type":"CODE",
     "hide_input_from_viewers":false,
     "hide_output_from_viewers":false
    }
   }
  },
  {
   "cell_type":"code",
   "source":[
    "ngm = F*V ** -1"
   ],
   "execution_count":95,
   "outputs":[
    
   ],
   "metadata":{
    "datalore":{
     "type":"CODE",
     "hide_input_from_viewers":false,
     "hide_output_from_viewers":false
    }
   }
  },
  {
   "cell_type":"code",
   "source":[
    "ngm"
   ],
   "execution_count":96,
   "outputs":[
    {
     "data":{
      "text\/latex":[
       "$\\displaystyle \\left[\\begin{matrix}0 & \\frac{\\beta_{VH}}{N_{H} \\mu_{V}}\\\\\\frac{\\beta_{HV}}{N_{V} \\left(\\gamma + \\mu_{H}\\right)} & 0\\end{matrix}\\right]$"
      ]
     },
     "metadata":{
      
     },
     "output_type":"display_data"
    }
   ],
   "metadata":{
    "datalore":{
     "type":"CODE",
     "hide_input_from_viewers":false,
     "hide_output_from_viewers":false
    }
   }
  },
  {
   "cell_type":"code",
   "source":[
    "ngm.eigenvals()"
   ],
   "execution_count":98,
   "outputs":[
    {
     "data":{
      "image\/png":"[encoded data removed]"
     },
     "metadata":{
      "image\/png":{
       
      }
     },
     "output_type":"display_data"
    }
   ],
   "metadata":{
    "datalore":{
     "type":"CODE",
     "hide_input_from_viewers":false,
     "hide_output_from_viewers":false
    }
   }
  }
 ],
 "metadata":{
  "datalore":{
   "version":1,
   "computation_mode":"JUPYTER",
   "package_manager":"pip",
   "base_environment":"default",
   "packages":[
    
   ]
  }
 },
 "nbformat":4,
 "nbformat_minor":4
}
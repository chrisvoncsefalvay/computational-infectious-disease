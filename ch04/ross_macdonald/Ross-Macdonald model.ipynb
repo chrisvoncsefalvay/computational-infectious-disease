{
 "cells":[
  {
   "cell_type":"markdown",
   "source":[
    "| **Chapter**                   | 4:  Simple compartmental models                       |\n",
    "| ----------------------------- | ----------------------------------------------------- |\n",
    "| **Computational Note**        | 4.x: Ross-MacDonald model                             |\n",
    "| **Package prerequisites**     | None                                                  |\n",
    "\n",
    "# Ross-MacDonald model\n",
    "\n",
    "\\begin{equation}\n",
    "\\frac{dS_m}{dt} = - a c I_h (1 - I_m)\n",
    "\\end{equation}\n",
    "\n",
    "\\begin{equation}\n",
    "\\frac{dS_h}{dt} = - a b m I_m (1 - I_h)\n",
    "\\end{equation}\n",
    "\n",
    "\\begin{equation}\n",
    "\\frac{dI_m}{dt} = a c I_h (1 - I_m) - \\mu_m I_m\n",
    "\\end{equation}\n",
    "\n",
    "\\begin{equation}\n",
    "\\frac{dI_h}{dt} = a b m I_m (1 - I_h) - \\gamma I_h\n",
    "\\end{equation}\n",
    "\n",
    "\\begin{equation}\n",
    "\\frac{dR}{dt}   = \\gamma I_h\n",
    "\\end{equation}"
   ],
   "attachments":{
    
   },
   "metadata":{
    "datalore":{
     "type":"MD",
     "hide_input_from_viewers":false,
     "hide_output_from_viewers":false
    }
   }
  },
  {
   "cell_type":"code",
   "source":[
    "import numpy as np\n",
    "from scipy.integrate import solve_ivp\n",
    "from matplotlib import pyplot as plt\n",
    "\n",
    "COLORS = {\"S\": \"#2f4b7c\",\n",
    "          \"E\": \"#ffa600\",\n",
    "          \"I\": \"#f95d6a\",\n",
    "          \"R\": \"#a05195\",\n",
    "          \"D\": \"#003f5c\",\n",
    "          \"C\": \"#ff7c43\",\n",
    "          \"X\": \"#665191\",\n",
    "          \"Y\": \"#d45087\"}"
   ],
   "execution_count":1,
   "outputs":[
    
   ],
   "metadata":{
    "datalore":{
     "type":"CODE",
     "hide_input_from_viewers":false,
     "hide_output_from_viewers":false
    }
   }
  },
  {
   "cell_type":"markdown",
   "source":[
    "## Set initial value parameters"
   ],
   "attachments":{
    
   },
   "metadata":{
    "datalore":{
     "type":"MD",
     "hide_input_from_viewers":false,
     "hide_output_from_viewers":false
    }
   }
  },
  {
   "cell_type":"code",
   "source":[
    "I_m_0 = 0.2\n",
    "I_h_0 = 0.005\n",
    "\n",
    "a = 0.1\n",
    "b = 0.2\n",
    "c = 0.5\n",
    "m = 10\n",
    "gamma = 0.05\n",
    "mu = 0.05\n",
    "\n",
    "y_0 = (I_m_0, I_h_0)"
   ],
   "execution_count":2,
   "outputs":[
    
   ],
   "metadata":{
    "datalore":{
     "type":"CODE",
     "hide_input_from_viewers":false,
     "hide_output_from_viewers":false
    }
   }
  },
  {
   "cell_type":"markdown",
   "source":[
    "## Defining the system of ODEs as a function"
   ],
   "attachments":{
    
   },
   "metadata":{
    "datalore":{
     "type":"MD",
     "hide_input_from_viewers":false,
     "hide_output_from_viewers":false
    }
   }
  },
  {
   "cell_type":"code",
   "source":[
    "def deriv(t, y):\n",
    "    I_m, I_h = y\n",
    "\n",
    "    dImdt = a * c * I_h * (1 - I_m) - mu * I_m\n",
    "    dIhdt = a * b * m * I_m * (1 - I_h) - gamma * I_h\n",
    "\n",
    "    return dImdt, dIhdt"
   ],
   "execution_count":3,
   "outputs":[
    
   ],
   "metadata":{
    "datalore":{
     "type":"CODE",
     "hide_input_from_viewers":false,
     "hide_output_from_viewers":false
    }
   }
  },
  {
   "cell_type":"markdown",
   "source":[
    "## Solve the IVP"
   ],
   "attachments":{
    
   },
   "metadata":{
    "datalore":{
     "type":"MD",
     "hide_input_from_viewers":false,
     "hide_output_from_viewers":false
    }
   }
  },
  {
   "cell_type":"code",
   "source":[
    "res = solve_ivp(fun=deriv, t_span = (0, 1000), y0=y_0, max_step=1, method=\"BDF\")"
   ],
   "execution_count":4,
   "outputs":[
    
   ],
   "metadata":{
    "datalore":{
     "type":"CODE",
     "hide_input_from_viewers":false,
     "hide_output_from_viewers":false
    }
   }
  },
  {
   "cell_type":"markdown",
   "source":[
    "## Plot results"
   ],
   "attachments":{
    
   },
   "metadata":{
    "datalore":{
     "type":"MD",
     "hide_input_from_viewers":false,
     "hide_output_from_viewers":false
    }
   }
  },
  {
   "cell_type":"code",
   "source":[
    "Im, Ih = res.y\n",
    "\n",
    "fig = plt.figure(facecolor=\"w\", figsize=(4, 4))\n",
    "ax = fig.add_subplot(111, axisbelow=True)\n",
    "\n",
    "ax.plot(res.t, Im, color=COLORS[\"I\"], alpha=0.66, lw=2, label=\"Infectious, mosquitoes\", linestyle=\"dashed\")\n",
    "ax.plot(res.t, Ih, color=COLORS[\"I\"], alpha=0.66, lw=2, label=\"Infectious, human\", linestyle=\"dotted\")\n",
    "\n",
    "ax.set_xlabel('Time (days)')\n",
    "ax.set_ylabel(\"Fraction of proportion in compartment\")\n",
    "ax.set_xlim(0, 50)\n",
    "ax.grid(b=True, which='major', c='w', lw=2, ls='-')\n",
    "\n",
    "for spine in (\"top\", \"right\"):\n",
    "    ax.spines[spine].set_visible(False)\n",
    "\n",
    "legend = ax.legend()\n",
    "legend.get_frame().set_alpha(0.5)\n",
    "plt.legend(title='', bbox_to_anchor=(0.5, -0.3), loc=\"lower center\", ncol=2, frameon=False)\n",
    "ax.set_ylim(0, 1)\n",
    "\n",
    "plt.savefig(\"ross_malaria_model.pdf\", dpi=600)\n",
    "plt.show()"
   ],
   "execution_count":5,
   "outputs":[
    
   ],
   "metadata":{
    "datalore":{
     "type":"CODE",
     "hide_input_from_viewers":false,
     "hide_output_from_viewers":false
    }
   }
  },
  {
   "cell_type":"markdown",
   "source":[
    "## Plot trajectories as a function of $I_m$"
   ],
   "attachments":{
    
   },
   "metadata":{
    "datalore":{
     "type":"MD",
     "hide_input_from_viewers":false,
     "hide_output_from_viewers":false
    }
   }
  },
  {
   "cell_type":"code",
   "source":[
    "fig = plt.figure(facecolor=\"w\", figsize=(4, 6))\n",
    "ax = fig.add_subplot(111, axisbelow=True)\n",
    "\n",
    "subdivs = list(np.arange(0.1, 1, 0.1))\n",
    "\n",
    "for i, v in enumerate(map(lambda x: solve_ivp(fun=deriv, t_span = (0, 1000), y0=(x, 0.005), max_step=1, method=\"BDF\"), subdivs)):\n",
    "    ax.plot(v.y[0], v.y[1], color=COLORS[\"X\"], alpha=subdivs[i], lw=1.25, label = f\"$I_m(0) =$ {subdivs[i]:.2f}\", linestyle=\"solid\" if i % 2 == 0 else \"dashed\")\n",
    "\n",
    "\n",
    "ax.set_xlabel('$I_m$')\n",
    "ax.set_ylabel(\"$I_h$\")\n",
    "ax.grid(b=True, which='major', c='w', lw=2, ls='-')\n",
    "\n",
    "for spine in (\"top\", \"right\"):\n",
    "    ax.spines[spine].set_visible(False)\n",
    "\n",
    "ax.set_xlim(0, 1)\n",
    "ax.set_ylim(0, 0.8)\n",
    "\n",
    "legend = ax.legend()\n",
    "legend.get_frame().set_alpha(0.5)\n",
    "plt.legend(title='', bbox_to_anchor=(0.5, -0.3), loc=\"lower center\", ncol=3, frameon=False)\n",
    "\n",
    "plt.savefig(\"ross_phase_portrait_convergence.pdf\", dpi=600)\n",
    "plt.show()"
   ],
   "execution_count":6,
   "outputs":[
    
   ],
   "metadata":{
    "datalore":{
     "type":"CODE",
     "hide_input_from_viewers":false,
     "hide_output_from_viewers":false
    }
   }
  },
  {
   "cell_type":"markdown",
   "source":[
    "## Plot streamplot"
   ],
   "attachments":{
    
   },
   "metadata":{
    "datalore":{
     "type":"MD",
     "hide_input_from_viewers":false,
     "hide_output_from_viewers":false
    }
   }
  },
  {
   "cell_type":"code",
   "source":[
    "fig = plt.figure(facecolor=\"w\", figsize=(6, 6))\n",
    "ax = fig.add_subplot(111, axisbelow=True)\n",
    "\n",
    "i_h, i_m = np.mgrid[0:1:0.01, 0:1:0.01]\n",
    "\n",
    "u = a * c * i_h * (1 - i_m) - mu * i_m\n",
    "v = a * b * m * i_m * (1 - i_h) - gamma * i_h\n",
    "  \n",
    "ax.streamplot(i_m, i_h, u, v, density = 1, color=u + v)\n",
    "ax.set_xlabel(\"$ I_m $\") \n",
    "ax.set_ylabel(\"$ I_h $\")\n",
    "\n",
    "plt.savefig(\"ross_streamplot.pdf\", dpi=600)\n",
    "plt.show()"
   ],
   "execution_count":8,
   "outputs":[
    
   ],
   "metadata":{
    "datalore":{
     "type":"CODE",
     "hide_input_from_viewers":false,
     "hide_output_from_viewers":false
    }
   }
  }
 ],
 "metadata":{
  "datalore":{
   "version":1,
   "computation_mode":"JUPYTER",
   "package_manager":"pip",
   "base_environment":"default",
   "packages":[
    
   ]
  }
 },
 "nbformat":4,
 "nbformat_minor":4
}
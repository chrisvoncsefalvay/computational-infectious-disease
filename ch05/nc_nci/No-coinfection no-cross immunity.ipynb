{
 "cells":[
  {
   "cell_type":"markdown",
   "source":[
    "| **Chapter**                   | 5:  Multi-pathogen dynamics                           |\n",
    "| ----------------------------- | ----------------------------------------------------- |\n",
    "| **Computational Note**        | 5.x: No-coinfection no-cross immunity                 |\n",
    "| **Package prerequisites**     | None                                                  |\n",
    "\n",
    "\n",
    "# No-coinfection no-cross immunity"
   ],
   "attachments":{
    
   },
   "metadata":{
    "datalore":{
     "type":"MD",
     "hide_input_from_viewers":false,
     "hide_output_from_viewers":false
    }
   }
  },
  {
   "cell_type":"markdown",
   "source":[
    "## Two-pathogen no-coinfection no-cross-immunity\n",
    "\n",
    "The two-pathogen model is governed by the following system of ODEs:"
   ],
   "attachments":{
    
   },
   "metadata":{
    "datalore":{
     "type":"MD",
     "hide_input_from_viewers":false,
     "hide_output_from_viewers":false
    }
   }
  },
  {
   "cell_type":"markdown",
   "source":[
    "\\begin{equation}\n",
    "        \\begin{aligned}\n",
    "        \\frac{dN_{S,S}}{dt} &= - \\beta_a N_{S,S} I_a - \\beta_b N_{S,S} I_b   \\\\\n",
    "        \\frac{dN_{I,S}}{dt} &= \\beta_a N_{S,S} I_a - \\gamma_a N_{I,S}        \\\\\n",
    "        \\frac{dN_{R,S}}{dt} &= \\gamma_a N_{I,S} - \\beta_b N_{R,S} I_b        \\\\\n",
    "        \\frac{dN_{S,I}}{dt} &= \\beta_b N_{S,S} I_b - \\gamma_b N_{S, I}       \\\\\n",
    "        \\frac{dN_{R,I}}{dt} &= \\beta_b N_{R,S} I_b - \\gamma_b N_{R, I}       \\\\\n",
    "        \\frac{dN_{S,R}}{dt} &= \\gamma_a N_{I,S} - \\beta_a N_{S,R} I_a        \\\\\n",
    "        \\frac{dN_{I,R}}{dt} &= \\beta_a N_{S,R} I_a - \\gamma_a N_{I,R}        \\\\\n",
    "        \\frac{dN_{R,R}}{dt} &= \\gamma_a N_{I,R} + \\gamma_b N_{R,I}\n",
    "        \\end{aligned}\n",
    "\\end{equation}"
   ],
   "attachments":{
    
   },
   "metadata":{
    "datalore":{
     "type":"MD",
     "hide_input_from_viewers":false,
     "hide_output_from_viewers":false
    }
   }
  },
  {
   "cell_type":"markdown",
   "source":[
    "We assume a constant population with a turnover rate of $\\mu = \\nu = 10^{-4}$ persons per day and the following pathogenic parameters:\n",
    "\n",
    "|  | $\\beta$      | $\\gamma$       | $\\mathfrak{R}_0$ |\n",
    "|----------|-----------|-----------|----|\n",
    "| $a$  | 1.5 | 1 | 1.5 |\n",
    "| $b$  | 0.4 | 0.2 | 2 |"
   ],
   "attachments":{
    
   },
   "metadata":{
    "datalore":{
     "type":"MD",
     "hide_input_from_viewers":false,
     "hide_output_from_viewers":false
    }
   }
  },
  {
   "cell_type":"code",
   "source":[
    "import numpy as np\n",
    "from scipy.integrate import solve_ivp\n",
    "from matplotlib import pyplot as plt\n",
    "\n",
    "COLORS = {\"S\": \"#2f4b7c\",\n",
    "          \"E\": \"#ffa600\",\n",
    "          \"I\": \"#f95d6a\",\n",
    "          \"R\": \"#a05195\",\n",
    "          \"D\": \"#003f5c\",\n",
    "          \"C\": \"#ff7c43\",\n",
    "          \"X\": \"#665191\",\n",
    "          \"Y\": \"#d45087\"}"
   ],
   "execution_count":21,
   "outputs":[
    
   ],
   "metadata":{
    "datalore":{
     "type":"CODE",
     "hide_input_from_viewers":false,
     "hide_output_from_viewers":false
    }
   }
  },
  {
   "cell_type":"code",
   "source":[
    "def deriv(t, y, beta, gamma, mu, nu):\n",
    "\n",
    "    SS, IS, RS, SI, RI, SR, IR, RR = y\n",
    "\n",
    "    I = np.array([[IS + IR], [SI + RI]])\n",
    "    gmat = gamma * np.array([[IS, SI], [IR, RI]])\n",
    "    bmat = beta * I * np.array([[SS, SS], [SR, RS]])\n",
    "\n",
    "    dNSSdt = nu - (beta * SS).dot(I) - mu * SS\n",
    "    dNISdt = bmat[0,0] - gmat[0,0] - mu * IS\n",
    "    dNRSdt = gmat[0,0] - bmat[1,1] - mu * RS\n",
    "    dNSIdt = bmat[0,1] - gmat[0,1] - mu * SI\n",
    "    dNRIdt = bmat[1,1] - gmat[1,1] - mu * RI\n",
    "    dNSRdt = gmat[0,0] - bmat[1,0] - mu * SR\n",
    "    dNIRdt = bmat[1,0] - gmat[1,0] - mu * IR\n",
    "    dNRRdt = gmat[1:,].sum() - mu * RR\n",
    "\n",
    "    return dNSSdt, dNISdt, dNRSdt, dNSIdt, dNRIdt, dNSRdt, dNIRdt, dNRRdt"
   ],
   "execution_count":22,
   "outputs":[
    
   ],
   "metadata":{
    "datalore":{
     "type":"CODE",
     "hide_input_from_viewers":false,
     "hide_output_from_viewers":false
    }
   }
  },
  {
   "cell_type":"code",
   "source":[
    "I_0 = np.array([1e-6, 1e-6])\n",
    "SS_0 = 1 - I_0.sum()\n",
    "\n",
    "y_0 = np.array([SS_0, I_0[0], 0, I_0[1], 0, 0, 0, 0])\n",
    "\n",
    "beta = np.array([1.5, 0.4])\n",
    "gamma = np.array([1, 0.2])\n",
    "\n",
    "mu, nu = 1e-4, 1e-4"
   ],
   "execution_count":23,
   "outputs":[
    
   ],
   "metadata":{
    "datalore":{
     "type":"CODE",
     "hide_input_from_viewers":false,
     "hide_output_from_viewers":false
    }
   }
  },
  {
   "cell_type":"code",
   "source":[
    "res = solve_ivp(fun=deriv, t_span = (0, 100), y0=y_0, args=(beta, gamma, mu, nu), max_step=1)"
   ],
   "execution_count":24,
   "outputs":[
    
   ],
   "metadata":{
    "datalore":{
     "type":"CODE",
     "hide_input_from_viewers":false,
     "hide_output_from_viewers":false
    }
   }
  },
  {
   "cell_type":"code",
   "source":[
    "NSS, NIS, NRS, NSI, NRI, NSR, NIR, NRR = res.y\n",
    "\n",
    "fig = plt.figure(facecolor=\"w\", figsize=(6, 6), dpi=600)\n",
    "ax = fig.add_subplot(111, axisbelow=True)\n",
    "\n",
    "ax.plot(res.t, NIS + NIR, color=COLORS[\"D\"], alpha=0.5, lw=2, linestyle=\":\", label=\"$a$ ($\\mathfrak{R}_0 = 1.5$)\")\n",
    "ax.plot(res.t, NSI + NRI, color=COLORS[\"I\"], alpha=0.5, lw=2, label=\"$b$ ($\\mathfrak{R}_0 = 2.0$)\")\n",
    "\n",
    "\n",
    "# ax.fill_between(res.t, 0, S, color=COLORS[\"S\"], alpha=0.15)\n",
    "# ax.fill_between(res.t, 0, I, color=COLORS[\"I\"], alpha=0.15)\n",
    "# ax.fill_between(res.t, D, R + D, color=COLORS[\"R\"], alpha=0.15, label=\"Recovered\")\n",
    "# ax.fill_between(res.t, 0, D, color=COLORS[\"D\"], alpha=0.15, label=\"Deceased\")\n",
    "\n",
    "ax.set_xlabel('Time (days)')\n",
    "ax.set_ylabel(\"Fraction of population in compartment\")\n",
    "# ax.set_ylim(0, 1.0)\n",
    "ax.set_yscale(\"log\")\n",
    "ax.grid(b=True, which='major', c='w', lw=2, ls='-')\n",
    "\n",
    "for spine in (\"top\", \"right\"):\n",
    "    ax.spines[spine].set_visible(False)\n",
    "\n",
    "legend = ax.legend()\n",
    "legend.get_frame().set_alpha(0.5)\n",
    "plt.legend(title='', bbox_to_anchor=(0.5, -0.3), loc=\"lower center\", ncol=2, frameon=False)\n",
    "\n",
    "fig.subplots_adjust(bottom=0.25)\n",
    "\n",
    "plt.savefig(\"no_cross_immunity.pdf\")\n",
    "plt.show()"
   ],
   "execution_count":26,
   "outputs":[
    {
     "name":"stderr",
     "text":[
      "<ipython-input-26-4348f135b12b>:19: MatplotlibDeprecationWarning: The 'b' parameter of grid() has been renamed 'visible' since Matplotlib 3.5; support for the old name will be dropped two minor releases later.\n",
      "  ax.grid(b=True, which='major', c='w', lw=2, ls='-')\n"
     ],
     "output_type":"stream"
    }
   ],
   "metadata":{
    "datalore":{
     "type":"CODE",
     "hide_input_from_viewers":false,
     "hide_output_from_viewers":false
    }
   }
  },
  {
   "cell_type":"code",
   "source":[
    
   ],
   "execution_count":null,
   "outputs":[
    
   ],
   "metadata":{
    "datalore":{
     "type":"CODE",
     "hide_input_from_viewers":false,
     "hide_output_from_viewers":false
    }
   }
  }
 ],
 "metadata":{
  "datalore":{
   "version":1,
   "computation_mode":"JUPYTER",
   "package_manager":"pip",
   "base_environment":"default",
   "packages":[
    {
     "name":"sympy",
     "version":"1.8",
     "source":"PIP"
    }
   ]
  }
 },
 "nbformat":4,
 "nbformat_minor":4
}
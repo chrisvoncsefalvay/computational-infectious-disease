{
 "cells":[
  {
   "cell_type":"markdown",
   "source":[
    "| **Chapter**                   | 5:  Multi-pathogen dynamics                           |\n",
    "| ----------------------------- | ----------------------------------------------------- |\n",
    "| **Computational Note**        | 5.x: Complete cross-immunity                          |\n",
    "| **Package prerequisites**     | None                                                  |\n",
    "\n",
    "\n",
    "# Complete cross-immunity"
   ],
   "attachments":{
    
   },
   "metadata":{
    "datalore":{
     "type":"MD",
     "hide_input_from_viewers":false,
     "hide_output_from_viewers":false
    }
   }
  },
  {
   "cell_type":"markdown",
   "source":[
    "## Two-pathogen cross-immunity\n",
    "\n",
    "The two-pathogen model is governed by the following system of ODEs:"
   ],
   "attachments":{
    
   },
   "metadata":{
    "datalore":{
     "type":"MD",
     "hide_input_from_viewers":false,
     "hide_output_from_viewers":false
    }
   }
  },
  {
   "cell_type":"markdown",
   "source":[
    "\\begin{equation}\n",
    "        \\frac{dS}{dt} =    - \\beta_a S I_a - \\beta_b S I_b + \\nu\n",
    "\\end{equation}\n",
    "\n",
    "\\begin{equation}\n",
    "        \\frac{dI_a}{dt} =    \\beta_a S I_a - \\gamma_a I_a - \\mu I_a\n",
    "\\end{equation}\n",
    "\n",
    "\\begin{equation}\n",
    "        \\frac{dI_b}{dt} =    \\beta_b S I_b - \\gamma_b I_b - \\mu I_b\n",
    "\\end{equation}\n",
    "\n",
    "\\begin{equation}\n",
    "        \\frac{dR}{dt} =    \\gamma_a I_a + \\gamma_b I_b - \\mu R\n",
    "\\end{equation}"
   ],
   "attachments":{
    
   },
   "metadata":{
    "datalore":{
     "type":"MD",
     "hide_input_from_viewers":false,
     "hide_output_from_viewers":false
    }
   }
  },
  {
   "cell_type":"markdown",
   "source":[
    "We assume a constant population with a turnover rate of $\\mu = \\nu = 10^{-4}$ persons per day and the following pathogenic parameters:\n",
    "\n",
    "|  | $\\beta$      | $\\gamma$       | $\\mathfrak{R}_0$ |\n",
    "|----------|-----------|-----------|----|\n",
    "| $a$  | 1.5 | 1 | 1.5 |\n",
    "| $b$  | 0.4 | 0.2 | 2 |"
   ],
   "attachments":{
    
   },
   "metadata":{
    "datalore":{
     "type":"MD",
     "hide_input_from_viewers":false,
     "hide_output_from_viewers":false
    }
   }
  },
  {
   "cell_type":"code",
   "source":[
    "import numpy as np\n",
    "from scipy.integrate import solve_ivp\n",
    "from matplotlib import pyplot as plt\n",
    "\n",
    "COLORS = {\"S\": \"#2f4b7c\",\n",
    "          \"E\": \"#ffa600\",\n",
    "          \"I\": \"#f95d6a\",\n",
    "          \"R\": \"#a05195\",\n",
    "          \"D\": \"#003f5c\",\n",
    "          \"C\": \"#ff7c43\",\n",
    "          \"X\": \"#665191\",\n",
    "          \"Y\": \"#d45087\"}"
   ],
   "execution_count":1,
   "outputs":[
    
   ],
   "metadata":{
    "datalore":{
     "type":"CODE",
     "hide_input_from_viewers":false,
     "hide_output_from_viewers":false
    }
   }
  },
  {
   "cell_type":"code",
   "source":[
    "def deriv(t, y, beta, gamma, mu, nu):\n",
    "\n",
    "    S = y[0]\n",
    "    I = y[1:].T.flatten()\n",
    "\n",
    "    dSdt  = - (beta * S).dot(I) + nu\n",
    "    dIdt = beta * S * I - gamma * I - mu * I\n",
    "\n",
    "    return dSdt, *dIdt"
   ],
   "execution_count":2,
   "outputs":[
    
   ],
   "metadata":{
    "datalore":{
     "type":"CODE",
     "hide_input_from_viewers":false,
     "hide_output_from_viewers":false
    }
   }
  },
  {
   "cell_type":"code",
   "source":[
    "I_0 = np.array([1e-6, 1e-6])\n",
    "S_0 = 1 - I_0.sum()\n",
    "\n",
    "y_0 = np.array([S_0, *I_0])\n",
    "\n",
    "beta = np.array([1.5, 0.4])\n",
    "gamma = np.array([1.0, 0.2])\n",
    "\n",
    "mu, nu = 1e-4, 1e-4"
   ],
   "execution_count":6,
   "outputs":[
    
   ],
   "metadata":{
    "datalore":{
     "type":"CODE",
     "hide_input_from_viewers":false,
     "hide_output_from_viewers":false
    }
   }
  },
  {
   "cell_type":"code",
   "source":[
    "res = solve_ivp(fun=deriv, t_span = (0, 100), y0=y_0, args=(beta, gamma, mu, nu), max_step=1)"
   ],
   "execution_count":7,
   "outputs":[
    
   ],
   "metadata":{
    "datalore":{
     "type":"CODE",
     "hide_input_from_viewers":false,
     "hide_output_from_viewers":false
    }
   }
  },
  {
   "cell_type":"code",
   "source":[
    "_, Ia, Ib = res.y\n",
    "\n",
    "fig = plt.figure(facecolor=\"w\", figsize=(6, 6), dpi=600)\n",
    "ax = fig.add_subplot(111, axisbelow=True)\n",
    "\n",
    "ax.plot(res.t, Ia, color=COLORS[\"D\"], alpha=0.5, lw=2, linestyle=\":\", label=\"$a$ ($\\mathfrak{R}_0 = 1.5$)\")\n",
    "ax.plot(res.t, Ib, color=COLORS[\"I\"], alpha=0.5, lw=2, label=\"$b$ ($\\mathfrak{R}_0 = 2.0$)\")\n",
    "\n",
    "\n",
    "# ax.fill_between(res.t, 0, S, color=COLORS[\"S\"], alpha=0.15)\n",
    "# ax.fill_between(res.t, 0, I, color=COLORS[\"I\"], alpha=0.15)\n",
    "# ax.fill_between(res.t, D, R + D, color=COLORS[\"R\"], alpha=0.15, label=\"Recovered\")\n",
    "# ax.fill_between(res.t, 0, D, color=COLORS[\"D\"], alpha=0.15, label=\"Deceased\")\n",
    "\n",
    "ax.set_xlabel('Time (days)')\n",
    "ax.set_ylabel(\"Fraction of population in compartment\")\n",
    "# ax.set_ylim(0, 1.0)\n",
    "ax.set_yscale(\"log\")\n",
    "ax.grid(b=True, which='major', c='w', lw=2, ls='-')\n",
    "\n",
    "for spine in (\"top\", \"right\"):\n",
    "    ax.spines[spine].set_visible(False)\n",
    "\n",
    "legend = ax.legend()\n",
    "legend.get_frame().set_alpha(0.5)\n",
    "plt.legend(title='', bbox_to_anchor=(0.5, -0.3), loc=\"lower center\", ncol=2, frameon=False)\n",
    "\n",
    "fig.subplots_adjust(bottom=0.25)\n",
    "\n",
    "plt.savefig(\"complete_cross_immunity.pdf\")\n",
    "plt.show()"
   ],
   "execution_count":8,
   "outputs":[
    {
     "name":"stderr",
     "text":[
      "<ipython-input-8-a74310af27a8>:19: MatplotlibDeprecationWarning: The 'b' parameter of grid() has been renamed 'visible' since Matplotlib 3.5; support for the old name will be dropped two minor releases later.\n",
      "  ax.grid(b=True, which='major', c='w', lw=2, ls='-')\n"
     ],
     "output_type":"stream"
    }
   ],
   "metadata":{
    "datalore":{
     "type":"CODE",
     "hide_input_from_viewers":false,
     "hide_output_from_viewers":false
    }
   }
  },
  {
   "cell_type":"code",
   "source":[
    
   ],
   "execution_count":null,
   "outputs":[
    
   ],
   "metadata":{
    "datalore":{
     "type":"CODE",
     "hide_input_from_viewers":false,
     "hide_output_from_viewers":false
    }
   }
  }
 ],
 "metadata":{
  "datalore":{
   "version":1,
   "computation_mode":"JUPYTER",
   "package_manager":"pip",
   "base_environment":"default",
   "packages":[
    {
     "name":"sympy",
     "version":"1.8",
     "source":"PIP"
    }
   ]
  }
 },
 "nbformat":4,
 "nbformat_minor":4
}
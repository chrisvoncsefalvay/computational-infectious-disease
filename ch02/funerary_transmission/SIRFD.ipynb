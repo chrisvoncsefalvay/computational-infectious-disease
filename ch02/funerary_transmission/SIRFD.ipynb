{
 "cells":[
  {
   "cell_type":"markdown",
   "source":[
    "| **Chapter**                   | 2:  Simple compartmental models                       |\n",
    "| ----------------------------- | ----------------------------------------------------- |\n",
    "| **Computational Note**        | 2.x: SIRFD model                                      |\n",
    "| **Package prerequisites**     | None                                                  |\n",
    "\n",
    "\n",
    "# SIRFD model\n",
    "\n",
    "\\begin{equation}\n",
    "        \\frac{dS}{dt} =    - \\beta S I - \\varphi S F\n",
    "\\end{equation}\n",
    "\n",
    "\\begin{equation}\n",
    "        \\frac{dI}{dt} =    \\beta S I + \\varphi S F - \\gamma I\n",
    "\\end{equation}\n",
    "\n",
    "\\begin{equation}\n",
    "        \\frac{dR}{dt} =    \\gamma (1 - \\mu) I\n",
    "\\end{equation}\n",
    "\n",
    "\\begin{equation}\n",
    "        \\frac{dF}{dt} =     \\gamma \\mu I\n",
    "\\end{equation}\n",
    "\n",
    "\\begin{equation}\n",
    "        \\frac{dD}{dt} =     F \\frac{1}{\\tau_F}\n",
    "\\end{equation}"
   ],
   "attachments":{
    
   },
   "metadata":{
    "datalore":{
     "type":"MD",
     "hide_input_from_viewers":false,
     "hide_output_from_viewers":false
    }
   }
  },
  {
   "cell_type":"code",
   "source":[
    "import numpy as np\n",
    "from scipy.integrate import solve_ivp\n",
    "from matplotlib import pyplot as plt\n",
    "\n",
    "COLORS = {\"S\": \"#2f4b7c\",\n",
    "          \"E\": \"#ffa600\",\n",
    "          \"I\": \"#f95d6a\",\n",
    "          \"R\": \"#a05195\",\n",
    "          \"D\": \"#003f5c\",\n",
    "          \"C\": \"#ff7c43\",\n",
    "          \"X\": \"#665191\",\n",
    "          \"Y\": \"#d45087\"}"
   ],
   "execution_count":1,
   "outputs":[
    
   ],
   "metadata":{
    "datalore":{
     "type":"CODE",
     "hide_input_from_viewers":false,
     "hide_output_from_viewers":false
    }
   }
  },
  {
   "cell_type":"code",
   "source":[
    "def deriv(t, y, beta, gamma, mu, phi, tau_F):\n",
    "    S, I, R, F, D = y\n",
    "    dSdt = - beta * S * I - phi * S * F\n",
    "    dIdt = beta * S * I + phi * S * F - gamma * I\n",
    "    dRdt = gamma * I * (1 - mu)\n",
    "    dFdt = gamma * mu * I - F\/tau_F\n",
    "    dDdt = F \/ tau_F\n",
    "\n",
    "    return dSdt, dIdt, dRdt, dFdt, dDdt"
   ],
   "execution_count":2,
   "outputs":[
    
   ],
   "metadata":{
    "datalore":{
     "type":"CODE",
     "hide_input_from_viewers":false,
     "hide_output_from_viewers":false
    }
   }
  },
  {
   "cell_type":"code",
   "source":[
    "I_0 = 0.001\n",
    "S_0 = 1 - I_0\n",
    "R_0, D_0, F_0 = 0, 0, 0.0\n",
    "\n",
    "y_0 = (S_0, I_0, R_0, F_0, D_0)\n",
    "\n",
    "R0 = 2.5\n",
    "tau = 8\n",
    "gamma = 1\/tau\n",
    "beta = R0 * gamma\n",
    "phi = 2 * R0 * gamma\n",
    "tau_F = 6\n",
    "mu = 0.4"
   ],
   "execution_count":3,
   "outputs":[
    
   ],
   "metadata":{
    "datalore":{
     "type":"CODE",
     "hide_input_from_viewers":false,
     "hide_output_from_viewers":false
    }
   }
  },
  {
   "cell_type":"code",
   "source":[
    "data = {}\n",
    "\n",
    "for i in [1, 3, 5, 7]:\n",
    "    res = solve_ivp(fun=deriv, t_span = (0, 100), y0=y_0, args=(beta, gamma, mu, phi, i), max_step=1)    \n",
    "    data[i] = [res.t, res.y[1]]"
   ],
   "execution_count":4,
   "outputs":[
    
   ],
   "metadata":{
    "datalore":{
     "type":"CODE",
     "hide_input_from_viewers":false,
     "hide_output_from_viewers":false
    }
   }
  },
  {
   "cell_type":"code",
   "source":[
    "fig = plt.figure(facecolor=\"w\", figsize=(4, 4.5))\n",
    "\n",
    "ax = fig.add_subplot(111, axisbelow=True)\n",
    "\n",
    "for idx in range(1,5):\n",
    "    t, I = data[list(data.keys())[idx - 1]][0], data[list(data.keys())[idx - 1]][1]\n",
    "    ax.plot(t, I, color=COLORS[[\"I\", \"S\"][(idx - 1) % 2]], alpha=1 - (idx * 0.2), lw=2, label=f\"$\\\\tau_F$ = {list(data.keys())[idx - 1]}\", linestyle=[\"solid\", \"dashed\"][0 if idx <= 2 else 1])\n",
    "\n",
    "ax.set_xlabel('Time (days)')\n",
    "ax.set_ylabel(\"Fraction of proportion in compartment\")\n",
    "ax.set_ylim(0, 0.45)\n",
    "ax.set_xlim(10, 80)\n",
    "ax.grid(b=True, which='major', c='w', lw=2, ls='-')\n",
    "\n",
    "for spine in (\"top\", \"right\"):\n",
    "    ax.spines[spine].set_visible(False)\n",
    "\n",
    "legend = ax.legend()\n",
    "legend.get_frame().set_alpha(0.5)\n",
    "plt.legend(title='', bbox_to_anchor=(0.5, -0.5), loc=\"lower center\", ncol=2, frameon=False)\n",
    "\n",
    "fig.subplots_adjust(bottom=0.35)\n",
    "\n",
    "plt.savefig(\"sirfd_integral_small.pdf\", dpi=900)\n",
    "plt.show()"
   ],
   "execution_count":5,
   "outputs":[
    {
     "data":{
      "image\/png":"[encoded data removed]"
     },
     "metadata":{
      "image\/png":{
       
      }
     },
     "output_type":"display_data"
    }
   ],
   "metadata":{
    "datalore":{
     "type":"CODE",
     "hide_input_from_viewers":false,
     "hide_output_from_viewers":false
    }
   }
  }
 ],
 "metadata":{
  "datalore":{
   "version":1,
   "computation_mode":"JUPYTER",
   "package_manager":"pip",
   "base_environment":"default",
   "packages":[
    
   ]
  }
 },
 "nbformat":4,
 "nbformat_minor":4
}
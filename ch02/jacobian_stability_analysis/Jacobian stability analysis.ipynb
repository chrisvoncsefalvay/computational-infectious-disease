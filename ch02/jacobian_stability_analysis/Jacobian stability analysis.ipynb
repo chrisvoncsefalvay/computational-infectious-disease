{
  "cells":[
    {
      "cell_type":"markdown",
      "source":[
        "| **Chapter** | 2: Simple compartmental models |\n",
        "| ------------- | --------------------------------- |\n",
        "| **Computational Note** | 2.x: Jacobian stability analysis |\n",
        "| **Package prerequisites** | SymPy |\n",
        "\n",
        "# Jacobian stability analysis\n",
        "\n",
        "\\begin{equation}\n",
        "    \\frac{dS}{dt} = - \\beta S I + \\mu - \\mu S\n",
        "\\end{equation}\n",
        "\n",
        "\\begin{equation}\n",
        "    \\frac{dI}{dt} = \\beta S I - \\gamma I - \\mu I\n",
        "\\end{equation}\n",
        "\n",
        "\\begin{equation}\n",
        "    \\frac{dR}{dt} = \\gamma I - \\mu R\n",
        "\\end{equation}"
      ],
      "attachments":{
        
      },
      "metadata":{
        "jupyter":{
          "source_hidden":false,
          "outputs_hidden":false
        },
        "datalore":{
          "type":"MD",
          "sheet_delimiter":false
        }
      }
    },
    {
      "cell_type":"code",
      "source":[
        "from sympy.interactive.printing import init_printing\n",
        "init_printing(use_unicode=True, wrap_line=True)\n",
        "from sympy.matrices import Matrix\n",
        "from sympy import symbols\n",
        "from sympy import solve\n",
        "import sympy\n",
        "import numpy as np"
      ],
      "execution_count":2,
      "outputs":[
        
      ],
      "metadata":{
        "jupyter":{
          "source_hidden":false,
          "outputs_hidden":false
        },
        "datalore":{
          "type":"CODE",
          "sheet_delimiter":false
        }
      }
    },
    {
      "cell_type":"code",
      "source":[
        "S, I, R, R0, beta, gamma, mu = symbols('S I R R0 beta gamma mu')"
      ],
      "execution_count":3,
      "outputs":[
        
      ],
      "metadata":{
        "jupyter":{
          "source_hidden":false,
          "outputs_hidden":false
        },
        "datalore":{
          "type":"CODE",
          "sheet_delimiter":false
        }
      }
    },
    {
      "cell_type":"code",
      "source":[
        "state_vector = Matrix(np.array([- (beta * S * I) + mu - mu * S, (beta * S * I) - (gamma * I) - mu * I, (gamma * I) - mu * R]))"
      ],
      "execution_count":4,
      "outputs":[
        
      ],
      "metadata":{
        "jupyter":{
          "source_hidden":false,
          "outputs_hidden":false
        },
        "datalore":{
          "type":"CODE",
          "sheet_delimiter":false
        }
      }
    },
    {
      "cell_type":"code",
      "source":[
        "state_vector.jacobian(Matrix(np.array([S, I, R])))"
      ],
      "execution_count":5,
      "outputs":[
        {
          "data":{
            "text\/latex":[
              "$\\displaystyle \\left[\\begin{matrix}- I \\beta - \\mu & - S \\beta & 0\\\\I \\beta & S \\beta - \\gamma - \\mu & 0\\\\0 & \\gamma & - \\mu\\end{matrix}\\right]$"
            ]
          },
          "metadata":{
            
          },
          "output_type":"display_data"
        }
      ],
      "metadata":{
        "jupyter":{
          "source_hidden":false,
          "outputs_hidden":false
        },
        "datalore":{
          "type":"CODE",
          "sheet_delimiter":false
        }
      }
    },
    {
      "cell_type":"code",
      "source":[
        "state_vector.jacobian(Matrix(np.array([S, I, R]))).subs({\"S\": 1, \"I\": 0, \"R\": 0}).eigenvals()"
      ],
      "execution_count":6,
      "outputs":[
        {
          "data":{
            "image\/png":"[encoded data removed]"
          },
          "metadata":{
            "image\/png":{
              
            }
          },
          "output_type":"display_data"
        }
      ],
      "metadata":{
        "jupyter":{
          "source_hidden":false,
          "outputs_hidden":false
        },
        "datalore":{
          "type":"CODE",
          "sheet_delimiter":false
        }
      }
    },
    {
      "cell_type":"code",
      "source":[
        "state_vector.jacobian(Matrix(np.array([S, I, R]))).subs({\"S\": 1\/R0,\n",
        "                                                         \"I\": (mu \/ beta) * (R0 - 1), \n",
        "                                                \"R\": 1 - (1\/R0) - (mu\/beta)*(R0 - 1)}).subs({\"R0\": beta \/ (gamma + mu)})"
      ],
      "execution_count":19,
      "outputs":[
        {
          "data":{
            "text\/latex":[
              "$\\displaystyle \\left[\\begin{matrix}- \\mu \\left(\\frac{\\beta}{\\gamma + \\mu} - 1\\right) - \\mu & - \\gamma - \\mu & 0\\\\\\mu \\left(\\frac{\\beta}{\\gamma + \\mu} - 1\\right) & 0 & 0\\\\0 & \\gamma & - \\mu\\end{matrix}\\right]$"
            ]
          },
          "metadata":{
            
          },
          "output_type":"display_data"
        }
      ],
      "metadata":{
        "jupyter":{
          "source_hidden":false,
          "outputs_hidden":false
        },
        "datalore":{
          "type":"CODE",
          "sheet_delimiter":false
        }
      }
    },
    {
      "cell_type":"code",
      "source":[
        "r.eigenvals("
      ],
      "execution_count":71,
      "outputs":[
        {
          "data":{
            "image\/png":"[encoded data removed]"
          },
          "metadata":{
            "image\/png":{
              
            }
          },
          "output_type":"display_data"
        }
      ],
      "metadata":{
        "jupyter":{
          "source_hidden":false,
          "outputs_hidden":false
        },
        "datalore":{
          "type":"CODE",
          "sheet_delimiter":false
        }
      }
    },
    {
      "cell_type":"code",
      "source":[
        "A, G = symbols(\"A G\")"
      ],
      "execution_count":72,
      "outputs":[
        
      ],
      "metadata":{
        "jupyter":{
          "source_hidden":false,
          "outputs_hidden":false
        },
        "datalore":{
          "type":"CODE",
          "sheet_delimiter":false
        }
      }
    },
    {
      "cell_type":"code",
      "source":[
        "sympy.simplify(r.eigenvals()).subs({\"1\/(mu + gamma)\": G,\n",
        "                                    \"1\/(mu * (R0 - 1))\": A})"
      ],
      "execution_count":73,
      "outputs":[
        {
          "data":{
            "image\/png":"[encoded data removed]"
          },
          "metadata":{
            "image\/png":{
              
            }
          },
          "output_type":"display_data"
        }
      ],
      "metadata":{
        "jupyter":{
          "source_hidden":false,
          "outputs_hidden":false
        },
        "datalore":{
          "type":"CODE",
          "sheet_delimiter":false
        }
      }
    }
  ],
  "metadata":{
    "datalore":{
      "version":1,
      "computation_mode":"JUPYTER",
      "package_manager":"pip",
      "base_environment":"default",
      "packages":[
        
      ]
    }
  },
  "nbformat":4,
  "nbformat_minor":4
}
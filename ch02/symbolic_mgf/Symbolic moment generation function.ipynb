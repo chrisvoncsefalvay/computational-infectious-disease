{
 "cells":[
  {
   "cell_type":"code",
   "source":[
    "from scipy import optimize\n",
    "import sympy\n",
    "from sympy import E\n",
    "import pandas as pd\n",
    "import numpy as np\n",
    "from matplotlib import pyplot as plt\n",
    "import seaborn as sns\n",
    "\n",
    "COLORS = {\"S\": \"#2f4b7c\",\n",
    "          \"E\": \"#ffa600\",\n",
    "          \"I\": \"#f95d6a\",\n",
    "          \"R\": \"#a05195\",\n",
    "          \"D\": \"#003f5c\",\n",
    "          \"C\": \"#ff7c43\",\n",
    "          \"X\": \"#665191\",\n",
    "          \"Y\": \"#d45087\"}\n",
    "\n",
    "sympy.init_printing()"
   ],
   "execution_count":58,
   "outputs":[
    
   ],
   "metadata":{
    "datalore":{
     "type":"CODE",
     "hide_input_from_viewers":false,
     "hide_output_from_viewers":false
    }
   }
  },
  {
   "cell_type":"code",
   "source":[
    "data = pd.read_csv(\"https:\/\/raw.githubusercontent.com\/nytimes\/covid-19-data\/master\/rolling-averages\/us.csv\",\n",
    "                          usecols=[\"date\", \"cases\"],\n",
    "                          dtype={\"date\": str, \"cases\": int})"
   ],
   "execution_count":59,
   "outputs":[
    
   ],
   "metadata":{
    "datalore":{
     "type":"CODE",
     "hide_input_from_viewers":false,
     "hide_output_from_viewers":false
    }
   }
  },
  {
   "cell_type":"code",
   "source":[
    "data[\"cases\"] = data.cases.rolling(7).mean()"
   ],
   "execution_count":60,
   "outputs":[
    
   ],
   "metadata":{
    "datalore":{
     "type":"CODE",
     "hide_input_from_viewers":false,
     "hide_output_from_viewers":false
    }
   }
  },
  {
   "cell_type":"code",
   "source":[
    "data = data[(data.date >= \"2020-02-01\") & (data.date <= \"2020-04-11\")]"
   ],
   "execution_count":61,
   "outputs":[
    
   ],
   "metadata":{
    "datalore":{
     "type":"CODE",
     "hide_input_from_viewers":false,
     "hide_output_from_viewers":false
    }
   }
  },
  {
   "cell_type":"code",
   "source":[
    "def exp_model(t, c, r):\n",
    "    return c * np.exp(r * t)"
   ],
   "execution_count":62,
   "outputs":[
    
   ],
   "metadata":{
    "datalore":{
     "type":"CODE",
     "hide_input_from_viewers":false,
     "hide_output_from_viewers":false
    }
   }
  },
  {
   "cell_type":"code",
   "source":[
    "popt, pcov = optimize.curve_fit(exp_model, data.index, data.cases, p0=(1e-2, 1e-6), maxfev=10000)"
   ],
   "execution_count":63,
   "outputs":[
    
   ],
   "metadata":{
    "datalore":{
     "type":"CODE",
     "hide_input_from_viewers":false,
     "hide_output_from_viewers":false
    }
   }
  },
  {
   "cell_type":"code",
   "source":[
    "fig = plt.figure(facecolor=\"w\", figsize=(15, 6))\n",
    "ax = fig.add_subplot(111, axisbelow=True)\n",
    "\n",
    "ax.plot(pd.to_datetime(data.date), data.cases, alpha=0.5, lw=2, color=COLORS[\"I\"], label=\"Actual\")\n",
    "ax.plot(pd.to_datetime(data.date), popt[0] * np.exp(popt[1] * data.index), alpha=0.5, lw=2, color=COLORS[\"D\"], linestyle=\"dashed\", label=\"Exponential fit\")\n",
    "\n",
    "ax.fill_between(pd.to_datetime(data.date), data.cases, popt[0] * np.exp(popt[1] * data.index), color=COLORS[\"X\"], alpha=0.15)\n",
    "\n",
    "ax.set_xlabel(\"Date\")\n",
    "ax.set_ylabel(\"$I(t)$\")\n",
    "ax.grid(b=True, which='major', c='w', lw=2, ls='-')\n",
    "\n",
    "ax.annotate(\"$I(t) = c \\ e^{rt}$\", (0.1, 0.7), xycoords=\"axes fraction\", fontsize=14)\n",
    "ax.annotate(\"$\\\\hat{c} = 37.43$\", (0.1, 0.55), xycoords=\"axes fraction\", fontsize=14)\n",
    "ax.annotate(\"$\\\\hat{r} = 0.087$\", (0.1, 0.45), xycoords=\"axes fraction\", fontsize=14)\n",
    "\n",
    "for spine in (\"top\", \"right\"):\n",
    "    ax.spines[spine].set_visible(False)\n",
    "\n",
    "legend = ax.legend()\n",
    "legend.get_frame().set_alpha(0.5)\n",
    "\n",
    "fig.subplots_adjust(bottom=0.25)\n",
    "plt.legend(title='', bbox_to_anchor=(0.5, -0.3), loc=\"lower center\", ncol=3, frameon=False)\n",
    "\n",
    "plt.savefig(\"exponential_fit.pdf\")"
   ],
   "execution_count":64,
   "outputs":[
    {
     "name":"stderr",
     "text":[
      "<ipython-input-64-5242788a4693>:11: MatplotlibDeprecationWarning: The 'b' parameter of grid() has been renamed 'visible' since Matplotlib 3.5; support for the old name will be dropped two minor releases later.\n",
      "  ax.grid(b=True, which='major', c='w', lw=2, ls='-')\n"
     ],
     "output_type":"stream"
    },
    {
     "data":{
      "image\/png":"[encoded data removed]"
     },
     "metadata":{
      "image\/png":{
       
      }
     },
     "output_type":"display_data"
    }
   ],
   "metadata":{
    "datalore":{
     "type":"CODE",
     "hide_input_from_viewers":false,
     "hide_output_from_viewers":false
    }
   }
  },
  {
   "cell_type":"code",
   "source":[
    "popt[0], popt[1]"
   ],
   "execution_count":65,
   "outputs":[
    {
     "data":{
      "image\/png":"[encoded data removed]"
     },
     "metadata":{
      "image\/png":{
       
      }
     },
     "output_type":"display_data"
    }
   ],
   "metadata":{
    "datalore":{
     "type":"CODE",
     "hide_input_from_viewers":false,
     "hide_output_from_viewers":false
    }
   }
  },
  {
   "cell_type":"code",
   "source":[
    "mu, sigma, t, blamda = sympy.symbols(\"mu sigma t lambda\")"
   ],
   "execution_count":66,
   "outputs":[
    
   ],
   "metadata":{
    "datalore":{
     "type":"CODE",
     "hide_input_from_viewers":false,
     "hide_output_from_viewers":false
    }
   }
  },
  {
   "cell_type":"code",
   "source":[
    "mgf_normal = E ** (t * mu + (sigma ** 2 * t ** 2)\/2)"
   ],
   "execution_count":67,
   "outputs":[
    
   ],
   "metadata":{
    "datalore":{
     "type":"CODE",
     "hide_input_from_viewers":false,
     "hide_output_from_viewers":false
    }
   }
  },
  {
   "cell_type":"code",
   "source":[
    "1\/mgf_normal.subs({\"t\": -1 * popt[1],\n",
    "                  \"mu\": 5,\n",
    "                  \"sigma\": 1.15})"
   ],
   "execution_count":68,
   "outputs":[
    {
     "data":{
      "image\/png":"[encoded data removed]"
     },
     "metadata":{
      "image\/png":{
       
      }
     },
     "output_type":"display_data"
    }
   ],
   "metadata":{
    "datalore":{
     "type":"CODE",
     "hide_input_from_viewers":false,
     "hide_output_from_viewers":false
    }
   }
  }
 ],
 "metadata":{
  "datalore":{
   "version":1,
   "computation_mode":"JUPYTER",
   "package_manager":"pip",
   "base_environment":"default",
   "packages":[
    
   ]
  }
 },
 "nbformat":4,
 "nbformat_minor":4
}
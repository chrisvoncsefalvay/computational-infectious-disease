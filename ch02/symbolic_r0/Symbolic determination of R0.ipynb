{
 "cells": [
  {
   "cell_type": "markdown",
   "source": [
    "| **Chapter**                   | 2:  Simple compartmental models                 |\n",
    "| ----------------------------- |-------------------------------------------------|\n",
    "| **Computational Note**        | 2.x: Symbolic determination of $\\mathfrak{R}_0$ |\n",
    "| **Package prerequisites**     | [SymPy](https://www.sympy.org/en/index.html)    |\n",
    "\n",
    "# Symbolic determination of $\\mathfrak{R}_0$"
   ],
   "metadata": {
    "collapsed": false,
    "pycharm": {
     "name": "#%% md\n"
    }
   }
  },
  {
   "cell_type": "code",
   "execution_count": 1,
   "outputs": [],
   "source": [
    "from sympy import *"
   ],
   "metadata": {
    "collapsed": false,
    "pycharm": {
     "name": "#%%\n"
    }
   }
  },
  {
   "cell_type": "code",
   "execution_count": 2,
   "outputs": [
    {
     "name": "stdout",
     "output_type": "stream",
     "text": [
      "Author: Chris von Csefalvay\n",
      "\n",
      "Github username: chrisvoncsefalvay\n",
      "\n",
      "Python implementation: CPython\n",
      "Python version       : 3.10.2\n",
      "IPython version      : 8.4.0\n",
      "\n",
      "scipy: 1.8.1\n",
      "\n",
      "sympy: 1.10.1\n",
      "\n"
     ]
    }
   ],
   "source": [
    "%load_ext watermark\n",
    "%watermark --iversions -v -a \"Chris von Csefalvay\" -gu \"chrisvoncsefalvay\" -p sympy -p scipy"
   ],
   "metadata": {
    "collapsed": false,
    "pycharm": {
     "name": "#%%\n"
    }
   }
  },
  {
   "cell_type": "code",
   "execution_count": 3,
   "outputs": [],
   "source": [
    "s, e, i, r, beta, phi, sigma, mu, gamma = symbols(\"s e i r beta phi sigma mu gamma\")"
   ],
   "metadata": {
    "collapsed": false,
    "pycharm": {
     "name": "#%%\n"
    }
   }
  },
  {
   "cell_type": "code",
   "execution_count": 4,
   "outputs": [],
   "source": [
    "init_printing(use_unicode=True)"
   ],
   "metadata": {
    "collapsed": false,
    "pycharm": {
     "name": "#%%\n"
    }
   }
  },
  {
   "cell_type": "code",
   "execution_count": 5,
   "outputs": [],
   "source": [
    "X = Matrix([[e], [i]])"
   ],
   "metadata": {
    "collapsed": false,
    "pycharm": {
     "name": "#%%\n"
    }
   }
  },
  {
   "cell_type": "code",
   "execution_count": 6,
   "outputs": [],
   "source": [
    "Y = Matrix([[s], [r]])"
   ],
   "metadata": {
    "collapsed": false,
    "pycharm": {
     "name": "#%%\n"
    }
   }
  },
  {
   "cell_type": "code",
   "execution_count": 7,
   "outputs": [],
   "source": [
    "Fvec = Matrix([[beta * i], [0]])\n",
    "Vvec = Matrix([[(mu + sigma) * e],\n",
    "               [- sigma * e + (gamma + mu) * i]])"
   ],
   "metadata": {
    "collapsed": false,
    "pycharm": {
     "name": "#%%\n"
    }
   }
  },
  {
   "cell_type": "code",
   "execution_count": 8,
   "outputs": [
    {
     "data": {
      "text/plain": "⎡0  β⎤\n⎢    ⎥\n⎣0  0⎦",
      "image/png": "[encoded data removed]",
      "text/latex": "$\\displaystyle \\left[\\begin{matrix}0 & \\beta\\\\0 & 0\\end{matrix}\\right]$"
     },
     "execution_count": 8,
     "metadata": {},
     "output_type": "execute_result"
    }
   ],
   "source": [
    "F = Fvec.jacobian(X)\n",
    "F"
   ],
   "metadata": {
    "collapsed": false,
    "pycharm": {
     "name": "#%%\n"
    }
   }
  },
  {
   "cell_type": "code",
   "execution_count": 9,
   "outputs": [
    {
     "data": {
      "text/plain": "⎡μ + σ    0  ⎤\n⎢            ⎥\n⎣ -σ    γ + μ⎦",
      "image/png": "[encoded data removed]",
      "text/latex": "$\\displaystyle \\left[\\begin{matrix}\\mu + \\sigma & 0\\\\- \\sigma & \\gamma + \\mu\\end{matrix}\\right]$"
     },
     "execution_count": 9,
     "metadata": {},
     "output_type": "execute_result"
    }
   ],
   "source": [
    "V = Vvec.jacobian(X)\n",
    "V"
   ],
   "metadata": {
    "collapsed": false,
    "pycharm": {
     "name": "#%%\n"
    }
   }
  },
  {
   "cell_type": "code",
   "execution_count": 10,
   "outputs": [
    {
     "data": {
      "text/plain": "⎧            β⋅σ         ⎫\n⎨0: 1, ───────────────: 1⎬\n⎩      (γ + μ)⋅(μ + σ)   ⎭",
      "image/png": "[encoded data removed]",
      "text/latex": "$\\displaystyle \\left\\{ 0 : 1, \\  \\frac{\\beta \\sigma}{\\left(\\gamma + \\mu\\right) \\left(\\mu + \\sigma\\right)} : 1\\right\\}$"
     },
     "execution_count": 10,
     "metadata": {},
     "output_type": "execute_result"
    }
   ],
   "source": [
    "(F * V.inv()).eigenvals()"
   ],
   "metadata": {
    "collapsed": false,
    "pycharm": {
     "name": "#%%\n"
    }
   }
  }
 ],
 "metadata": {
  "kernelspec": {
   "display_name": "Python 3",
   "language": "python",
   "name": "python3"
  },
  "language_info": {
   "codemirror_mode": {
    "name": "ipython",
    "version": 2
   },
   "file_extension": ".py",
   "mimetype": "text/x-python",
   "name": "python",
   "nbconvert_exporter": "python",
   "pygments_lexer": "ipython2",
   "version": "2.7.6"
  }
 },
 "nbformat": 4,
 "nbformat_minor": 0
}
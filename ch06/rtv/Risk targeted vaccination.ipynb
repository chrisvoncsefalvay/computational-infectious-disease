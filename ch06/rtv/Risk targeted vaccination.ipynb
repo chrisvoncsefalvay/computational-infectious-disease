{
 "cells": [
  {
   "cell_type": "markdown",
   "source": [
    "| **Chapter**                   | 6:  Simple compartmental models                       |\n",
    "| ----------------------------- | ----------------------------------------------------- |\n",
    "| **Computational Note**        | 6.x: Modeling targeted vaccination in risk-stratified models|\n",
    "| **Package prerequisites**     | [SymPy](https://www.sympy.org/en/index.html)                                                  |\n",
    "\n",
    "\n",
    "# Modeling targeted vaccination in risk-stratified models\n",
    "\n",
    "In this example, we use SymPy to model a risk-stratified model with the WAIFW matrix\n",
    "\n",
    "$$\n",
    "    \\beta = \\begin{pmatrix}\n",
    "        10 & 0.5 \\\\\n",
    "        0.5 & 2.0\n",
    "    \\end{pmatrix}\n",
    "$$\n",
    "\n",
    "and a 20\\% population share belonging to the high-risk group."
   ],
   "attachments": {},
   "metadata": {
    "datalore": {
     "type": "MD",
     "hide_input_from_viewers": false,
     "hide_output_from_viewers": false
    },
    "pycharm": {
     "name": "#%% md\n"
    }
   }
  },
  {
   "cell_type": "code",
   "source": [
    "import numpy as np\n",
    "from sympy.interactive.printing import init_printing\n",
    "init_printing(use_unicode=True, wrap_line=True)\n",
    "from sympy.matrices import Matrix\n",
    "from sympy import symbols\n",
    "from sympy import lambdify\n",
    "from matplotlib import pyplot as plt"
   ],
   "execution_count": 1,
   "outputs": [
    {
     "ename": "ModuleNotFoundError",
     "evalue": "No module named 'sympy'",
     "output_type": "error",
     "traceback": [
      "\u001B[0;31m---------------------------------------------------------------------------\u001B[0m",
      "\u001B[0;31mModuleNotFoundError\u001B[0m                       Traceback (most recent call last)",
      "Input \u001B[0;32mIn [1]\u001B[0m, in \u001B[0;36m<cell line: 2>\u001B[0;34m()\u001B[0m\n\u001B[1;32m      1\u001B[0m \u001B[38;5;28;01mimport\u001B[39;00m \u001B[38;5;21;01mnumpy\u001B[39;00m \u001B[38;5;28;01mas\u001B[39;00m \u001B[38;5;21;01mnp\u001B[39;00m\n\u001B[0;32m----> 2\u001B[0m \u001B[38;5;28;01mfrom\u001B[39;00m \u001B[38;5;21;01msympy\u001B[39;00m\u001B[38;5;21;01m.\u001B[39;00m\u001B[38;5;21;01minteractive\u001B[39;00m\u001B[38;5;21;01m.\u001B[39;00m\u001B[38;5;21;01mprinting\u001B[39;00m \u001B[38;5;28;01mimport\u001B[39;00m init_printing\n\u001B[1;32m      3\u001B[0m init_printing(use_unicode\u001B[38;5;241m=\u001B[39m\u001B[38;5;28;01mTrue\u001B[39;00m, wrap_line\u001B[38;5;241m=\u001B[39m\u001B[38;5;28;01mTrue\u001B[39;00m)\n\u001B[1;32m      4\u001B[0m \u001B[38;5;28;01mfrom\u001B[39;00m \u001B[38;5;21;01msympy\u001B[39;00m\u001B[38;5;21;01m.\u001B[39;00m\u001B[38;5;21;01mmatrices\u001B[39;00m \u001B[38;5;28;01mimport\u001B[39;00m Matrix\n",
      "\u001B[0;31mModuleNotFoundError\u001B[0m: No module named 'sympy'"
     ]
    }
   ],
   "metadata": {
    "datalore": {
     "type": "CODE",
     "hide_input_from_viewers": false,
     "hide_output_from_viewers": false
    },
    "pycharm": {
     "name": "#%%\n"
    }
   }
  },
  {
   "cell_type": "markdown",
   "source": [
    "## Defining the $\\beta$ matrix"
   ],
   "attachments": {},
   "metadata": {
    "datalore": {
     "type": "MD",
     "hide_input_from_viewers": false,
     "hide_output_from_viewers": false
    },
    "pycharm": {
     "name": "#%% md\n"
    }
   }
  },
  {
   "cell_type": "code",
   "source": [
    "beta = np.array([[10., 0.5],[0.5, 2.0]])"
   ],
   "execution_count": null,
   "outputs": [],
   "metadata": {
    "datalore": {
     "type": "CODE",
     "hide_input_from_viewers": false,
     "hide_output_from_viewers": false
    },
    "pycharm": {
     "name": "#%%\n"
    }
   }
  },
  {
   "cell_type": "markdown",
   "source": [
    "## Defining symbols for SymPy"
   ],
   "attachments": {},
   "metadata": {
    "datalore": {
     "type": "MD",
     "hide_input_from_viewers": false,
     "hide_output_from_viewers": false
    },
    "pycharm": {
     "name": "#%% md\n"
    }
   }
  },
  {
   "cell_type": "code",
   "source": [
    "I_H, I_L, beta_HH, beta_HL, beta_LH, beta_LL, gamma_H, gamma_L, n_H, n_L, v_H, v_L = symbols(\"I_H I_L beta_HH beta_HL beta_LH beta_LL gamma_H gamma_L n_H n_L v_H v_L\")"
   ],
   "execution_count": null,
   "outputs": [],
   "metadata": {
    "datalore": {
     "type": "CODE",
     "hide_input_from_viewers": false,
     "hide_output_from_viewers": false
    },
    "pycharm": {
     "name": "#%%\n"
    }
   }
  },
  {
   "cell_type": "markdown",
   "source": [
    "## Calculating the Jacobian of the infectious system"
   ],
   "attachments": {},
   "metadata": {
    "datalore": {
     "type": "MD",
     "hide_input_from_viewers": false,
     "hide_output_from_viewers": false
    },
    "pycharm": {
     "name": "#%% md\n"
    }
   }
  },
  {
   "cell_type": "code",
   "source": [
    "infectious_system = Matrix(np.array([I_H, I_L]).T)"
   ],
   "execution_count": null,
   "outputs": [],
   "metadata": {
    "datalore": {
     "type": "CODE",
     "hide_input_from_viewers": false,
     "hide_output_from_viewers": false
    },
    "pycharm": {
     "name": "#%%\n"
    }
   }
  },
  {
   "cell_type": "code",
   "source": [
    "d_Is = Matrix(np.array([(beta_HH * n_H - gamma_H) * I_H + (beta_HL * n_H) * I_L,\n",
    "                        beta_LH * n_L * I_H + (beta_LL * n_L - gamma_L) * I_L]).T)"
   ],
   "execution_count": null,
   "outputs": [],
   "metadata": {
    "datalore": {
     "type": "CODE",
     "hide_input_from_viewers": false,
     "hide_output_from_viewers": false
    },
    "pycharm": {
     "name": "#%%\n"
    }
   }
  },
  {
   "cell_type": "code",
   "source": [
    "coeffs = d_Is.jacobian(infectious_system)\n",
    "coeffs"
   ],
   "execution_count": null,
   "outputs": [],
   "metadata": {
    "datalore": {
     "type": "CODE",
     "hide_input_from_viewers": false,
     "hide_output_from_viewers": false
    },
    "pycharm": {
     "name": "#%%\n"
    }
   }
  },
  {
   "cell_type": "markdown",
   "source": [
    "## Calculating the eigenvalues of the Jacobian\n",
    "\n",
    "We use the `subs` method of the Jacobian to substitute values for symbols, then calculate the eigenvalues for a grid of values of $\\nu_H$ and $\\nu_L$ (vaccination rates of the high and low risk cohort, respectively):\n",
    "\n",
    "* `beta_` variables are taken from the WAIFW matrix $\\beta$,\n",
    "* `gamma_` variables are invariant between the two groups, since both recover with equal probability (0.05/day)\n",
    "* initial values of $N$ for H and L are set at 0.2 and 0.8, respectively."
   ],
   "attachments": {},
   "metadata": {
    "datalore": {
     "type": "MD",
     "hide_input_from_viewers": false,
     "hide_output_from_viewers": false
    },
    "pycharm": {
     "name": "#%% md\n"
    }
   }
  },
  {
   "cell_type": "code",
   "source": [
    "nx, ny = (100, 100)\n",
    "x = np.linspace(0.01, 1, nx)\n",
    "y = np.linspace(0.01, 1, ny)\n",
    "xx, yy = np.meshgrid(x, y)"
   ],
   "execution_count": null,
   "outputs": [],
   "metadata": {
    "datalore": {
     "type": "CODE",
     "hide_input_from_viewers": false,
     "hide_output_from_viewers": false
    },
    "pycharm": {
     "name": "#%%\n"
    }
   }
  },
  {
   "cell_type": "code",
   "source": [
    "f = lambdify([v_H, v_L], coeffs.subs({\"beta_HH\": 10,\n",
    "                 \"beta_HL\": 0.5,\n",
    "                 \"beta_LH\": 0.5,\n",
    "                 \"beta_LL\": 2,  \n",
    "                 \"n_H\": 0.2 * (1-v_H),\n",
    "                 \"n_L\": 0.8 * (1-v_L),\n",
    "                 \"gamma_H\": 0.05,\n",
    "                 \"gamma_L\": 0.05}).eigenvals())"
   ],
   "execution_count": null,
   "outputs": [],
   "metadata": {
    "datalore": {
     "type": "CODE",
     "hide_input_from_viewers": false,
     "hide_output_from_viewers": false
    },
    "pycharm": {
     "name": "#%%\n"
    }
   }
  },
  {
   "cell_type": "markdown",
   "source": [
    "## Vectorisation of the spectral radius function\n",
    "\n",
    "We use the `@np.vectorize` decorator to create a function that we can call on arrays.\n",
    "The function `get_r0` takes two arguments (the vaccination rates of the high-risk and low-risk cohorts), and substitutes them into the Jacobian.\n",
    "It then returns the element of the Jacobian with the largest absolute value."
   ],
   "attachments": {},
   "metadata": {
    "datalore": {
     "type": "MD",
     "hide_input_from_viewers": false,
     "hide_output_from_viewers": false
    },
    "pycharm": {
     "name": "#%% md\n"
    }
   }
  },
  {
   "cell_type": "code",
   "source": [
    "@np.vectorize\n",
    "def get_r0(v_H, v_L):\n",
    "    return max([abs(i) for i in f(v_H, v_L)])"
   ],
   "execution_count": null,
   "outputs": [],
   "metadata": {
    "datalore": {
     "type": "CODE",
     "hide_input_from_viewers": false,
     "hide_output_from_viewers": false
    },
    "pycharm": {
     "name": "#%%\n"
    }
   }
  },
  {
   "cell_type": "markdown",
   "source": [
    "## Plotting the results"
   ],
   "attachments": {},
   "metadata": {
    "datalore": {
     "type": "MD",
     "hide_input_from_viewers": false,
     "hide_output_from_viewers": false
    },
    "pycharm": {
     "name": "#%% md\n"
    }
   }
  },
  {
   "cell_type": "code",
   "source": [
    "fig, ax = plt.subplots(constrained_layout=True, figsize=(6, 6), dpi=600)\n",
    "\n",
    "origin = \"lower\"\n",
    "\n",
    "fill = ax.contourf(xx, yy, get_r0(xx, yy), 15, cmap=plt.cm.rainbow, origin=origin)\n",
    "critical_optimum = ax.contour(xx, yy, get_r0(xx, yy), levels=[1.0], origin=origin)\n",
    "\n",
    "ax.set_ylabel(\"Vaccination rate, low-risk ($\\\\nu_L$)\")\n",
    "ax.set_xlabel(\"Vaccination rate, high-risk ($\\\\nu_H$)\")\n",
    "\n",
    "cbar = fig.colorbar(fill)\n",
    "cbar.ax.set_ylabel(\"$R_0$\")\n",
    "cbar.add_lines(critical_optimum)\n",
    "\n",
    "plt.savefig(\"risk_dependent_vaccination_optima.pdf\")"
   ],
   "execution_count": null,
   "outputs": [],
   "metadata": {
    "datalore": {
     "type": "CODE",
     "hide_input_from_viewers": false,
     "hide_output_from_viewers": false
    },
    "pycharm": {
     "name": "#%%\n"
    }
   }
  }
 ],
 "metadata": {
  "datalore": {
   "version": 1,
   "computation_mode": "JUPYTER",
   "package_manager": "pip",
   "base_environment": "default",
   "packages": []
  }
 },
 "nbformat": 4,
 "nbformat_minor": 4
}
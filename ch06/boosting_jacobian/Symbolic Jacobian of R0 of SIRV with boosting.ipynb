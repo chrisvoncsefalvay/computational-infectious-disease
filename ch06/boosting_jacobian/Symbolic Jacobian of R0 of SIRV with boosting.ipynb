{
 "cells": [
  {
   "cell_type": "code",
   "source": [
    "import sympy\n",
    "from sympy import symbols\n",
    "from sympy.matrices import Matrix"
   ],
   "execution_count": 2,
   "outputs": [],
   "metadata": {
    "datalore": {
     "type": "CODE",
     "hide_input_from_viewers": false,
     "hide_output_from_viewers": false
    },
    "pycharm": {
     "name": "#%%\n"
    }
   }
  },
  {
   "cell_type": "code",
   "source": [
    "S, I, R, V, beta, nu, tau_e, xi, gamma = symbols(\"S I R V beta nu tau_e xi gamma\")"
   ],
   "execution_count": 3,
   "outputs": [],
   "metadata": {
    "datalore": {
     "type": "CODE",
     "hide_input_from_viewers": false,
     "hide_output_from_viewers": false
    },
    "pycharm": {
     "name": "#%%\n"
    }
   }
  },
  {
   "cell_type": "code",
   "source": [
    "X = Matrix([I])\n",
    "Y = Matrix([S, R, V])"
   ],
   "execution_count": 4,
   "outputs": [],
   "metadata": {
    "datalore": {
     "type": "CODE",
     "hide_input_from_viewers": false,
     "hide_output_from_viewers": false
    },
    "pycharm": {
     "name": "#%%\n"
    }
   }
  },
  {
   "cell_type": "code",
   "source": [
    "Fvec = Matrix([])"
   ],
   "execution_count": null,
   "outputs": [],
   "metadata": {
    "datalore": {
     "type": "CODE",
     "hide_input_from_viewers": false,
     "hide_output_from_viewers": false
    },
    "pycharm": {
     "name": "#%%\n"
    }
   }
  },
  {
   "cell_type": "code",
   "source": [],
   "execution_count": null,
   "outputs": [],
   "metadata": {
    "datalore": {
     "type": "CODE",
     "hide_input_from_viewers": false,
     "hide_output_from_viewers": false
    },
    "pycharm": {
     "name": "#%%\n"
    }
   }
  },
  {
   "cell_type": "code",
   "source": [
    "coeffs = Matrix([- beta * S * I - nu * S + 1/tau_e * (1 - xi) * V,\n",
    "        beta * S * I - gamma * I - nu * I,\n",
    "        gamma * I - nu * R,\n",
    "        nu * (S + I + R) - 1/tau_e * xi * V])"
   ],
   "execution_count": 26,
   "outputs": [],
   "metadata": {
    "datalore": {
     "type": "CODE",
     "hide_input_from_viewers": false,
     "hide_output_from_viewers": false
    },
    "pycharm": {
     "name": "#%%\n"
    }
   }
  },
  {
   "cell_type": "code",
   "source": [
    "jac = coeffs.jacobian(Matrix([S, I, R, V]))"
   ],
   "execution_count": 27,
   "outputs": [],
   "metadata": {
    "datalore": {
     "type": "CODE",
     "hide_input_from_viewers": false,
     "hide_output_from_viewers": false
    },
    "pycharm": {
     "name": "#%%\n"
    }
   }
  },
  {
   "cell_type": "code",
   "source": [
    "jac"
   ],
   "execution_count": 28,
   "outputs": [],
   "metadata": {
    "datalore": {
     "type": "CODE",
     "hide_input_from_viewers": false,
     "hide_output_from_viewers": false
    },
    "pycharm": {
     "name": "#%%\n"
    }
   }
  },
  {
   "cell_type": "code",
   "source": [
    "eigens = jac.eigenvals()"
   ],
   "execution_count": 34,
   "outputs": [],
   "metadata": {
    "datalore": {
     "type": "CODE",
     "hide_input_from_viewers": false,
     "hide_output_from_viewers": false
    },
    "pycharm": {
     "name": "#%%\n"
    }
   }
  },
  {
   "cell_type": "code",
   "source": [
    "for i in list(eigens.keys()):\n",
    "    print(i.subs({\"xi\": 0.5, \"tau_e\": 180, \"nu\": 0.8, \"gamma\": 1/6, \"beta\": 1}))"
   ],
   "execution_count": 43,
   "outputs": [],
   "metadata": {
    "datalore": {
     "type": "CODE",
     "hide_input_from_viewers": false,
     "hide_output_from_viewers": false
    },
    "pycharm": {
     "name": "#%%\n"
    }
   }
  }
 ],
 "metadata": {
  "datalore": {
   "version": 1,
   "computation_mode": "JUPYTER",
   "package_manager": "pip",
   "base_environment": "default",
   "packages": []
  }
 },
 "nbformat": 4,
 "nbformat_minor": 4
}
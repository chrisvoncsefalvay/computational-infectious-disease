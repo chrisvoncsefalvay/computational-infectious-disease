{
 "cells": [
  {
   "cell_type": "markdown",
   "source": [
    "\n",
    "\n",
    "| **Chapter**                   | 2:  Host factors                      |\n",
    "| ----------------------------- |---------------------------------------|\n",
    "| **Computational Note**        | 3.3: A simple age-heterogeneity model |\n",
    "| **Package prerequisites**     | None                                  |\n",
    "\n",
    "\n",
    "\n",
    "# A simple age-heterogeneity model\n",
    "\n",
    "In this notebook, we are modeling an age-differential (or 'age-structured') model, with two groups – Upper Sixth ($U$) and Lower Sixth ($L$) –, with preferential homogenous mixing (homophily).\n",
    "The model can be articulated as follows:\n",
    "\n",
    "\\begin{equation}\n",
    "        \\frac{dS_L}{dt} = - S_L(\\beta_{L,L} I_L + \\beta_{L,U} I_U) - \\nu_L S_L + \\mu (S_L + I_L + R_L) \\\\\n",
    "\\end{equation}\n",
    "\n",
    "\\begin{equation}\n",
    "        \\frac{dS_U}{dt} = - S_U(\\beta_{U,U} I_U + \\beta_{U,L} I_L) + \\nu_L S_L \\\\\n",
    "\\end{equation}\n",
    "\n",
    "\\begin{equation}\n",
    "        \\frac{dI_L}{dt} = S_L (\\beta_{L,L} I_L + \\beta_{L,U} I_U) - \\nu_L I_L - \\gamma I_L \\\\\n",
    "\\end{equation}\n",
    "\n",
    "\\begin{equation}\n",
    "        \\frac{dI_U}{dt} = S_U (\\beta_{U,U} I_U + \\beta_{U,L} I_L) + \\nu_L I_L - \\gamma I_U\n",
    "\\end{equation}\n",
    "\n",
    "\\begin{equation}\n",
    "        \\frac{dR}{dt} = \\gamma I_L + \\gamma I_U - \\theta R_L\n",
    "\\end{equation}\n",
    "\n",
    "The WAIFW matrix is a symmetric matrix that articulates the homophily of each cohort:\n",
    "\n",
    "\\begin{equation}\n",
    "    b = \\begin{pmatrix}\n",
    "        8 & 4\\\\\n",
    "        4 & 8\n",
    "    \\end{pmatrix}    \n",
    "\\end{equation}\n",
    "\n",
    "We use the methods previously enumerated for solving the associated IVP."
   ],
   "attachments": {},
   "metadata": {
    "datalore": {
     "type": "MD",
     "hide_input_from_viewers": false,
     "hide_output_from_viewers": false
    },
    "pycharm": {
     "name": "#%% md\n"
    }
   }
  },
  {
   "cell_type": "code",
   "source": [
    "import numpy as np\n",
    "from scipy.integrate import solve_ivp\n",
    "from matplotlib import pyplot as plt\n",
    "\n",
    "COLORS = {\"S\": \"#2f4b7c\",\n",
    "          \"E\": \"#ffa600\",\n",
    "          \"I\": \"#f95d6a\",\n",
    "          \"R\": \"#a05195\",\n",
    "          \"D\": \"#003f5c\",\n",
    "          \"C\": \"#ff7c43\",\n",
    "          \"X\": \"#665191\",\n",
    "          \"Y\": \"#d45087\"}"
   ],
   "execution_count": 1,
   "outputs": [],
   "metadata": {
    "datalore": {
     "type": "CODE",
     "hide_input_from_viewers": false,
     "hide_output_from_viewers": false
    },
    "pycharm": {
     "name": "#%%\n"
    }
   }
  },
  {
   "cell_type": "markdown",
   "source": [
    "## Set initial value parameters\n",
    "\n",
    "We set the initial value parameters:\n",
    "\n",
    "* Initial infectious population ($I_0$): 0.01\n",
    "* $S_0$: $0.5 - I_0$ per cohort\n",
    "* $\\mu$ (mortality rate): 0.01\n",
    "* $\\nu$ (transition rate): 0.02\n",
    "* $\\theta$ (pass-out from the Upper Sixth, 'aging out' rate): 0.015\n",
    "* $\\gamma$: $\\frac{1}{20}$"
   ],
   "attachments": {},
   "metadata": {
    "datalore": {
     "type": "MD",
     "hide_input_from_viewers": false,
     "hide_output_from_viewers": false
    },
    "pycharm": {
     "name": "#%% md\n"
    }
   }
  },
  {
   "cell_type": "code",
   "source": [
    "I_0 = 1e-3\n",
    "S_0 = 0.5 - I_0\n",
    "R_0 = 0\n",
    "\n",
    "y_0 = (S_0, I_0, S_0, I_0, R_0, R_0)\n",
    "\n",
    "mu = 0.01\n",
    "nu = 0.02\n",
    "theta = 0.015\n",
    "gamma = 1/20\n",
    "\n",
    "beta = [8, 4, 4, 8]"
   ],
   "execution_count": 2,
   "outputs": [],
   "metadata": {
    "datalore": {
     "type": "CODE",
     "hide_input_from_viewers": false,
     "hide_output_from_viewers": false
    },
    "pycharm": {
     "name": "#%%\n"
    }
   }
  },
  {
   "cell_type": "markdown",
   "source": [
    "## Defining the system of ODEs as a function"
   ],
   "attachments": {},
   "metadata": {
    "datalore": {
     "type": "MD",
     "hide_input_from_viewers": false,
     "hide_output_from_viewers": false
    },
    "pycharm": {
     "name": "#%% md\n"
    }
   }
  },
  {
   "cell_type": "code",
   "source": [
    "def deriv(t, y, beta, gamma, mu, nu, theta):\n",
    "    S_L, I_L, S_U, I_U, R_U, R_L = y\n",
    "    \n",
    "    dSLdt = - S_L * (beta[0] * I_L + beta[1] * I_U) - nu * S_L + mu * (S_L + I_L + R_L)\n",
    "    dSUdt = - S_U * (beta[2] * I_L + beta[3] * I_U) + nu * S_L\n",
    "\n",
    "    dILdt = S_L * (beta[0] * I_L + beta[1] * I_U) - nu * I_L - gamma * I_L\n",
    "    dIUdt = S_U * (beta[2] * I_L + beta[3] * I_U) + nu * I_L - gamma * I_U\n",
    "\n",
    "    dRLdt = gamma * I_L - nu * R_L\n",
    "    dRUdt = gamma * I_U + nu * R_L - theta * R_U\n",
    "\n",
    "    return dSLdt, dILdt, dSUdt, dIUdt, dRUdt, dRLdt"
   ],
   "execution_count": 3,
   "outputs": [],
   "metadata": {
    "datalore": {
     "type": "CODE",
     "hide_input_from_viewers": false,
     "hide_output_from_viewers": false
    },
    "pycharm": {
     "name": "#%%\n"
    }
   }
  },
  {
   "cell_type": "markdown",
   "source": [
    "## Solve the IVP"
   ],
   "attachments": {},
   "metadata": {
    "datalore": {
     "type": "MD",
     "hide_input_from_viewers": false,
     "hide_output_from_viewers": false
    },
    "pycharm": {
     "name": "#%% md\n"
    }
   }
  },
  {
   "cell_type": "code",
   "source": [
    "res = solve_ivp(fun=deriv, t_span = (0, 400), y0=y_0, args=(beta, gamma, mu, nu, theta), max_step=1, method=\"BDF\")"
   ],
   "execution_count": 4,
   "outputs": [],
   "metadata": {
    "datalore": {
     "type": "CODE",
     "hide_input_from_viewers": false,
     "hide_output_from_viewers": false
    },
    "pycharm": {
     "name": "#%%\n"
    }
   }
  },
  {
   "cell_type": "markdown",
   "source": [
    "## Plot results"
   ],
   "attachments": {},
   "metadata": {
    "datalore": {
     "type": "MD",
     "hide_input_from_viewers": false,
     "hide_output_from_viewers": false
    },
    "pycharm": {
     "name": "#%% md\n"
    }
   }
  },
  {
   "cell_type": "code",
   "source": [
    "SL, IL, SU, IU, RU, RL = res.y\n",
    "\n",
    "fig = plt.figure(facecolor=\"w\", figsize=(6, 4))\n",
    "ax = fig.add_subplot(111, axisbelow=True)\n",
    "\n",
    "ax.plot(res.t, IL, color=COLORS[\"I\"], alpha=0.66, lw=2, label=\"Infectious, Lower Sixth\", linestyle=\"dashed\")\n",
    "ax.plot(res.t, IU, color=COLORS[\"I\"], alpha=0.66, lw=2, label=\"Infectious, Upper Sixth\", linestyle=\"dotted\")\n",
    "\n",
    "ax.plot(res.t, RL, color=COLORS[\"R\"], alpha=0.66, lw=2, label=\"Recovered, Lower Sixth\", linestyle=\"dashed\")\n",
    "ax.plot(res.t, RU, color=COLORS[\"R\"], alpha=0.66, lw=2, label=\"Recovered, Upper Sixth\", linestyle=\"dotted\")\n",
    "\n",
    "ax.fill_between(res.t, RL, RU, color=COLORS[\"X\"], alpha=0.15)\n",
    "\n",
    "ax.set_xlabel(\"Time (days)\")\n",
    "ax.set_ylabel(\"Fraction of population in compartment\")\n",
    "ax.set_xlim(0, 60)\n",
    "ax.grid(b=True, which='major', c='w', lw=2, ls='-')\n",
    "\n",
    "for spine in (\"top\", \"right\"):\n",
    "    ax.spines[spine].set_visible(False)\n",
    "\n",
    "legend = ax.legend()\n",
    "legend.get_frame().set_alpha(0.5)\n",
    "plt.legend(title='', bbox_to_anchor=(0.5, -0.4), loc=\"lower center\", ncol=2, frameon=False)\n",
    "\n",
    "fig.subplots_adjust(bottom=0.25)\n",
    "\n",
    "ax.set_ylim(0, .6)\n",
    "\n",
    "plt.savefig(\"by_age_group.pdf\")\n",
    "plt.show()"
   ],
   "execution_count": 6,
   "outputs": [
    {
     "name": "stderr",
     "output_type": "stream",
     "text": [
      "/var/folders/1d/97x3559931s0_6hkz64q4zth0000gn/T/ipykernel_84524/1866905796.py:17: MatplotlibDeprecationWarning: The 'b' parameter of grid() has been renamed 'visible' since Matplotlib 3.5; support for the old name will be dropped two minor releases later.\n",
      "  ax.grid(b=True, which='major', c='w', lw=2, ls='-')\n"
     ]
    },
    {
     "data": {
      "text/plain": "<Figure size 432x288 with 1 Axes>",
      "image/png": "[encoded data removed]"
     },
     "metadata": {},
     "output_type": "display_data"
    }
   ],
   "metadata": {
    "datalore": {
     "type": "CODE",
     "hide_input_from_viewers": false,
     "hide_output_from_viewers": false
    },
    "pycharm": {
     "name": "#%%\n"
    }
   }
  }
 ],
 "metadata": {
  "datalore": {
   "version": 1,
   "computation_mode": "JUPYTER",
   "package_manager": "pip",
   "base_environment": "default",
   "packages": []
  }
 },
 "nbformat": 4,
 "nbformat_minor": 4
}
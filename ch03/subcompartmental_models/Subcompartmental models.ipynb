{
 "cells": [
  {
   "cell_type": "markdown",
   "source": [
    "| **Chapter**                   | 3:  Host factors                           |\n",
    "| ----------------------------- |--------------------------------------------|\n",
    "| **Computational Note**        | 3.5: Computational subcompartmental models |\n",
    "| **Package prerequisites**     | None                                       |\n",
    "\n",
    "\n",
    "# Computational subcompartmental models\n",
    "\n",
    "\\begin{equation}\n",
    "\\frac{dS}{dt} = - \\beta S \\sum_{i = 1}^n I_i\n",
    "\\end{equation}\n",
    "\n",
    "\\begin{equation}\n",
    "\\frac{dI_1}{dt} = \\beta S \\sum_{i = 1}^n I_i - \\gamma n I_i\n",
    "\\end{equation}\n",
    "\n",
    "\\begin{equation}\n",
    "\\frac{dI_i}{dt} = \\gamma n I_{i - 1} - \\gamma n I_i\n",
    "\\end{equation}\n",
    "\n",
    "\\begin{equation}\n",
    "\\frac{dR}{dt} = \\sum_{i = 1}^n \\gamma n I_i\n",
    "\\end{equation}"
   ],
   "attachments": {},
   "metadata": {
    "datalore": {
     "sheet_delimiter": false
    },
    "pycharm": {
     "name": "#%% md\n"
    }
   }
  },
  {
   "cell_type": "code",
   "source": [
    "import numpy as np\n",
    "from scipy.integrate import solve_ivp\n",
    "from matplotlib import pyplot as plt\n",
    "\n",
    "COLORS = {\"S\": \"#2f4b7c\",\n",
    "          \"E\": \"#ffa600\",\n",
    "          \"I\": \"#f95d6a\",\n",
    "          \"R\": \"#a05195\",\n",
    "          \"D\": \"#003f5c\",\n",
    "          \"C\": \"#ff7c43\",\n",
    "          \"X\": \"#665191\",\n",
    "          \"Y\": \"#d45087\"}"
   ],
   "execution_count": 1,
   "outputs": [],
   "metadata": {
    "datalore": {
     "sheet_delimiter": false
    },
    "pycharm": {
     "name": "#%%\n"
    }
   }
  },
  {
   "cell_type": "code",
   "execution_count": 1,
   "outputs": [
    {
     "name": "stdout",
     "output_type": "stream",
     "text": [
      "Author: Chris von Csefalvay\n",
      "\n",
      "Github username: chrisvoncsefalvay\n",
      "\n",
      "Python implementation: CPython\n",
      "Python version       : 3.10.2\n",
      "IPython version      : 8.4.0\n",
      "\n"
     ]
    }
   ],
   "source": [
    "%load_ext watermark\n",
    "%watermark --iversions -v -a \"Chris von Csefalvay\" -gu \"chrisvoncsefalvay\""
   ],
   "metadata": {
    "collapsed": false,
    "pycharm": {
     "name": "#%%\n"
    }
   }
  },
  {
   "cell_type": "code",
   "source": [
    "S_0 = 1\n",
    "I_0_0 = 1e-2\n",
    "R_0 = 0.0\n",
    "\n",
    "\n",
    "beta = 3\n",
    "tau = 6\n",
    "gamma = 1/tau"
   ],
   "execution_count": 2,
   "outputs": [],
   "metadata": {
    "datalore": {
     "sheet_delimiter": false
    },
    "pycharm": {
     "name": "#%%\n"
    }
   }
  },
  {
   "cell_type": "code",
   "source": [
    "I_0 = [0.0 for i in range(0, 4)]\n",
    "I_0[0] = I_0_0\n",
    "y_0 = [S_0, *I_0, R_0]"
   ],
   "execution_count": 3,
   "outputs": [],
   "metadata": {
    "datalore": {
     "sheet_delimiter": false
    },
    "pycharm": {
     "name": "#%%\n"
    }
   }
  },
  {
   "cell_type": "code",
   "source": [
    "def deriv(t, y, beta, gamma, n):\n",
    "    S = y[0]\n",
    "    I = y[1:-1]\n",
    "    R = y[-1]\n",
    "\n",
    "    dSdt = - beta * S * sum(I)\n",
    "\n",
    "    dIdt = [0.0 for i in range(0, len(I))]\n",
    "    dIdt[0] = beta * S * sum(I) - gamma * n * I[0]\n",
    "    \n",
    "    for i in range(1, n):\n",
    "        dIdt[i] = gamma * n * I[i - 1] - gamma * n * I[i]\n",
    "\n",
    "    dRdt = gamma * n * sum(dIdt)\n",
    "\n",
    "    return dSdt, *dIdt, dRdt"
   ],
   "execution_count": 4,
   "outputs": [],
   "metadata": {
    "datalore": {
     "sheet_delimiter": false
    },
    "pycharm": {
     "name": "#%%\n"
    }
   }
  },
  {
   "cell_type": "code",
   "source": [
    "def solve_for_n(beta, gamma, n, I_0_0 = 0.1, **kwargs):\n",
    "    I_0 = [0.0 for i in range(0, n)]\n",
    "    I_0[0] = I_0_0\n",
    "    S_0 = 1 - I_0_0\n",
    "    R_0 = 0\n",
    "\n",
    "    y_0 = [S_0, *I_0, R_0]\n",
    "\n",
    "    res = solve_ivp(fun=deriv, y0=y_0, args=(beta, gamma, n), **kwargs)\n",
    "    \n",
    "    return {\"t\": res.t,\n",
    "            \"S\": res.y[0],\n",
    "            \"I\": np.array(res.y[1:-1]).sum(axis=0),\n",
    "            \"R\": res.y[-1]}"
   ],
   "execution_count": 5,
   "outputs": [],
   "metadata": {
    "datalore": {
     "sheet_delimiter": false
    },
    "pycharm": {
     "name": "#%%\n"
    }
   }
  },
  {
   "cell_type": "code",
   "source": [
    "n2 = solve_for_n(beta, gamma, 2, t_span=(0, 60), max_step=0.5, method=\"BDF\")\n",
    "n3 = solve_for_n(beta, gamma, 3, t_span=(0, 60), max_step=0.5, method=\"BDF\")\n",
    "n4 = solve_for_n(beta, gamma, 4, t_span=(0, 60), max_step=0.5, method=\"BDF\")\n",
    "n10 = solve_for_n(beta, gamma, 10, t_span=(0, 60), max_step=0.5, method=\"BDF\") \n",
    "n15 = solve_for_n(beta, gamma, 15, t_span=(0, 60), max_step=0.5, method=\"BDF\")\n",
    "n20 = solve_for_n(beta, gamma, 20, t_span=(0, 60), max_step=0.5, method=\"BDF\")\n",
    "n30 = solve_for_n(beta, gamma, 30, t_span=(0, 60), max_step=0.5, method=\"BDF\")\n",
    "n40 =solve_for_n(beta, gamma, 40, t_span=(0, 60), max_step=0.5, method=\"BDF\")"
   ],
   "execution_count": 6,
   "outputs": [],
   "metadata": {
    "datalore": {
     "sheet_delimiter": false
    },
    "pycharm": {
     "name": "#%%\n"
    }
   }
  },
  {
   "cell_type": "code",
   "source": [
    "\n",
    "fig = plt.figure(facecolor=\"w\", figsize=(10, 4))\n",
    "ax = fig.add_subplot(111, axisbelow=True)\n",
    "\n",
    "\n",
    "ax.plot(n2[\"t\"], n2[\"I\"], color=COLORS[\"I\"], alpha=0.55, lw=2, label=\"n = 2\", linestyle=\"solid\")\n",
    "ax.plot(n4[\"t\"], n4[\"I\"], color=COLORS[\"Y\"], alpha=0.22, lw=2, label=\"n = 4\", linestyle=\"solid\")\n",
    "ax.plot(n10[\"t\"], n10[\"I\"], color=COLORS[\"C\"], alpha=0.22, lw=2, label=\"n = 10\", linestyle=\"solid\")\n",
    "ax.plot(n20[\"t\"], n20[\"I\"], color=COLORS[\"D\"], alpha=0.22, lw=2, label=\"n = 20\", linestyle=\"solid\")\n",
    "ax.plot(n30[\"t\"], n30[\"I\"], color=COLORS[\"X\"], alpha=0.22, lw=2, label=\"n = 30\", linestyle=\"solid\")\n",
    "ax.plot(n40[\"t\"], n40[\"I\"], color=COLORS[\"R\"], alpha=0.55, lw=2, label=\"n = 40\", linestyle=\"solid\")\n",
    "\n",
    "\n",
    "ax.set_xlabel('Time (days)')\n",
    "ax.set_ylabel(\"Fraction of proportion in compartment\")\n",
    "ax.set_xlim(0, 30)\n",
    "ax.grid(b=True, which='major', c='w', lw=2, ls='-')\n",
    "\n",
    "for spine in (\"top\", \"right\"):\n",
    "    ax.spines[spine].set_visible(False)\n",
    "\n",
    "legend = ax.legend()\n",
    "legend.get_frame().set_alpha(0.5)\n",
    "plt.legend(title='', bbox_to_anchor=(0.5, -0.4), loc=\"lower center\", ncol=6, frameon=False)\n",
    "\n",
    "fig.subplots_adjust(bottom=0.25)\n",
    "\n",
    "ax.set_ylim(0, 1.1)\n",
    "\n",
    "plt.savefig(\"by_n_values.pdf\", dpi=600)\n",
    "plt.show()"
   ],
   "execution_count": 7,
   "outputs": [
    {
     "data": {
      "image/png": "[encoded data removed]"
     },
     "metadata": {
      "image/png": {}
     },
     "output_type": "display_data"
    }
   ],
   "metadata": {
    "datalore": {
     "sheet_delimiter": false
    },
    "pycharm": {
     "name": "#%%\n"
    }
   }
  }
 ],
 "metadata": {},
 "nbformat": 4,
 "nbformat_minor": 0
}
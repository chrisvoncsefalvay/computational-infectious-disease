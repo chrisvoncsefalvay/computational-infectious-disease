{
 "cells":[
  {
   "cell_type":"markdown",
   "source":[
    "# Symbolic calculation of $R_0$ in a complex system"
   ],
   "attachments":{
    
   },
   "metadata":{
    "datalore":{
     "type":"MD",
     "hide_input_from_viewers":false,
     "hide_output_from_viewers":false
    }
   }
  },
  {
   "cell_type":"code",
   "source":[
    "import numpy as np\n",
    "from sympy.interactive.printing import init_printing\n",
    "init_printing(use_unicode=True, wrap_line=True)\n",
    "from sympy.matrices import Matrix\n",
    "from sympy import symbols\n",
    "from sympy import factor\n",
    "from sympy import latex\n",
    "from sympy import lambdify"
   ],
   "execution_count":1,
   "outputs":[
    
   ],
   "metadata":{
    "datalore":{
     "type":"CODE",
     "hide_input_from_viewers":false,
     "hide_output_from_viewers":false
    }
   }
  },
  {
   "cell_type":"code",
   "source":[
    "I_H, I_L, beta_HH, beta_HL, beta_LH, beta_LL, gamma_H, gamma_L, n_H, n_L = symbols(\"I_H I_L beta_HH beta_HL beta_LH beta_LL gamma_H gamma_L n_H n_L\")"
   ],
   "execution_count":2,
   "outputs":[
    
   ],
   "metadata":{
    "datalore":{
     "type":"CODE",
     "hide_input_from_viewers":false,
     "hide_output_from_viewers":false
    }
   }
  },
  {
   "cell_type":"code",
   "source":[
    "infectious_system = Matrix(np.array([I_H, I_L]).T)"
   ],
   "execution_count":3,
   "outputs":[
    
   ],
   "metadata":{
    "datalore":{
     "type":"CODE",
     "hide_input_from_viewers":false,
     "hide_output_from_viewers":false
    }
   }
  },
  {
   "cell_type":"code",
   "source":[
    "d_Is = Matrix(np.array([(beta_HH * n_H - gamma_H) * I_H + (beta_HL * n_H) * I_L,\n",
    "                        beta_LH * n_L * I_H + (beta_LL * n_L - gamma_L) * I_L]).T)"
   ],
   "execution_count":4,
   "outputs":[
    
   ],
   "metadata":{
    "datalore":{
     "type":"CODE",
     "hide_input_from_viewers":false,
     "hide_output_from_viewers":false
    }
   }
  },
  {
   "cell_type":"code",
   "source":[
    "coeffs = d_Is.jacobian(infectious_system)\n",
    "coeffs"
   ],
   "execution_count":5,
   "outputs":[
    {
     "data":{
      "text\/latex":[
       "$\\displaystyle \\left[\\begin{matrix}\\beta_{HH} n_{H} - \\gamma_{H} & \\beta_{HL} n_{H}\\\\\\beta_{LH} n_{L} & \\beta_{LL} n_{L} - \\gamma_{L}\\end{matrix}\\right]$"
      ]
     },
     "metadata":{
      
     },
     "output_type":"display_data"
    }
   ],
   "metadata":{
    "datalore":{
     "type":"CODE",
     "hide_input_from_viewers":false,
     "hide_output_from_viewers":false
    }
   }
  },
  {
   "cell_type":"code",
   "source":[
    "beta = Matrix([[beta_HH, beta_HL], [beta_LH, beta_LL]])\n",
    "beta"
   ],
   "execution_count":6,
   "outputs":[
    {
     "data":{
      "text\/latex":[
       "$\\displaystyle \\left[\\begin{matrix}\\beta_{HH} & \\beta_{HL}\\\\\\beta_{LH} & \\beta_{LL}\\end{matrix}\\right]$"
      ]
     },
     "metadata":{
      
     },
     "output_type":"display_data"
    }
   ],
   "metadata":{
    "datalore":{
     "type":"CODE",
     "hide_input_from_viewers":false,
     "hide_output_from_viewers":false
    }
   }
  },
  {
   "cell_type":"code",
   "source":[
    "J = coeffs.subs({beta_HH: 10,\n",
    "                 beta_HL: 0.5,\n",
    "                 beta_LH: 0.5,\n",
    "                 beta_LL: 2,\n",
    "                 n_H: 0.2-n_H*v_H,\n",
    "                 n_L: 0.8-n_L*v_L,\n",
    "                 gamma_H: 0.05,\n",
    "                 gamma_L: 0.05})"
   ],
   "execution_count":1,
   "outputs":[
    {
     "ename":"NameError",
     "evalue":"NameError: name 'coeffs' is not defined",
     "traceback":[
      "\u001b[0;31m---------------------------------------------------------------------------",
      "Traceback (most recent call last)",
      "    at line 1 in <module>",
      "NameError: name 'coeffs' is not defined"
     ],
     "output_type":"error"
    }
   ],
   "metadata":{
    "datalore":{
     "type":"CODE",
     "hide_input_from_viewers":false,
     "hide_output_from_viewers":false
    }
   }
  },
  {
   "cell_type":"code",
   "source":[
    "f = lambdify([np.linspace, n_L], expr=J.subs({beta_HH: 10,\n",
    "                 beta_HL: 0.5,\n",
    "                 beta_LH: 0.5,\n",
    "                 beta_LL: 2,\n",
    "                 gamma_H: 0.05,\n",
    "                 gamma_L: 0.05}))"
   ],
   "execution_count":3,
   "outputs":[
    {
     "ename":"NameError",
     "evalue":"NameError: name 'n_H' is not defined",
     "traceback":[
      "\u001b[0;31m---------------------------------------------------------------------------",
      "Traceback (most recent call last)",
      "    at line 1 in <module>",
      "NameError: name 'n_H' is not defined"
     ],
     "output_type":"error"
    }
   ],
   "metadata":{
    "datalore":{
     "type":"CODE",
     "hide_input_from_viewers":false,
     "hide_output_from_viewers":false
    }
   }
  },
  {
   "cell_type":"code",
   "source":[
    
   ],
   "execution_count":null,
   "outputs":[
    
   ],
   "metadata":{
    "datalore":{
     "type":"CODE",
     "hide_input_from_viewers":false,
     "hide_output_from_viewers":false
    }
   }
  }
 ],
 "metadata":{
  "datalore":{
   "version":1,
   "computation_mode":"JUPYTER",
   "package_manager":"pip",
   "base_environment":"default",
   "packages":[
    
   ]
  }
 },
 "nbformat":4,
 "nbformat_minor":4
}
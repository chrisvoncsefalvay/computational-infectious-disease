{
 "cells": [
  {
   "cell_type": "markdown",
   "source": [
    "| **Chapter**                   | 3: Host factors                                                    |\n",
    "| ----------------------------- |--------------------------------------------------------------------|\n",
    "| **Computational Note**        | 3.1: Calculating the $\\mathfrak{R}_0$ of complex stratified models |\n",
    "| **Package prerequisites**     | [SymPy](https://www.sympy.org/en/index.html)                       |\n",
    "\n",
    "# Calculating the $\\mathfrak{R}_0$ of complex stratified models"
   ],
   "attachments": {},
   "metadata": {
    "datalore": {
     "type": "MD",
     "hide_input_from_viewers": false,
     "hide_output_from_viewers": false
    },
    "pycharm": {
     "name": "#%% md\n"
    }
   }
  },
  {
   "cell_type": "code",
   "source": [
    "import numpy as np\n",
    "from sympy.interactive.printing import init_printing\n",
    "init_printing(use_unicode=True, wrap_line=True)\n",
    "from sympy.matrices import Matrix\n",
    "from sympy import symbols\n",
    "from sympy import factor\n",
    "from sympy import latex\n",
    "from sympy import lambdify"
   ],
   "execution_count": 1,
   "outputs": [],
   "metadata": {
    "datalore": {
     "type": "CODE",
     "hide_input_from_viewers": false,
     "hide_output_from_viewers": false
    },
    "pycharm": {
     "name": "#%%\n"
    }
   }
  },
  {
   "cell_type": "code",
   "execution_count": 2,
   "outputs": [
    {
     "name": "stdout",
     "output_type": "stream",
     "text": [
      "Author: Chris von Csefalvay\n",
      "\n",
      "Github username: chrisvoncsefalvay\n",
      "\n",
      "Python implementation: CPython\n",
      "Python version       : 3.10.2\n",
      "IPython version      : 8.4.0\n",
      "\n",
      "sympy: 1.10.1\n",
      "\n",
      "numpy: 1.22.4\n",
      "\n"
     ]
    }
   ],
   "source": [
    "%load_ext watermark\n",
    "%watermark --iversions -v -a \"Chris von Csefalvay\" -gu \"chrisvoncsefalvay\" -p sympy"
   ],
   "metadata": {
    "collapsed": false,
    "pycharm": {
     "name": "#%%\n"
    }
   }
  },
  {
   "cell_type": "code",
   "source": [
    "I_H, I_L, beta_HH, beta_HL, beta_LH, beta_LL, gamma_H, gamma_L, n_H, n_L = symbols(\"I_H I_L beta_HH beta_HL beta_LH beta_LL gamma_H gamma_L n_H n_L\")"
   ],
   "execution_count": 3,
   "outputs": [],
   "metadata": {
    "datalore": {
     "type": "CODE",
     "hide_input_from_viewers": false,
     "hide_output_from_viewers": false
    },
    "pycharm": {
     "name": "#%%\n"
    }
   }
  },
  {
   "cell_type": "code",
   "source": [
    "infectious_system = Matrix(np.array([I_H, I_L]).T)"
   ],
   "execution_count": 4,
   "outputs": [],
   "metadata": {
    "datalore": {
     "type": "CODE",
     "hide_input_from_viewers": false,
     "hide_output_from_viewers": false
    },
    "pycharm": {
     "name": "#%%\n"
    }
   }
  },
  {
   "cell_type": "code",
   "source": [
    "d_Is = Matrix(np.array([(beta_HH * n_H - gamma_H) * I_H + (beta_HL * n_H) * I_L,\n",
    "                        beta_LH * n_L * I_H + (beta_LL * n_L - gamma_L) * I_L]).T)"
   ],
   "execution_count": 5,
   "outputs": [],
   "metadata": {
    "datalore": {
     "type": "CODE",
     "hide_input_from_viewers": false,
     "hide_output_from_viewers": false
    },
    "pycharm": {
     "name": "#%%\n"
    }
   }
  },
  {
   "cell_type": "code",
   "source": [
    "coeffs = d_Is.jacobian(infectious_system)\n",
    "coeffs"
   ],
   "execution_count": 6,
   "outputs": [
    {
     "data": {
      "text/plain": "⎡β_HH⋅n_H - γ_H     β_HL⋅n_H   ⎤\n⎢                              ⎥\n⎣   β_LH⋅n_L     β_LL⋅n_L - γ_L⎦",
      "image/png": "[encoded data removed]",
      "text/latex": "$\\displaystyle \\left[\\begin{matrix}\\beta_{HH} n_{H} - \\gamma_{H} & \\beta_{HL} n_{H}\\\\\\beta_{LH} n_{L} & \\beta_{LL} n_{L} - \\gamma_{L}\\end{matrix}\\right]$"
     },
     "execution_count": 6,
     "metadata": {},
     "output_type": "execute_result"
    }
   ],
   "metadata": {
    "datalore": {
     "type": "CODE",
     "hide_input_from_viewers": false,
     "hide_output_from_viewers": false
    },
    "pycharm": {
     "name": "#%%\n"
    }
   }
  },
  {
   "cell_type": "code",
   "source": [
    "beta = Matrix([[beta_HH, beta_HL], [beta_LH, beta_LL]])\n",
    "beta"
   ],
   "execution_count": 7,
   "outputs": [
    {
     "data": {
      "text/plain": "⎡β_HH  β_HL⎤\n⎢          ⎥\n⎣β_LH  β_LL⎦",
      "image/png": "[encoded data removed]",
      "text/latex": "$\\displaystyle \\left[\\begin{matrix}\\beta_{HH} & \\beta_{HL}\\\\\\beta_{LH} & \\beta_{LL}\\end{matrix}\\right]$"
     },
     "execution_count": 7,
     "metadata": {},
     "output_type": "execute_result"
    }
   ],
   "metadata": {
    "datalore": {
     "type": "CODE",
     "hide_input_from_viewers": false,
     "hide_output_from_viewers": false
    },
    "pycharm": {
     "name": "#%%\n"
    }
   }
  },
  {
   "cell_type": "code",
   "source": [
    "J = coeffs.subs({beta_HH: 10,\n",
    "                 beta_HL: 0.5,\n",
    "                 beta_LH: 0.5,\n",
    "                 beta_LL: 2,\n",
    "                 n_H: 0.2,\n",
    "                 n_L: 0.8,\n",
    "                 gamma_H: 0.05,\n",
    "                 gamma_L: 0.05})"
   ],
   "execution_count": 9,
   "outputs": [],
   "metadata": {
    "datalore": {
     "type": "CODE",
     "hide_input_from_viewers": false,
     "hide_output_from_viewers": false
    },
    "pycharm": {
     "name": "#%%\n"
    }
   }
  },
  {
   "cell_type": "code",
   "execution_count": 13,
   "outputs": [
    {
     "data": {
      "text/plain": "⎡1.95  0.1 ⎤\n⎢          ⎥\n⎣0.4   1.55⎦",
      "image/png": "[encoded data removed]",
      "text/latex": "$\\displaystyle \\left[\\begin{matrix}1.95 & 0.1\\\\0.4 & 1.55\\end{matrix}\\right]$"
     },
     "execution_count": 13,
     "metadata": {},
     "output_type": "execute_result"
    }
   ],
   "source": [
    "J"
   ],
   "metadata": {
    "collapsed": false,
    "pycharm": {
     "name": "#%%\n"
    }
   }
  },
  {
   "cell_type": "code",
   "source": [
    "R_0 = max([abs(i) for i in J.eigenvals()])"
   ],
   "execution_count": 14,
   "outputs": [],
   "metadata": {
    "datalore": {
     "type": "CODE",
     "hide_input_from_viewers": false,
     "hide_output_from_viewers": false
    },
    "pycharm": {
     "name": "#%%\n"
    }
   }
  },
  {
   "cell_type": "code",
   "source": [
    "R_0"
   ],
   "execution_count": 15,
   "outputs": [
    {
     "data": {
      "text/plain": "2.03284271247462",
      "image/png": "[encoded data removed]",
      "text/latex": "$\\displaystyle 2.03284271247462$"
     },
     "execution_count": 15,
     "metadata": {},
     "output_type": "execute_result"
    }
   ],
   "metadata": {
    "datalore": {
     "type": "CODE",
     "hide_input_from_viewers": false,
     "hide_output_from_viewers": false
    },
    "pycharm": {
     "name": "#%%\n"
    }
   }
  }
 ],
 "metadata": {
  "datalore": {
   "version": 1,
   "computation_mode": "JUPYTER",
   "package_manager": "pip",
   "base_environment": "default",
   "packages": []
  }
 },
 "nbformat": 4,
 "nbformat_minor": 4
}
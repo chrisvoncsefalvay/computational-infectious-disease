{
 "cells":[
  {
   "cell_type":"code",
   "source":[
    "import sympy\n",
    "import numpy as np\n",
    "from scipy.linalg import eigvals\n",
    "from matplotlib import pyplot as plt\n",
    "\n",
    "sympy.init_printing()"
   ],
   "execution_count":135,
   "outputs":[
    
   ],
   "metadata":{
    "datalore":{
     "type":"CODE",
     "hide_input_from_viewers":false,
     "hide_output_from_viewers":false
    }
   }
  },
  {
   "cell_type":"code",
   "source":[
    
   ],
   "execution_count":null,
   "outputs":[
    
   ],
   "metadata":{
    "datalore":{
     "type":"CODE",
     "hide_input_from_viewers":false,
     "hide_output_from_viewers":false
    }
   }
  },
  {
   "cell_type":"markdown",
   "source":[
    "$$ \\frac{dS}{dt} = \\mu - \\beta S I - \\mu S $$\n",
    "$$ \\frac{dI}{dt} = \\beta S I - \\gamma I - \\mu I $$\n",
    "$$ \\frac{dR}{dt} = \\gamma I - \\mu R$$\n",
    "        "
   ],
   "attachments":{
    
   },
   "metadata":{
    "datalore":{
     "type":"MD",
     "hide_input_from_viewers":false,
     "hide_output_from_viewers":false
    }
   }
  },
  {
   "cell_type":"code",
   "source":[
    "t, beta, gamma, mu, S, I, R = sympy.symbols(\"t beta gamma mu S I R\")"
   ],
   "execution_count":136,
   "outputs":[
    
   ],
   "metadata":{
    "datalore":{
     "type":"CODE",
     "hide_input_from_viewers":false,
     "hide_output_from_viewers":false
    }
   }
  },
  {
   "cell_type":"code",
   "source":[
    "solutions = sympy.solve([\n",
    "    mu - beta * S * I - mu * S,\n",
    "    beta * S * I - gamma * I - mu * I,\n",
    "    gamma * I - mu * R,\n",
    "    sympy.Equality(S + I + R, 1)\n",
    "], [S, I, R])"
   ],
   "execution_count":137,
   "outputs":[
    
   ],
   "metadata":{
    "datalore":{
     "type":"CODE",
     "hide_input_from_viewers":false,
     "hide_output_from_viewers":false
    }
   }
  },
  {
   "cell_type":"code",
   "source":[
    "def get_endemic_equilibrium(g, m, r0):\n",
    "    return [solution.subs({\"gamma\": g, \"mu\": m, \"beta\": R0 * (g + m)}) for solution in solutions[1]]"
   ],
   "execution_count":138,
   "outputs":[
    
   ],
   "metadata":{
    "datalore":{
     "type":"CODE",
     "hide_input_from_viewers":false,
     "hide_output_from_viewers":false
    }
   }
  },
  {
   "cell_type":"code",
   "source":[
    "R0 = 2.5"
   ],
   "execution_count":139,
   "outputs":[
    
   ],
   "metadata":{
    "datalore":{
     "type":"CODE",
     "hide_input_from_viewers":false,
     "hide_output_from_viewers":false
    }
   }
  },
  {
   "cell_type":"code",
   "source":[
    "endemic_eq = [solution.subs({\"gamma\": 1\/6, \"mu\": 0.02\/365, \"beta\": R0 * (1\/6 + 0.02\/365)}) for solution in solutions[1]]"
   ],
   "execution_count":140,
   "outputs":[
    
   ],
   "metadata":{
    "datalore":{
     "type":"CODE",
     "hide_input_from_viewers":false,
     "hide_output_from_viewers":false
    }
   }
  },
  {
   "cell_type":"code",
   "source":[
    "jac = sympy.Matrix([\n",
    "    mu - beta * S * I - mu * S,\n",
    "    beta * S * I - gamma * I - mu * I,\n",
    "    gamma * I - mu * R,\n",
    "]).jacobian([S, I, R])"
   ],
   "execution_count":141,
   "outputs":[
    
   ],
   "metadata":{
    "datalore":{
     "type":"CODE",
     "hide_input_from_viewers":false,
     "hide_output_from_viewers":false
    }
   }
  },
  {
   "cell_type":"code",
   "source":[
    "def get_endemic_equilibrium(g, m, r0, jac):\n",
    "\n",
    "    solutions = sympy.solve([\n",
    "        mu - beta * S * I - mu * S,\n",
    "        beta * S * I - gamma * I - mu * I,\n",
    "        gamma * I - mu * R,\n",
    "        sympy.Equality(S + I + R, 1)\n",
    "    ], [S, I, R])\n",
    "\n",
    "    endemic_sol = [solution.subs({\"gamma\": g, \"mu\": m, \"beta\": r0 * (g + m)}) for solution in solutions[1]]\n",
    "\n",
    "    substituted_jacobian = jac.subs({\"S\": endemic_sol[0],\n",
    "                                     \"I\": endemic_sol[1],\n",
    "                                     \"R\": endemic_sol[2],\n",
    "                                     \"gamma\" : g,\n",
    "                                     \"mu\": m,\n",
    "                                     \"beta\": r0 * (g + m)})\n",
    "    \n",
    "    eigenvalues = eigvals(np.array(substituted_jacobian).astype(np.float64))\n",
    "\n",
    "\n",
    "    return *endemic_sol, np.all(eigenvalues.real < 0)"
   ],
   "execution_count":142,
   "outputs":[
    
   ],
   "metadata":{
    "datalore":{
     "type":"CODE",
     "hide_input_from_viewers":false,
     "hide_output_from_viewers":false
    }
   }
  },
  {
   "cell_type":"code",
   "source":[
    "get_endemic_equilibrium(1\/6, 0.02\/365, 0.2, jac=jac)"
   ],
   "execution_count":143,
   "outputs":[
    {
     "data":{
      "text\/plain":[
       "(5.00000000000000, -0.00131463628396144, -3.99868536371604, False)"
      ]
     },
     "metadata":{
      
     },
     "output_type":"display_data"
    }
   ],
   "metadata":{
    "datalore":{
     "type":"CODE",
     "hide_input_from_viewers":false,
     "hide_output_from_viewers":false
    }
   }
  },
  {
   "cell_type":"code",
   "source":[
    "RESOLUTION: int = 50\n",
    "\n",
    "r0space = np.linspace(0.5, 18, RESOLUTION)\n",
    "tau_space = np.linspace(1, 14, RESOLUTION)\n",
    "\n",
    "I_results = np.zeros((RESOLUTION, RESOLUTION))\n",
    "stability_mask = np.full((RESOLUTION, RESOLUTION), False, dtype=bool)\n",
    "\n",
    "for r0idx, r0val in enumerate(r0space):\n",
    "    for tauidx, tauval in enumerate(tau_space):\n",
    "        _, i, _, st = get_endemic_equilibrium(1\/tauval, 0.02\/365, r0val, jac)\n",
    "        I_results[tauidx, r0idx], stability_mask[tauidx, r0idx] = i, bool(st)"
   ],
   "execution_count":144,
   "outputs":[
    
   ],
   "metadata":{
    "datalore":{
     "type":"CODE",
     "hide_input_from_viewers":false,
     "hide_output_from_viewers":false
    }
   }
  },
  {
   "cell_type":"code",
   "source":[
    "mmx = np.ma.masked_array(I_results, mask=np.invert(stability_mask))"
   ],
   "execution_count":145,
   "outputs":[
    
   ],
   "metadata":{
    "datalore":{
     "type":"CODE",
     "hide_input_from_viewers":false,
     "hide_output_from_viewers":false
    }
   }
  },
  {
   "cell_type":"code",
   "source":[
    "fig, ax = plt.subplots(1, 1, figsize=(8, 8))\n",
    "\n",
    "pos = ax.imshow(mmx, interpolation=\"antialiased\", alpha=0.8)\n",
    "ax.set_yticks([10, 20, 30, 40])\n",
    "ax.set_xticks([10, 20, 30, 40])\n",
    "ax.set_xticklabels([\"{:.2f}\".format(r0space[i]) for i in [10, 20, 30, 40]])\n",
    "ax.set_yticklabels([\"{:.2f}\".format(tau_space[i]) for i in [10, 20, 30, 40]])\n",
    "ax.set_ylabel(\"$\\\\tau$\")\n",
    "ax.set_xlabel(\"$\\\\mathfrak{R}_0$\")\n",
    "contours = ax.contour(mmx)\n",
    "ax.clabel(contours, inline=True, fontsize=10)\n",
    "cbar = fig.colorbar(pos)\n",
    "cbar.minorticks_on()\n",
    "\n",
    "plt.savefig(\"numerical_stability.pdf\")"
   ],
   "execution_count":147,
   "outputs":[
    {
     "data":{
      "image\/png":"[encoded data removed]"
     },
     "metadata":{
      "image\/png":{
       
      }
     },
     "output_type":"display_data"
    }
   ],
   "metadata":{
    "datalore":{
     "type":"CODE",
     "hide_input_from_viewers":false,
     "hide_output_from_viewers":false
    }
   }
  },
  {
   "cell_type":"code",
   "source":[
    
   ],
   "execution_count":null,
   "outputs":[
    
   ],
   "metadata":{
    "datalore":{
     "type":"CODE",
     "hide_input_from_viewers":false,
     "hide_output_from_viewers":false
    }
   }
  }
 ],
 "metadata":{
  "datalore":{
   "version":1,
   "computation_mode":"JUPYTER",
   "package_manager":"pip",
   "base_environment":"default",
   "packages":[
    
   ]
  }
 },
 "nbformat":4,
 "nbformat_minor":4
}
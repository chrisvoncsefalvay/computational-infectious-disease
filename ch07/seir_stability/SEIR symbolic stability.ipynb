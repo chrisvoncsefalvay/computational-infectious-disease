{
 "cells":[
  {
   "cell_type":"code",
   "source":[
    "import sympy\n",
    "\n",
    "sympy.init_printing()"
   ],
   "execution_count":22,
   "outputs":[
    
   ],
   "metadata":{
    "datalore":{
     "type":"CODE",
     "hide_input_from_viewers":false,
     "hide_output_from_viewers":false
    }
   }
  },
  {
   "cell_type":"markdown",
   "source":[
    "$$ \\frac{dS}{dt} = \\mu - (\\beta I + \\mu) S $$\n",
    "$$ \\frac{dE}{dt} = \\beta S I - (\\sigma + \\mu) E $$\n",
    "$$ \\frac{dI}{dt} = \\sigma E - (\\gamma + \\mu) I $$\n",
    "$$ \\frac{dR}{dt} = \\gamma I - \\mu R$$\n",
    "        "
   ],
   "attachments":{
    
   },
   "metadata":{
    "datalore":{
     "type":"MD",
     "hide_input_from_viewers":false,
     "hide_output_from_viewers":false
    }
   }
  },
  {
   "cell_type":"code",
   "source":[
    "t, beta, sigma, gamma, mu, S, E, I, R = sympy.symbols(\"t beta sigma gamma mu S E I R\")"
   ],
   "execution_count":23,
   "outputs":[
    
   ],
   "metadata":{
    "datalore":{
     "type":"CODE",
     "hide_input_from_viewers":false,
     "hide_output_from_viewers":false
    }
   }
  },
  {
   "cell_type":"code",
   "source":[
    "solutions = sympy.solve([\n",
    "    mu - (beta * I + mu) * S,\n",
    "    beta * S * I - (sigma + mu) * E,\n",
    "    sigma * E - (gamma + mu) * I,\n",
    "    gamma * I - mu * R,\n",
    "    sympy.Equality(S + E + I + R, 1)\n",
    "], [S, E, I, R])"
   ],
   "execution_count":24,
   "outputs":[
    
   ],
   "metadata":{
    "datalore":{
     "type":"CODE",
     "hide_input_from_viewers":false,
     "hide_output_from_viewers":false
    }
   }
  },
  {
   "cell_type":"code",
   "source":[
    "solutions"
   ],
   "execution_count":25,
   "outputs":[
    
   ],
   "metadata":{
    "datalore":{
     "type":"CODE",
     "hide_input_from_viewers":false,
     "hide_output_from_viewers":false
    }
   }
  },
  {
   "cell_type":"code",
   "source":[
    "jac = sympy.Matrix([\n",
    "    mu - (beta * I + mu) * S,\n",
    "    beta * S * I - (sigma + mu) * E,\n",
    "    sigma * E - (gamma + mu) * I,\n",
    "    gamma * I - mu * R,\n",
    "]).jacobian([S, E, I, R])"
   ],
   "execution_count":26,
   "outputs":[
    
   ],
   "metadata":{
    "datalore":{
     "type":"CODE",
     "hide_input_from_viewers":false,
     "hide_output_from_viewers":false
    }
   }
  },
  {
   "cell_type":"code",
   "source":[
    "jac"
   ],
   "execution_count":27,
   "outputs":[
    {
     "data":{
      "text\/latex":[
       "$\\displaystyle \\left[\\begin{matrix}- I \\beta - \\mu & 0 & - S \\beta & 0\\\\I \\beta & - \\mu - \\sigma & S \\beta & 0\\\\0 & \\sigma & - \\gamma - \\mu & 0\\\\0 & 0 & \\gamma & - \\mu\\end{matrix}\\right]$"
      ]
     },
     "metadata":{
      
     },
     "output_type":"display_data"
    }
   ],
   "metadata":{
    "datalore":{
     "type":"CODE",
     "hide_input_from_viewers":false,
     "hide_output_from_viewers":false
    }
   }
  },
  {
   "cell_type":"code",
   "source":[
    "substituted_jacobian = jac.subs({\"I\": solutions[1][2],\n",
    "         \"S\": solutions[1][0]})"
   ],
   "execution_count":28,
   "outputs":[
    
   ],
   "metadata":{
    "datalore":{
     "type":"CODE",
     "hide_input_from_viewers":false,
     "hide_output_from_viewers":false
    }
   }
  },
  {
   "cell_type":"code",
   "source":[
    "substituted_jacobian"
   ],
   "execution_count":29,
   "outputs":[
    {
     "data":{
      "text\/latex":[
       "$\\displaystyle \\left[\\begin{matrix}- \\mu - \\frac{\\mu \\left(\\beta \\sigma - \\gamma \\mu - \\gamma \\sigma - \\mu^{2} - \\mu \\sigma\\right)}{\\left(\\gamma + \\mu\\right) \\left(\\mu + \\sigma\\right)} & 0 & - \\frac{\\left(\\gamma + \\mu\\right) \\left(\\mu + \\sigma\\right)}{\\sigma} & 0\\\\\\frac{\\mu \\left(\\beta \\sigma - \\gamma \\mu - \\gamma \\sigma - \\mu^{2} - \\mu \\sigma\\right)}{\\left(\\gamma + \\mu\\right) \\left(\\mu + \\sigma\\right)} & - \\mu - \\sigma & \\frac{\\left(\\gamma + \\mu\\right) \\left(\\mu + \\sigma\\right)}{\\sigma} & 0\\\\0 & \\sigma & - \\gamma - \\mu & 0\\\\0 & 0 & \\gamma & - \\mu\\end{matrix}\\right]$"
      ]
     },
     "metadata":{
      
     },
     "output_type":"display_data"
    }
   ],
   "metadata":{
    "datalore":{
     "type":"CODE",
     "hide_input_from_viewers":false,
     "hide_output_from_viewers":false
    }
   }
  },
  {
   "cell_type":"code",
   "source":[
    "sympy.print_python(substituted_jacobian.eigenvals())"
   ],
   "execution_count":30,
   "outputs":[
    {
     "name":"stdout",
     "text":[
      "beta = Symbol('beta')\n",
      "gamma = Symbol('gamma')\n",
      "mu = Symbol('mu')\n",
      "sigma = Symbol('sigma')\n",
      "e = {-(-3*(beta*gamma*mu*sigma + 2*beta*mu**2*sigma + beta*mu*sigma**2)\/(gamma*mu + gamma*sigma + mu**2 + mu*sigma) + (beta*mu*sigma + gamma**2*mu + gamma**2*sigma + 3*gamma*mu**2 + 4*gamma*mu*sigma + gamma*sigma**2 + 2*mu**3 + 3*mu**2*sigma + mu*sigma**2)**2\/(gamma*mu + gamma*sigma + mu**2 + mu*sigma)**2)\/(3*(27*beta*mu*sigma\/2 - 27*gamma*mu**2\/2 - 27*gamma*mu*sigma\/2 - 27*mu**3\/2 - 27*mu**2*sigma\/2 + sqrt(-4*(-3*(beta*gamma*mu*sigma + 2*beta*mu**2*sigma + beta*mu*sigma**2)\/(gamma*mu + gamma*sigma + mu**2 + mu*sigma) + (beta*mu*sigma + gamma**2*mu + gamma**2*sigma + 3*gamma*mu**2 + 4*gamma*mu*sigma + gamma*sigma**2 + 2*mu**3 + 3*mu**2*sigma + mu*sigma**2)**2\/(gamma*mu + gamma*sigma + mu**2 + mu*sigma)**2)**3 + (27*beta*mu*sigma - 27*gamma*mu**2 - 27*gamma*mu*sigma - 27*mu**3 - 27*mu**2*sigma - 9*(beta*gamma*mu*sigma + 2*beta*mu**2*sigma + beta*mu*sigma**2)*(beta*mu*sigma + gamma**2*mu + gamma**2*sigma + 3*gamma*mu**2 + 4*gamma*mu*sigma + gamma*sigma**2 + 2*mu**3 + 3*mu**2*sigma + mu*sigma**2)\/(gamma*mu + gamma*sigma + mu**2 + mu*sigma)**2 + 2*(beta*mu*sigma + gamma**2*mu + gamma**2*sigma + 3*gamma*mu**2 + 4*gamma*mu*sigma + gamma*sigma**2 + 2*mu**3 + 3*mu**2*sigma + mu*sigma**2)**3\/(gamma*mu + gamma*sigma + mu**2 + mu*sigma)**3)**2)\/2 - 9*(beta*gamma*mu*sigma + 2*beta*mu**2*sigma + beta*mu*sigma**2)*(beta*mu*sigma + gamma**2*mu + gamma**2*sigma + 3*gamma*mu**2 + 4*gamma*mu*sigma + gamma*sigma**2 + 2*mu**3 + 3*mu**2*sigma + mu*sigma**2)\/(2*(gamma*mu + gamma*sigma + mu**2 + mu*sigma)**2) + (beta*mu*sigma + gamma**2*mu + gamma**2*sigma + 3*gamma*mu**2 + 4*gamma*mu*sigma + gamma*sigma**2 + 2*mu**3 + 3*mu**2*sigma + mu*sigma**2)**3\/(gamma*mu + gamma*sigma + mu**2 + mu*sigma)**3)**Rational(1, 3)) - (27*beta*mu*sigma\/2 - 27*gamma*mu**2\/2 - 27*gamma*mu*sigma\/2 - 27*mu**3\/2 - 27*mu**2*sigma\/2 + sqrt(-4*(-3*(beta*gamma*mu*sigma + 2*beta*mu**2*sigma + beta*mu*sigma**2)\/(gamma*mu + gamma*sigma + mu**2 + mu*sigma) + (beta*mu*sigma + gamma**2*mu + gamma**2*sigma + 3*gamma*mu**2 + 4*gamma*mu*sigma + gamma*sigma**2 + 2*mu**3 + 3*mu**2*sigma + mu*sigma**2)**2\/(gamma*mu + gamma*sigma + mu**2 + mu*sigma)**2)**3 + (27*beta*mu*sigma - 27*gamma*mu**2 - 27*gamma*mu*sigma - 27*mu**3 - 27*mu**2*sigma - 9*(beta*gamma*mu*sigma + 2*beta*mu**2*sigma + beta*mu*sigma**2)*(beta*mu*sigma + gamma**2*mu + gamma**2*sigma + 3*gamma*mu**2 + 4*gamma*mu*sigma + gamma*sigma**2 + 2*mu**3 + 3*mu**2*sigma + mu*sigma**2)\/(gamma*mu + gamma*sigma + mu**2 + mu*sigma)**2 + 2*(beta*mu*sigma + gamma**2*mu + gamma**2*sigma + 3*gamma*mu**2 + 4*gamma*mu*sigma + gamma*sigma**2 + 2*mu**3 + 3*mu**2*sigma + mu*sigma**2)**3\/(gamma*mu + gamma*sigma + mu**2 + mu*sigma)**3)**2)\/2 - 9*(beta*gamma*mu*sigma + 2*beta*mu**2*sigma + beta*mu*sigma**2)*(beta*mu*sigma + gamma**2*mu + gamma**2*sigma + 3*gamma*mu**2 + 4*gamma*mu*sigma + gamma*sigma**2 + 2*mu**3 + 3*mu**2*sigma + mu*sigma**2)\/(2*(gamma*mu + gamma*sigma + mu**2 + mu*sigma)**2) + (beta*mu*sigma + gamma**2*mu + gamma**2*sigma + 3*gamma*mu**2 + 4*gamma*mu*sigma + gamma*sigma**2 + 2*mu**3 + 3*mu**2*sigma + mu*sigma**2)**3\/(gamma*mu + gamma*sigma + mu**2 + mu*sigma)**3)**Rational(1, 3)\/3 - (beta*mu*sigma + gamma**2*mu + gamma**2*sigma + 3*gamma*mu**2 + 4*gamma*mu*sigma + gamma*sigma**2 + 2*mu**3 + 3*mu**2*sigma + mu*sigma**2)\/(3*(gamma*mu + gamma*sigma + mu**2 + mu*sigma)): 1, -(-3*(beta*gamma*mu*sigma + 2*beta*mu**2*sigma + beta*mu*sigma**2)\/(gamma*mu + gamma*sigma + mu**2 + mu*sigma) + (beta*mu*sigma + gamma**2*mu + gamma**2*sigma + 3*gamma*mu**2 + 4*gamma*mu*sigma + gamma*sigma**2 + 2*mu**3 + 3*mu**2*sigma + mu*sigma**2)**2\/(gamma*mu + gamma*sigma + mu**2 + mu*sigma)**2)\/(3*(Rational(-1, 2) + sqrt(3)*I\/2)*(27*beta*mu*sigma\/2 - 27*gamma*mu**2\/2 - 27*gamma*mu*sigma\/2 - 27*mu**3\/2 - 27*mu**2*sigma\/2 + sqrt(-4*(-3*(beta*gamma*mu*sigma + 2*beta*mu**2*sigma + beta*mu*sigma**2)\/(gamma*mu + gamma*sigma + mu**2 + mu*sigma) + (beta*mu*sigma + gamma**2*mu + gamma**2*sigma + 3*gamma*mu**2 + 4*gamma*mu*sigma + gamma*sigma**2 + 2*mu**3 + 3*mu**2*sigma + mu*sigma**2)**2\/(gamma*mu + gamma*sigma + mu**2 + mu*sigma)**2)**3 + (27*beta*mu*sigma - 27*gamma*mu**2 - 27*gamma*mu*sigma - 27*mu**3 - 27*mu**2*sigma - 9*(beta*gamma*mu*sigma + 2*beta*mu**2*sigma + beta*mu*sigma**2)*(beta*mu*sigma + gamma**2*mu + gamma**2*sigma + 3*gamma*mu**2 + 4*gamma*mu*sigma + gamma*sigma**2 + 2*mu**3 + 3*mu**2*sigma + mu*sigma**2)\/(gamma*mu + gamma*sigma + mu**2 + mu*sigma)**2 + 2*(beta*mu*sigma + gamma**2*mu + gamma**2*sigma + 3*gamma*mu**2 + 4*gamma*mu*sigma + gamma*sigma**2 + 2*mu**3 + 3*mu**2*sigma + mu*sigma**2)**3\/(gamma*mu + gamma*sigma + mu**2 + mu*sigma)**3)**2)\/2 - 9*(beta*gamma*mu*sigma + 2*beta*mu**2*sigma + beta*mu*sigma**2)*(beta*mu*sigma + gamma**2*mu + gamma**2*sigma + 3*gamma*mu**2 + 4*gamma*mu*sigma + gamma*sigma**2 + 2*mu**3 + 3*mu**2*sigma + mu*sigma**2)\/(2*(gamma*mu + gamma*sigma + mu**2 + mu*sigma)**2) + (beta*mu*sigma + gamma**2*mu + gamma**2*sigma + 3*gamma*mu**2 + 4*gamma*mu*sigma + gamma*sigma**2 + 2*mu**3 + 3*mu**2*sigma + mu*sigma**2)**3\/(gamma*mu + gamma*sigma + mu**2 + mu*sigma)**3)**Rational(1, 3)) - (Rational(-1, 2) + sqrt(3)*I\/2)*(27*beta*mu*sigma\/2 - 27*gamma*mu**2\/2 - 27*gamma*mu*sigma\/2 - 27*mu**3\/2 - 27*mu**2*sigma\/2 + sqrt(-4*(-3*(beta*gamma*mu*sigma + 2*beta*mu**2*sigma + beta*mu*sigma**2)\/(gamma*mu + gamma*sigma + mu**2 + mu*sigma) + (beta*mu*sigma + gamma**2*mu + gamma**2*sigma + 3*gamma*mu**2 + 4*gamma*mu*sigma + gamma*sigma**2 + 2*mu**3 + 3*mu**2*sigma + mu*sigma**2)**2\/(gamma*mu + gamma*sigma + mu**2 + mu*sigma)**2)**3 + (27*beta*mu*sigma - 27*gamma*mu**2 - 27*gamma*mu*sigma - 27*mu**3 - 27*mu**2*sigma - 9*(beta*gamma*mu*sigma + 2*beta*mu**2*sigma + beta*mu*sigma**2)*(beta*mu*sigma + gamma**2*mu + gamma**2*sigma + 3*gamma*mu**2 + 4*gamma*mu*sigma + gamma*sigma**2 + 2*mu**3 + 3*mu**2*sigma + mu*sigma**2)\/(gamma*mu + gamma*sigma + mu**2 + mu*sigma)**2 + 2*(beta*mu*sigma + gamma**2*mu + gamma**2*sigma + 3*gamma*mu**2 + 4*gamma*mu*sigma + gamma*sigma**2 + 2*mu**3 + 3*mu**2*sigma + mu*sigma**2)**3\/(gamma*mu + gamma*sigma + mu**2 + mu*sigma)**3)**2)\/2 - 9*(beta*gamma*mu*sigma + 2*beta*mu**2*sigma + beta*mu*sigma**2)*(beta*mu*sigma + gamma**2*mu + gamma**2*sigma + 3*gamma*mu**2 + 4*gamma*mu*sigma + gamma*sigma**2 + 2*mu**3 + 3*mu**2*sigma + mu*sigma**2)\/(2*(gamma*mu + gamma*sigma + mu**2 + mu*sigma)**2) + (beta*mu*sigma + gamma**2*mu + gamma**2*sigma + 3*gamma*mu**2 + 4*gamma*mu*sigma + gamma*sigma**2 + 2*mu**3 + 3*mu**2*sigma + mu*sigma**2)**3\/(gamma*mu + gamma*sigma + mu**2 + mu*sigma)**3)**Rational(1, 3)\/3 - (beta*mu*sigma + gamma**2*mu + gamma**2*sigma + 3*gamma*mu**2 + 4*gamma*mu*sigma + gamma*sigma**2 + 2*mu**3 + 3*mu**2*sigma + mu*sigma**2)\/(3*(gamma*mu + gamma*sigma + mu**2 + mu*sigma)): 1, -(-3*(beta*gamma*mu*sigma + 2*beta*mu**2*sigma + beta*mu*sigma**2)\/(gamma*mu + gamma*sigma + mu**2 + mu*sigma) + (beta*mu*sigma + gamma**2*mu + gamma**2*sigma + 3*gamma*mu**2 + 4*gamma*mu*sigma + gamma*sigma**2 + 2*mu**3 + 3*mu**2*sigma + mu*sigma**2)**2\/(gamma*mu + gamma*sigma + mu**2 + mu*sigma)**2)\/(3*(Rational(-1, 2) - sqrt(3)*I\/2)*(27*beta*mu*sigma\/2 - 27*gamma*mu**2\/2 - 27*gamma*mu*sigma\/2 - 27*mu**3\/2 - 27*mu**2*sigma\/2 + sqrt(-4*(-3*(beta*gamma*mu*sigma + 2*beta*mu**2*sigma + beta*mu*sigma**2)\/(gamma*mu + gamma*sigma + mu**2 + mu*sigma) + (beta*mu*sigma + gamma**2*mu + gamma**2*sigma + 3*gamma*mu**2 + 4*gamma*mu*sigma + gamma*sigma**2 + 2*mu**3 + 3*mu**2*sigma + mu*sigma**2)**2\/(gamma*mu + gamma*sigma + mu**2 + mu*sigma)**2)**3 + (27*beta*mu*sigma - 27*gamma*mu**2 - 27*gamma*mu*sigma - 27*mu**3 - 27*mu**2*sigma - 9*(beta*gamma*mu*sigma + 2*beta*mu**2*sigma + beta*mu*sigma**2)*(beta*mu*sigma + gamma**2*mu + gamma**2*sigma + 3*gamma*mu**2 + 4*gamma*mu*sigma + gamma*sigma**2 + 2*mu**3 + 3*mu**2*sigma + mu*sigma**2)\/(gamma*mu + gamma*sigma + mu**2 + mu*sigma)**2 + 2*(beta*mu*sigma + gamma**2*mu + gamma**2*sigma + 3*gamma*mu**2 + 4*gamma*mu*sigma + gamma*sigma**2 + 2*mu**3 + 3*mu**2*sigma + mu*sigma**2)**3\/(gamma*mu + gamma*sigma + mu**2 + mu*sigma)**3)**2)\/2 - 9*(beta*gamma*mu*sigma + 2*beta*mu**2*sigma + beta*mu*sigma**2)*(beta*mu*sigma + gamma**2*mu + gamma**2*sigma + 3*gamma*mu**2 + 4*gamma*mu*sigma + gamma*sigma**2 + 2*mu**3 + 3*mu**2*sigma + mu*sigma**2)\/(2*(gamma*mu + gamma*sigma + mu**2 + mu*sigma)**2) + (beta*mu*sigma + gamma**2*mu + gamma**2*sigma + 3*gamma*mu**2 + 4*gamma*mu*sigma + gamma*sigma**2 + 2*mu**3 + 3*mu**2*sigma + mu*sigma**2)**3\/(gamma*mu + gamma*sigma + mu**2 + mu*sigma)**3)**Rational(1, 3)) - (Rational(-1, 2) - sqrt(3)*I\/2)*(27*beta*mu*sigma\/2 - 27*gamma*mu**2\/2 - 27*gamma*mu*sigma\/2 - 27*mu**3\/2 - 27*mu**2*sigma\/2 + sqrt(-4*(-3*(beta*gamma*mu*sigma + 2*beta*mu**2*sigma + beta*mu*sigma**2)\/(gamma*mu + gamma*sigma + mu**2 + mu*sigma) + (beta*mu*sigma + gamma**2*mu + gamma**2*sigma + 3*gamma*mu**2 + 4*gamma*mu*sigma + gamma*sigma**2 + 2*mu**3 + 3*mu**2*sigma + mu*sigma**2)**2\/(gamma*mu + gamma*sigma + mu**2 + mu*sigma)**2)**3 + (27*beta*mu*sigma - 27*gamma*mu**2 - 27*gamma*mu*sigma - 27*mu**3 - 27*mu**2*sigma - 9*(beta*gamma*mu*sigma + 2*beta*mu**2*sigma + beta*mu*sigma**2)*(beta*mu*sigma + gamma**2*mu + gamma**2*sigma + 3*gamma*mu**2 + 4*gamma*mu*sigma + gamma*sigma**2 + 2*mu**3 + 3*mu**2*sigma + mu*sigma**2)\/(gamma*mu + gamma*sigma + mu**2 + mu*sigma)**2 + 2*(beta*mu*sigma + gamma**2*mu + gamma**2*sigma + 3*gamma*mu**2 + 4*gamma*mu*sigma + gamma*sigma**2 + 2*mu**3 + 3*mu**2*sigma + mu*sigma**2)**3\/(gamma*mu + gamma*sigma + mu**2 + mu*sigma)**3)**2)\/2 - 9*(beta*gamma*mu*sigma + 2*beta*mu**2*sigma + beta*mu*sigma**2)*(beta*mu*sigma + gamma**2*mu + gamma**2*sigma + 3*gamma*mu**2 + 4*gamma*mu*sigma + gamma*sigma**2 + 2*mu**3 + 3*mu**2*sigma + mu*sigma**2)\/(2*(gamma*mu + gamma*sigma + mu**2 + mu*sigma)**2) + (beta*mu*sigma + gamma**2*mu + gamma**2*sigma + 3*gamma*mu**2 + 4*gamma*mu*sigma + gamma*sigma**2 + 2*mu**3 + 3*mu**2*sigma + mu*sigma**2)**3\/(gamma*mu + gamma*sigma + mu**2 + mu*sigma)**3)**Rational(1, 3)\/3 - (beta*mu*sigma + gamma**2*mu + gamma**2*sigma + 3*gamma*mu**2 + 4*gamma*mu*sigma + gamma*sigma**2 + 2*mu**3 + 3*mu**2*sigma + mu*sigma**2)\/(3*(gamma*mu + gamma*sigma + mu**2 + mu*sigma)): 1, -mu: 1}\n"
     ],
     "output_type":"stream"
    }
   ],
   "metadata":{
    "datalore":{
     "type":"CODE",
     "hide_input_from_viewers":false,
     "hide_output_from_viewers":false
    }
   }
  },
  {
   "cell_type":"code",
   "source":[
    "eigs = substituted_jacobian.eigenvals()"
   ],
   "execution_count":31,
   "outputs":[
    
   ],
   "metadata":{
    "datalore":{
     "type":"CODE",
     "hide_input_from_viewers":false,
     "hide_output_from_viewers":false
    }
   }
  },
  {
   "cell_type":"code",
   "source":[
    "real_parts = [sympy.re(i) for i in eigs]"
   ],
   "execution_count":32,
   "outputs":[
    
   ],
   "metadata":{
    "datalore":{
     "type":"CODE",
     "hide_input_from_viewers":false,
     "hide_output_from_viewers":false
    }
   }
  },
  {
   "cell_type":"code",
   "source":[
    "sympy.solve(real_parts[0], [beta, gamma, sigma, mu])"
   ],
   "execution_count":35,
   "outputs":[
    {
     "ename":"KeyboardInterrupt",
     "evalue":"KeyboardInterrupt: ",
     "traceback":[
      "\u001b[0;31m---------------------------------------------------------------------------",
      "Traceback (most recent call last)",
      "    at line 1 in <module>",
      "    at line 1097 in solve(f, *symbols, **flags)",
      "    at line 1788 in _solve_system(exprs, symbols, **flags)",
      "    at line 1131 in as_poly(self, *gens, **args)",
      "    at line 164 in __new__(cls, rep, *gens, **args)",
      "    at line 293 in _from_expr(cls, rep, opt)",
      "    at line 357 in _dict_from_expr(expr, opt)",
      "    at line 72 in wrapper(*args, **kwargs)",
      "    at line 3622 in expand(self, deep, modulus, power_base, power_exp, mul, log, multinomial, basic, **hints)",
      "    at line 3555 in _expand_hint(expr, hint, deep, **hints)",
      "    at line 3555 in _expand_hint(expr, hint, deep, **hints)",
      "    at line 3555 in _expand_hint(expr, hint, deep, **hints)",
      "    at line 3555 in _expand_hint(expr, hint, deep, **hints)",
      "    at line 3555 in _expand_hint(expr, hint, deep, **hints)",
      "    at line 3555 in _expand_hint(expr, hint, deep, **hints)",
      "    at line 3555 in _expand_hint(expr, hint, deep, **hints)",
      "    at line 3555 in _expand_hint(expr, hint, deep, **hints)",
      "    at line 3555 in _expand_hint(expr, hint, deep, **hints)",
      "    at line 3555 in _expand_hint(expr, hint, deep, **hints)",
      "    at line 3555 in _expand_hint(expr, hint, deep, **hints)",
      "    at line 3563 in _expand_hint(expr, hint, deep, **hints)",
      "    at line 961 in _eval_expand_mul(self, **hints)",
      "    at line 926 in _expandsums(sums)",
      "    at line 926 in <listcomp>(.0)",
      "    at line 72 in wrapper(*args, **kwargs)",
      "    at line 85 in __new__(cls, evaluate, _sympify, *args)",
      "    at line 524 in flatten(cls, seq)",
      "KeyboardInterrupt: "
     ],
     "output_type":"error"
    }
   ],
   "metadata":{
    "datalore":{
     "type":"CODE",
     "hide_input_from_viewers":false,
     "hide_output_from_viewers":false
    }
   }
  },
  {
   "cell_type":"code",
   "source":[
    "trisolutions = sympy.solve([real_parts[0], real_parts[1], real_parts[2]], mu, sigma, gamma, beta)"
   ],
   "execution_count":33,
   "outputs":[
    {
     "ename":"KeyboardInterrupt",
     "evalue":"KeyboardInterrupt: ",
     "traceback":[
      "\u001b[0;31m---------------------------------------------------------------------------",
      "Traceback (most recent call last)",
      "    at line 1 in <module>",
      "    at line 1062 in solve(f, *symbols, **flags)",
      "    at line 1062 in <listcomp>(.0)",
      "    at line 953 in subs(self, *args, **kwargs)",
      "    at line 72 in wrapper(*args, **kwargs)",
      "    at line 1067 in _subs(self, old, new, **hints)",
      "    at line 1039 in fallback(self, old, new)",
      "    at line 72 in wrapper(*args, **kwargs)",
      "    at line 1067 in _subs(self, old, new, **hints)",
      "    at line 1039 in fallback(self, old, new)",
      "    at line 72 in wrapper(*args, **kwargs)",
      "    at line 1067 in _subs(self, old, new, **hints)",
      "    at line 1039 in fallback(self, old, new)",
      "    at line 72 in wrapper(*args, **kwargs)",
      "    at line 1067 in _subs(self, old, new, **hints)",
      "    at line 1039 in fallback(self, old, new)",
      "    at line 72 in wrapper(*args, **kwargs)",
      "    at line 1067 in _subs(self, old, new, **hints)",
      "    at line 1039 in fallback(self, old, new)",
      "    at line 72 in wrapper(*args, **kwargs)",
      "    at line 1067 in _subs(self, old, new, **hints)",
      "    at line 1039 in fallback(self, old, new)",
      "    at line 72 in wrapper(*args, **kwargs)",
      "    at line 1067 in _subs(self, old, new, **hints)",
      "    at line 1039 in fallback(self, old, new)",
      "    at line 72 in wrapper(*args, **kwargs)",
      "    at line 1067 in _subs(self, old, new, **hints)",
      "    at line 1039 in fallback(self, old, new)",
      "    at line 72 in wrapper(*args, **kwargs)",
      "    at line 1067 in _subs(self, old, new, **hints)",
      "    at line 1039 in fallback(self, old, new)",
      "    at line 72 in wrapper(*args, **kwargs)",
      "    at line 1067 in _subs(self, old, new, **hints)",
      "    at line 1039 in fallback(self, old, new)",
      "    at line 72 in wrapper(*args, **kwargs)",
      "    at line 1067 in _subs(self, old, new, **hints)",
      "    at line 1039 in fallback(self, old, new)",
      "    at line 72 in wrapper(*args, **kwargs)",
      "    at line 1067 in _subs(self, old, new, **hints)",
      "    at line 1039 in fallback(self, old, new)",
      "    at line 72 in wrapper(*args, **kwargs)",
      "    at line 1067 in _subs(self, old, new, **hints)",
      "    at line 1040 in fallback(self, old, new)",
      "    at line 1948 in _aresame(a, b)",
      "    at line 2110 in __next__(self)",
      "    at line 2083 in _preorder_traversal(self, node, keys)",
      "    at line 2083 in _preorder_traversal(self, node, keys)",
      "    at line 2083 in _preorder_traversal(self, node, keys)",
      "    at line 2083 in _preorder_traversal(self, node, keys)",
      "    at line 2083 in _preorder_traversal(self, node, keys)",
      "    at line 2083 in _preorder_traversal(self, node, keys)",
      "    at line 2083 in _preorder_traversal(self, node, keys)",
      "    at line 2067 in _preorder_traversal(self, node, keys)",
      "KeyboardInterrupt: "
     ],
     "output_type":"error"
    }
   ],
   "metadata":{
    "datalore":{
     "type":"CODE",
     "hide_input_from_viewers":false,
     "hide_output_from_viewers":false
    }
   }
  },
  {
   "cell_type":"code",
   "source":[
    
   ],
   "execution_count":null,
   "outputs":[
    
   ],
   "metadata":{
    "datalore":{
     "type":"CODE",
     "hide_input_from_viewers":false,
     "hide_output_from_viewers":false
    }
   }
  }
 ],
 "metadata":{
  "datalore":{
   "version":1,
   "computation_mode":"JUPYTER",
   "package_manager":"pip",
   "base_environment":"default",
   "packages":[
    
   ]
  }
 },
 "nbformat":4,
 "nbformat_minor":4
}
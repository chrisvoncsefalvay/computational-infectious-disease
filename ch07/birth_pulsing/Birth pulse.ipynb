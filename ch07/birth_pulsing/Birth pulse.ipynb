{
 "cells": [
  {
   "cell_type": "code",
   "source": [
    "import numpy as np\n",
    "from scipy.integrate import odeint, solve_ivp\n",
    "from matplotlib import pyplot as plt\n",
    "\n",
    "COLORS = {\"S\": \"#2f4b7c\",\n",
    "          \"E\": \"#ffa600\",\n",
    "          \"I\": \"#f95d6a\",\n",
    "          \"R\": \"#a05195\",\n",
    "          \"D\": \"#003f5c\",\n",
    "          \"C\": \"#ff7c43\",\n",
    "          \"X\": \"#665191\",\n",
    "          \"Y\": \"#d45087\"}"
   ],
   "execution_count": 21,
   "outputs": [],
   "metadata": {
    "datalore": {
     "type": "CODE",
     "hide_input_from_viewers": false,
     "hide_output_from_viewers": false
    },
    "pycharm": {
     "name": "#%%\n"
    }
   }
  },
  {
   "cell_type": "code",
   "source": [
    "def deriv(y, t, beta, gamma, mu, mu_1):\n",
    "    S, I, R = y\n",
    "    dSdt = mu * (1 + mu_1 * np.cos(2 * np.pi * t/365)) - beta * S * I - mu * S\n",
    "    dIdt = beta * S * I - gamma * I - mu * I\n",
    "    dRdt = gamma * I - mu * R\n",
    "    return dSdt, dIdt, dRdt"
   ],
   "execution_count": 22,
   "outputs": [],
   "metadata": {
    "datalore": {
     "type": "CODE",
     "hide_input_from_viewers": false,
     "hide_output_from_viewers": false
    },
    "pycharm": {
     "name": "#%%\n"
    }
   }
  },
  {
   "cell_type": "code",
   "source": [
    "S_0 = 1\n",
    "I_0 = 0.0001\n",
    "R_0 = 0\n",
    "\n",
    "y_0 = (S_0, I_0, R_0)\n",
    "\n",
    "R0 = 2.5\n",
    "tau = 8\n",
    "gamma = 1/tau\n",
    "beta = R0 * gamma\n",
    "\n",
    "mu = 0.001\n",
    "mu_1 = 0.3"
   ],
   "execution_count": 23,
   "outputs": [],
   "metadata": {
    "datalore": {
     "type": "CODE",
     "hide_input_from_viewers": false,
     "hide_output_from_viewers": false
    },
    "pycharm": {
     "name": "#%%\n"
    }
   }
  },
  {
   "cell_type": "code",
   "source": [
    "t = np.linspace(0, 3650, 3650)"
   ],
   "execution_count": 24,
   "outputs": [],
   "metadata": {
    "datalore": {
     "type": "CODE",
     "hide_input_from_viewers": false,
     "hide_output_from_viewers": false
    },
    "pycharm": {
     "name": "#%%\n"
    }
   }
  },
  {
   "cell_type": "code",
   "source": [
    "res = odeint(func=deriv, y0=y_0, t=t, args=(beta, gamma, mu, mu_1))"
   ],
   "execution_count": 25,
   "outputs": [],
   "metadata": {
    "datalore": {
     "type": "CODE",
     "hide_input_from_viewers": false,
     "hide_output_from_viewers": false
    },
    "pycharm": {
     "name": "#%%\n"
    }
   }
  },
  {
   "cell_type": "code",
   "source": [
    "# We obtain each column by transposing then indexing (as Numpy indexes by default in rows)\n",
    "S, I, R = res.T\n",
    "\n",
    "fig = plt.figure(facecolor=\"w\", figsize=(15, 6), dpi=600)\n",
    "ax = fig.add_subplot(211, axisbelow=True)\n",
    "ax.plot(t, I, color=COLORS[\"I\"], alpha=0.5, lw=3, label=\"Infectious\")\n",
    "\n",
    "ax.set_ylabel(\"Fraction of population infected\")\n",
    "ax.set_yscale(\"log\")\n",
    "ax.grid(b=True, which='major', c='w', lw=2, ls='-')\n",
    "ax.set_xlim(0, 3650)\n",
    "\n",
    "ax = fig.add_subplot(212, axisbelow=True)\n",
    "ax.plot(t, mu * (1 + mu_1 * np.cos(2 * np.pi * t/365)), color=COLORS[\"R\"], alpha=0.5, lw=3, label=\"Birth rate\")\n",
    "ax.set_ylabel(\"Birth rate\")\n",
    "ax.set_xlim(0, 3650)\n",
    "ax.set_xlabel('Time (days)')\n",
    "\n",
    "\n",
    "for spine in (\"top\", \"right\"):\n",
    "    ax.spines[spine].set_visible(False)\n",
    "\n",
    "plt.savefig(\"birth_pulsed_sir_integral.pdf\")\n",
    "plt.show()"
   ],
   "execution_count": 30,
   "outputs": [
    {
     "name": "stderr",
     "text": [
      "<ipython-input-30-e4b599fae785>:10: MatplotlibDeprecationWarning: The 'b' parameter of grid() has been renamed 'visible' since Matplotlib 3.5; support for the old name will be dropped two minor releases later.\n",
      "  ax.grid(b=True, which='major', c='w', lw=2, ls='-')\n"
     ],
     "output_type": "stream"
    }
   ],
   "metadata": {
    "datalore": {
     "type": "CODE",
     "hide_input_from_viewers": false,
     "hide_output_from_viewers": false
    },
    "pycharm": {
     "name": "#%%\n"
    }
   }
  },
  {
   "cell_type": "code",
   "source": [],
   "execution_count": null,
   "outputs": [],
   "metadata": {
    "datalore": {
     "type": "CODE",
     "hide_input_from_viewers": false,
     "hide_output_from_viewers": false
    },
    "pycharm": {
     "name": "#%%\n"
    }
   }
  }
 ],
 "metadata": {
  "datalore": {
   "version": 1,
   "computation_mode": "JUPYTER",
   "package_manager": "pip",
   "base_environment": "default",
   "packages": []
  }
 },
 "nbformat": 4,
 "nbformat_minor": 4
}
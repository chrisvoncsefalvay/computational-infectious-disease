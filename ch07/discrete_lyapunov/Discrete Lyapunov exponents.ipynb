{
 "cells": [
  {
   "cell_type": "markdown",
   "source": [
    "| **Chapter**                   | 7:  Temporal dynamics of epidemics                   |\n",
    "| ----------------------------- |------------------------------------------------------|\n",
    "| **Computational Note**        | 7.x: Discrete Lyapunov exponents to estimate chaos   |\n",
    "| **Package prerequisites**     | [JiTCODE](https://jitcode.readthedocs.io/en/latest/) |\n",
    "\n",
    "\n",
    "# Discrete Lyapunov exponents to estimate chaos"
   ],
   "attachments": {},
   "metadata": {
    "datalore": {
     "type": "MD",
     "hide_input_from_viewers": false,
     "hide_output_from_viewers": false,
     "sheet_delimiter": true
    },
    "pycharm": {
     "name": "#%% md\n"
    }
   }
  },
  {
   "cell_type": "code",
   "source": [
    "import numpy as np\n",
    "from jitcode import jitcode_lyap, y, t\n",
    "import symengine\n",
    "from symengine import sin, pi\n",
    "from matplotlib import pyplot as plt\n",
    "import seaborn as sns\n",
    "import random\n",
    "\n",
    "from tqdm.notebook import tqdm\n",
    "\n",
    "COLORS = {\"S\": \"#2f4b7c\",\n",
    "          \"E\": \"#ffa600\",\n",
    "          \"I\": \"#f95d6a\",\n",
    "          \"R\": \"#a05195\",\n",
    "          \"D\": \"#003f5c\",\n",
    "          \"C\": \"#ff7c43\",\n",
    "          \"X\": \"#665191\",\n",
    "          \"Y\": \"#d45087\"}"
   ],
   "execution_count": 1,
   "outputs": [],
   "metadata": {
    "datalore": {
     "type": "CODE",
     "hide_input_from_viewers": false,
     "hide_output_from_viewers": false
    },
    "pycharm": {
     "name": "#%%\n"
    }
   }
  },
  {
   "cell_type": "code",
   "execution_count": 2,
   "outputs": [
    {
     "name": "stdout",
     "output_type": "stream",
     "text": [
      "Author: Chris von Csefalvay\n",
      "\n",
      "Github username: chrisvoncsefalvay\n",
      "\n",
      "Python implementation: CPython\n",
      "Python version       : 3.10.2\n",
      "IPython version      : 8.4.0\n",
      "\n",
      "jitcode: 1.6.0\n",
      "\n",
      "seaborn   : 0.11.2\n",
      "numpy     : 1.21.6\n",
      "matplotlib: 3.5.2\n",
      "symengine : 0.9.2\n",
      "\n"
     ]
    }
   ],
   "source": [
    "%load_ext watermark\n",
    "%watermark --iversions -v -a \"Chris von Csefalvay\" -gu \"chrisvoncsefalvay\" -p jitcode"
   ],
   "metadata": {
    "collapsed": false,
    "pycharm": {
     "name": "#%%\n"
    }
   }
  },
  {
   "cell_type": "markdown",
   "source": [
    "# Setting parameters"
   ],
   "metadata": {
    "collapsed": false,
    "pycharm": {
     "name": "#%% md\n"
    }
   }
  },
  {
   "cell_type": "code",
   "source": [
    "beta_0 = 1.3\n",
    "gamma = 1/13\n",
    "mu = 1/(40 * 365)\n",
    "\n",
    "I_0 = 1e-3\n",
    "S_0 = 1/15"
   ],
   "execution_count": 3,
   "outputs": [],
   "metadata": {
    "datalore": {
     "type": "CODE",
     "hide_input_from_viewers": false,
     "hide_output_from_viewers": false
    },
    "pycharm": {
     "name": "#%%\n"
    }
   }
  },
  {
   "cell_type": "code",
   "source": [
    "S, I = dynvars = [y(i) for i in range(2)]"
   ],
   "execution_count": 4,
   "outputs": [],
   "metadata": {
    "datalore": {
     "type": "CODE",
     "hide_input_from_viewers": false,
     "hide_output_from_viewers": false
    },
    "pycharm": {
     "name": "#%%\n"
    }
   }
  },
  {
   "cell_type": "markdown",
   "source": [
    "# Defining the model"
   ],
   "metadata": {
    "collapsed": false,
    "pycharm": {
     "name": "#%% md\n"
    }
   }
  },
  {
   "cell_type": "markdown",
   "source": [
    "## Defining the derivative function with reference to $\\beta_1$"
   ],
   "metadata": {
    "collapsed": false,
    "pycharm": {
     "name": "#%% md\n"
    }
   }
  },
  {
   "cell_type": "code",
   "source": [
    "beta_1 = symengine.Symbol(\"beta_1\")\n",
    "\n",
    "time_dependent_sir = {\n",
    "    S: mu - beta_0 * (1 + beta_1 * sin(2 * pi * t / 365)) * S * I - mu * S,\n",
    "    I: beta_0 * (1 + beta_1 * sin(2 * pi * t / 365)) * S * I - mu * I - gamma * I\n",
    "}"
   ],
   "execution_count": 5,
   "outputs": [],
   "metadata": {
    "datalore": {
     "type": "CODE",
     "hide_input_from_viewers": false,
     "hide_output_from_viewers": false
    },
    "pycharm": {
     "name": "#%%\n"
    }
   }
  },
  {
   "cell_type": "markdown",
   "source": [],
   "metadata": {
    "collapsed": false,
    "pycharm": {
     "name": "#%% md\n"
    }
   }
  },
  {
   "cell_type": "markdown",
   "source": [
    "## Defining initial state and state array"
   ],
   "metadata": {
    "collapsed": false,
    "pycharm": {
     "name": "#%% md\n"
    }
   }
  },
  {
   "cell_type": "code",
   "source": [
    "initial_state = np.array([S_0, I_0])"
   ],
   "execution_count": 6,
   "outputs": [],
   "metadata": {
    "datalore": {
     "type": "CODE",
     "hide_input_from_viewers": false,
     "hide_output_from_viewers": false
    },
    "pycharm": {
     "name": "#%%\n"
    }
   }
  },
  {
   "cell_type": "code",
   "source": [
    "resolution = 10000"
   ],
   "execution_count": 7,
   "outputs": [],
   "metadata": {
    "datalore": {
     "type": "CODE",
     "hide_input_from_viewers": false,
     "hide_output_from_viewers": false
    },
    "pycharm": {
     "name": "#%%\n"
    }
   }
  },
  {
   "cell_type": "code",
   "execution_count": 8,
   "outputs": [],
   "source": [
    "times = np.linspace(0, 10000, 10000)"
   ],
   "metadata": {
    "collapsed": false,
    "pycharm": {
     "name": "#%%\n"
    }
   }
  },
  {
   "cell_type": "markdown",
   "source": [
    "# Integrative solving of the ODE"
   ],
   "metadata": {
    "collapsed": false,
    "pycharm": {
     "name": "#%% md\n"
    }
   }
  },
  {
   "cell_type": "code",
   "source": [
    "ODE = jitcode_lyap(time_dependent_sir, control_pars=[beta_1], n_lyap=-1)"
   ],
   "execution_count": 9,
   "outputs": [],
   "metadata": {
    "datalore": {
     "type": "CODE",
     "hide_input_from_viewers": false,
     "hide_output_from_viewers": false
    },
    "pycharm": {
     "name": "#%%\n"
    }
   }
  },
  {
   "cell_type": "code",
   "source": [
    "ODE.set_integrator(\"vode\")"
   ],
   "execution_count": 10,
   "outputs": [
    {
     "name": "stdout",
     "output_type": "stream",
     "text": [
      "Generating, compiling, and loading C code.\n",
      "generated C code for f\n",
      "generated symbolic Jacobian\n",
      "generated C code for Jacobian\n"
     ]
    }
   ],
   "metadata": {
    "datalore": {
     "type": "CODE",
     "hide_input_from_viewers": false,
     "hide_output_from_viewers": false
    },
    "pycharm": {
     "name": "#%%\n"
    }
   }
  },
  {
   "cell_type": "code",
   "source": [
    "ODE.set_initial_value(initial_state, time=0.0)"
   ],
   "execution_count": 11,
   "outputs": [],
   "metadata": {
    "datalore": {
     "type": "CODE",
     "hide_input_from_viewers": false,
     "hide_output_from_viewers": false
    },
    "pycharm": {
     "name": "#%%\n"
    }
   }
  },
  {
   "cell_type": "code",
   "source": [
    "beta_1_range = np.linspace(0, 0.3, resolution)"
   ],
   "execution_count": 12,
   "outputs": [],
   "metadata": {
    "datalore": {
     "type": "CODE",
     "hide_input_from_viewers": false,
     "hide_output_from_viewers": false
    },
    "pycharm": {
     "name": "#%%\n"
    }
   }
  },
  {
   "cell_type": "code",
   "source": [
    "bifurcation_map = np.zeros(shape=(10, resolution))"
   ],
   "execution_count": 13,
   "outputs": [],
   "metadata": {
    "datalore": {
     "type": "CODE",
     "hide_input_from_viewers": false,
     "hide_output_from_viewers": false
    },
    "pycharm": {
     "name": "#%%\n"
    }
   }
  },
  {
   "cell_type": "code",
   "source": [
    "lyapunov_map = np.zeros(shape=(resolution))"
   ],
   "execution_count": 14,
   "outputs": [],
   "metadata": {
    "datalore": {
     "type": "CODE",
     "hide_input_from_viewers": false,
     "hide_output_from_viewers": false
    },
    "pycharm": {
     "name": "#%%\n"
    }
   }
  },
  {
   "cell_type": "markdown",
   "source": [
    "## Solving for the entire $\\beta_1$ space with Lyapunov exponents"
   ],
   "metadata": {
    "collapsed": false,
    "pycharm": {
     "name": "#%% md\n"
    }
   }
  },
  {
   "cell_type": "code",
   "source": [
    "for b1idx, i in enumerate(tqdm(beta_1_range)):\n",
    "    ODE.set_initial_value(initial_state, time=0.0)\n",
    "    ODE.set_parameters(i)\n",
    "    \n",
    "    ys, lyaps = [], []\n",
    "\n",
    "    for T in np.arange(0, 10000, 1):\n",
    "        y, lyap, _ = ODE.integrate(T)\n",
    "        if T > 3650:\n",
    "            ys.append(y[1])\n",
    "            lyaps.append(lyap)\n",
    "        \n",
    "    for idx, val in enumerate(ys[4000::365]):\n",
    "        bifurcation_map[idx, b1idx] = val\n",
    "    \n",
    "    lyapunov_map[b1idx] = np.mean(lyaps)"
   ],
   "execution_count": null,
   "outputs": [
    {
     "data": {
      "text/plain": "  0%|          | 0/10000 [00:00<?, ?it/s]",
      "application/vnd.jupyter.widget-view+json": {
       "version_major": 2,
       "version_minor": 0,
       "model_id": "b13871af2b8a4ac79bde3b7cd5b6160e"
      }
     },
     "metadata": {},
     "output_type": "display_data"
    },
    {
     "name": "stderr",
     "output_type": "stream",
     "text": [
      "/Users/csefalvayk/miniconda3/envs/computational-infectious-disease/lib/python3.10/site-packages/jitcode/_jitcode.py:758: RuntimeWarning: divide by zero encountered in true_divide\n",
      "  lyaps = log(norms) / delta_t\n",
      "/Users/csefalvayk/miniconda3/envs/computational-infectious-disease/lib/python3.10/site-packages/jitcode/_jitcode.py:758: RuntimeWarning: invalid value encountered in true_divide\n",
      "  lyaps = log(norms) / delta_t\n"
     ]
    }
   ],
   "metadata": {
    "datalore": {
     "type": "CODE",
     "hide_input_from_viewers": false,
     "hide_output_from_viewers": false
    },
    "pycharm": {
     "name": "#%%\n",
     "is_executing": true
    }
   }
  },
  {
   "cell_type": "markdown",
   "source": [
    "# Plotting results"
   ],
   "metadata": {
    "collapsed": false,
    "pycharm": {
     "name": "#%% md\n"
    }
   }
  },
  {
   "cell_type": "code",
   "source": [
    "fig, axes = plt.subplots(2, 1, figsize=(12, 10), sharex=True, dpi=600)\n",
    "\n",
    "axes[0].set_yscale(\"log\")\n",
    "axes[0].set_xlim((0.025, 0.3))\n",
    "\n",
    "for i in range(10):\n",
    "    axes[0].scatter(beta_1_range, bifurcation_map[i, :], marker=\".\", c=COLORS[\"S\"], alpha=0.5, s=0.1)\n",
    "    \n",
    "for idx, point in enumerate(lyapunov_map):\n",
    "    axes[1].scatter(beta_1_range[idx], point, marker=\".\", c=COLORS[\"D\"], alpha=0.5, s=0.1)\n",
    "\n",
    "    if point > 0:\n",
    "        axes[1].scatter(beta_1_range[idx], point, marker=\".\", c=COLORS[\"I\"], alpha=0.5, s=0.1)\n",
    "\n",
    "axes[0].set_ylabel(\"Fraction of population in $I$\")\n",
    "axes[1].set_ylabel(\"Lyapunov exponent\")\n",
    "axes[1].set_xlabel(\"Amplitude coefficient of forcing ($\\\\beta_1$)\")\n",
    "\n",
    "plt.savefig(\"bifurcation_lyapunov.pdf\")"
   ],
   "execution_count": null,
   "outputs": [],
   "metadata": {
    "datalore": {
     "type": "CODE",
     "hide_input_from_viewers": false,
     "hide_output_from_viewers": false
    },
    "pycharm": {
     "name": "#%%\n",
     "is_executing": true
    }
   }
  }
 ],
 "metadata": {
  "datalore": {
   "version": 1,
   "computation_mode": "JUPYTER",
   "package_manager": "pip",
   "base_environment": "default",
   "packages": [
    {
     "name": "jitcode",
     "version": "1.7.0",
     "source": "PIP"
    }
   ]
  }
 },
 "nbformat": 4,
 "nbformat_minor": 4
}